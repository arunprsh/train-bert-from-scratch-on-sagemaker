{
 "cells": [
  {
   "cell_type": "markdown",
   "metadata": {},
   "source": [
    "#### Prerequisites "
   ]
  },
  {
   "cell_type": "code",
   "execution_count": 1,
   "metadata": {},
   "outputs": [],
   "source": [
    "%%capture \n",
    "\n",
    "!pip install sagemaker==2.100.0\n",
    "!pip install jedi==0.17  # This is a requirement for pygmentize to work"
   ]
  },
  {
   "cell_type": "markdown",
   "metadata": {},
   "source": [
    "#### Imports "
   ]
  },
  {
   "cell_type": "code",
   "execution_count": 2,
   "metadata": {},
   "outputs": [],
   "source": [
    "from sagemaker.huggingface import HuggingFaceProcessor\n",
    "from sagemaker.processing import ProcessingOutput\n",
    "from sagemaker.processing import ProcessingInput\n",
    "from sagemaker import get_execution_role\n",
    "from sagemaker import Session\n",
    "import sagemaker\n",
    "import logging"
   ]
  },
  {
   "cell_type": "markdown",
   "metadata": {},
   "source": [
    "##### Setup logging"
   ]
  },
  {
   "cell_type": "code",
   "execution_count": 3,
   "metadata": {},
   "outputs": [],
   "source": [
    "logger = logging.getLogger('sagemaker')\n",
    "logger.setLevel(logging.DEBUG)\n",
    "logger.addHandler(logging.StreamHandler())"
   ]
  },
  {
   "cell_type": "markdown",
   "metadata": {},
   "source": [
    "##### Log versions of dependencies"
   ]
  },
  {
   "cell_type": "code",
   "execution_count": 4,
   "metadata": {},
   "outputs": [
    {
     "name": "stderr",
     "output_type": "stream",
     "text": [
      "[Using SageMaker version: 2.100.0]\n"
     ]
    }
   ],
   "source": [
    "logger.info(f'[Using SageMaker version: {sagemaker.__version__}]')"
   ]
  },
  {
   "cell_type": "markdown",
   "metadata": {},
   "source": [
    "#### Essentials "
   ]
  },
  {
   "cell_type": "code",
   "execution_count": 5,
   "metadata": {},
   "outputs": [],
   "source": [
    "session = Session()\n",
    "S3_BUCKET = session.default_bucket()\n",
    "ROLE = get_execution_role()\n",
    "\n",
    "S3_INPUT = 'data/covid_articles.txt'\n",
    "S3_OUTPUT = 'data/vocab'\n",
    "INSTANCE_TYPE = 'ml.g4dn.xlarge'\n",
    "INSTANCE_COUNT = 1\n",
    "PYTHON_VERSION = '1.6.0'\n",
    "TRANSFORMERS_VERSION = '4.4.2'\n",
    "BASE_JOB_NAME = 'hf-sm-extract-vocab'\n",
    "SOURCE_DIR = './src'\n",
    "CODE = 'extract_vocab.py'"
   ]
  },
  {
   "cell_type": "code",
   "execution_count": 6,
   "metadata": {},
   "outputs": [
    {
     "name": "stderr",
     "output_type": "stream",
     "text": [
      "S3 bucket = sagemaker-us-east-1-119174016168\n"
     ]
    }
   ],
   "source": [
    "logger.info(f'S3 bucket = {S3_BUCKET}')"
   ]
  },
  {
   "cell_type": "markdown",
   "metadata": {},
   "source": [
    "#### View processing script"
   ]
  },
  {
   "cell_type": "code",
   "execution_count": 7,
   "metadata": {},
   "outputs": [
    {
     "name": "stdout",
     "output_type": "stream",
     "text": [
      "\u001b[34mfrom\u001b[39;49;00m \u001b[04m\u001b[36mtokenizers\u001b[39;49;00m \u001b[34mimport\u001b[39;49;00m BertWordPieceTokenizer\n",
      "\u001b[34mfrom\u001b[39;49;00m \u001b[04m\u001b[36mpathlib\u001b[39;49;00m \u001b[34mimport\u001b[39;49;00m Path\n",
      "\u001b[34mimport\u001b[39;49;00m \u001b[04m\u001b[36mtransformers\u001b[39;49;00m \n",
      "\u001b[34mimport\u001b[39;49;00m \u001b[04m\u001b[36mtokenizers\u001b[39;49;00m\n",
      "\u001b[34mimport\u001b[39;49;00m \u001b[04m\u001b[36mlogging\u001b[39;49;00m\n",
      "\u001b[34mimport\u001b[39;49;00m \u001b[04m\u001b[36msys\u001b[39;49;00m\n",
      "\u001b[34mimport\u001b[39;49;00m \u001b[04m\u001b[36mos\u001b[39;49;00m\n",
      "\n",
      "\n",
      "\u001b[37m# Setup logging\u001b[39;49;00m\n",
      "logger = logging.getLogger(\u001b[31m__name__\u001b[39;49;00m)\n",
      "logging.basicConfig(level=logging.getLevelName(\u001b[33m'\u001b[39;49;00m\u001b[33mINFO\u001b[39;49;00m\u001b[33m'\u001b[39;49;00m), \n",
      "                    handlers=[logging.StreamHandler(sys.stdout)], \n",
      "                    \u001b[36mformat\u001b[39;49;00m=\u001b[33m'\u001b[39;49;00m\u001b[33m%(asctime)s\u001b[39;49;00m\u001b[33m - \u001b[39;49;00m\u001b[33m%(name)s\u001b[39;49;00m\u001b[33m - \u001b[39;49;00m\u001b[33m%(levelname)s\u001b[39;49;00m\u001b[33m - \u001b[39;49;00m\u001b[33m%(message)s\u001b[39;49;00m\u001b[33m'\u001b[39;49;00m)\n",
      "\n",
      "\u001b[37m# Log versions of dependencies\u001b[39;49;00m\n",
      "logger.info(\u001b[33mf\u001b[39;49;00m\u001b[33m'\u001b[39;49;00m\u001b[33m[Using Transformers: \u001b[39;49;00m\u001b[33m{transformers.__version__}\u001b[39;49;00m\u001b[33m]\u001b[39;49;00m\u001b[33m'\u001b[39;49;00m)\n",
      "logger.info(\u001b[33mf\u001b[39;49;00m\u001b[33m'\u001b[39;49;00m\u001b[33m[Using Tokenizers: \u001b[39;49;00m\u001b[33m{tokenizers.__version__}\u001b[39;49;00m\u001b[33m]\u001b[39;49;00m\u001b[33m'\u001b[39;49;00m)\n",
      "\n",
      "\u001b[37m# Essentials\u001b[39;49;00m\n",
      "\u001b[37m# LOCAL_INPUT_PATH is mapped to S3 input location for covid news articles \u001b[39;49;00m\n",
      "LOCAL_INPUT_PATH = \u001b[33m'\u001b[39;49;00m\u001b[33m/opt/ml/processing/input\u001b[39;49;00m\u001b[33m'\u001b[39;49;00m \n",
      "\u001b[37m# LOCAL_OUTPUT_PATH is mapped to S3 output location where we want to save the custom vocabulary after training the tokenizer\u001b[39;49;00m\n",
      "LOCAL_OUTPUT_PATH = \u001b[33m'\u001b[39;49;00m\u001b[33m/opt/ml/processing/output\u001b[39;49;00m\u001b[33m'\u001b[39;49;00m\n",
      "VOCAB_SIZE = \u001b[34m30522\u001b[39;49;00m\n",
      "\n",
      "\u001b[37m# Read input files from local input path \u001b[39;49;00m\n",
      "logger.info(\u001b[33mf\u001b[39;49;00m\u001b[33m'\u001b[39;49;00m\u001b[33mReading input files from [\u001b[39;49;00m\u001b[33m{LOCAL_INPUT_PATH}\u001b[39;49;00m\u001b[33m/]\u001b[39;49;00m\u001b[33m'\u001b[39;49;00m)\n",
      "paths = [\u001b[36mstr\u001b[39;49;00m(x) \u001b[34mfor\u001b[39;49;00m x \u001b[35min\u001b[39;49;00m Path(LOCAL_INPUT_PATH).glob(\u001b[33m'\u001b[39;49;00m\u001b[33m*.txt\u001b[39;49;00m\u001b[33m'\u001b[39;49;00m)]\n",
      "\n",
      "\u001b[37m# Train custom BertWordPiece tokenizer\u001b[39;49;00m\n",
      "logger.info(\u001b[33mf\u001b[39;49;00m\u001b[33m'\u001b[39;49;00m\u001b[33mTraining BertWordPiece custom tokenizer using files in \u001b[39;49;00m\u001b[33m{paths}\u001b[39;49;00m\u001b[33m'\u001b[39;49;00m)\n",
      "tokenizer = BertWordPieceTokenizer()\n",
      "tokenizer.train(files=paths, vocab_size=VOCAB_SIZE)\n",
      "\n",
      "\u001b[37m# Save trained custom tokenizer to local output path\u001b[39;49;00m\n",
      "logger.info(\u001b[33mf\u001b[39;49;00m\u001b[33m'\u001b[39;49;00m\u001b[33mSaving extracted custom vocabulary to [\u001b[39;49;00m\u001b[33m{LOCAL_OUTPUT_PATH}\u001b[39;49;00m\u001b[33m/]\u001b[39;49;00m\u001b[33m'\u001b[39;49;00m)\n",
      "tokenizer.save_model(LOCAL_OUTPUT_PATH)\n",
      "\n",
      "\u001b[37m# Re-create custom tokenizer using vocab from local output path\u001b[39;49;00m\n",
      "logger.info(\u001b[33mf\u001b[39;49;00m\u001b[33m'\u001b[39;49;00m\u001b[33mRe-create BertWordPiece custom tokenizer using extracted custom vocab in \u001b[39;49;00m\u001b[33m{LOCAL_OUTPUT_PATH}\u001b[39;49;00m\u001b[33m'\u001b[39;49;00m)\n",
      "tokenizer = BertWordPieceTokenizer(\u001b[33mf\u001b[39;49;00m\u001b[33m'\u001b[39;49;00m\u001b[33m{LOCAL_OUTPUT_PATH}\u001b[39;49;00m\u001b[33m/vocab.txt\u001b[39;49;00m\u001b[33m'\u001b[39;49;00m)\n",
      "\n",
      "\u001b[37m# Evaluate custom tokenizer \u001b[39;49;00m\n",
      "logger.info(\u001b[33m'\u001b[39;49;00m\u001b[33mEvaluating custom tokenizer\u001b[39;49;00m\u001b[33m'\u001b[39;49;00m)\n",
      "test_sentence = \u001b[33m'\u001b[39;49;00m\u001b[33mcovid19 is a virus\u001b[39;49;00m\u001b[33m'\u001b[39;49;00m\n",
      "logger.info(\u001b[33mf\u001b[39;49;00m\u001b[33m'\u001b[39;49;00m\u001b[33mTest sentence: \u001b[39;49;00m\u001b[33m{test_sentence}\u001b[39;49;00m\u001b[33m'\u001b[39;49;00m)\n",
      "tokens = tokenizer.encode(test_sentence).tokens\n",
      "logger.info(\u001b[33mf\u001b[39;49;00m\u001b[33m'\u001b[39;49;00m\u001b[33mEncoded sentence: \u001b[39;49;00m\u001b[33m{tokens}\u001b[39;49;00m\u001b[33m'\u001b[39;49;00m)\n",
      "token_id = tokenizer.token_to_id(\u001b[33m'\u001b[39;49;00m\u001b[33mcovid19\u001b[39;49;00m\u001b[33m'\u001b[39;49;00m)\n",
      "logger.info(\u001b[33mf\u001b[39;49;00m\u001b[33m'\u001b[39;49;00m\u001b[33mToken ID for token (covid19) = \u001b[39;49;00m\u001b[33m{token_id}\u001b[39;49;00m\u001b[33m'\u001b[39;49;00m)\n",
      "vocab_size = tokenizer.get_vocab_size()\n",
      "logger.info(\u001b[33mf\u001b[39;49;00m\u001b[33m'\u001b[39;49;00m\u001b[33mVocabulary size = \u001b[39;49;00m\u001b[33m{vocab_size}\u001b[39;49;00m\u001b[33m'\u001b[39;49;00m)\n"
     ]
    }
   ],
   "source": [
    "!pygmentize -v ./src/extract_vocab.py"
   ]
  },
  {
   "cell_type": "markdown",
   "metadata": {},
   "source": [
    "#### Create HuggingFace Processor"
   ]
  },
  {
   "cell_type": "code",
   "execution_count": 8,
   "metadata": {},
   "outputs": [],
   "source": [
    "processor = HuggingFaceProcessor(role=ROLE, \n",
    "                                 instance_type=INSTANCE_TYPE, \n",
    "                                 instance_count=INSTANCE_COUNT, \n",
    "                                 transformers_version=TRANSFORMERS_VERSION, \n",
    "                                 pytorch_version=PYTHON_VERSION, \n",
    "                                 base_job_name=BASE_JOB_NAME)"
   ]
  },
  {
   "cell_type": "markdown",
   "metadata": {},
   "source": [
    "#### Run SageMaker Processing Job"
   ]
  },
  {
   "cell_type": "code",
   "execution_count": 9,
   "metadata": {},
   "outputs": [
    {
     "name": "stderr",
     "output_type": "stream",
     "text": [
      "Uploaded ./src to s3://sagemaker-us-east-1-119174016168/hf-sm-extract-vocab-2022-09-21-16-07-39-885/source/sourcedir.tar.gz\n",
      "runproc.sh uploaded to s3://sagemaker-us-east-1-119174016168/hf-sm-extract-vocab-2022-09-21-16-07-39-885/source/runproc.sh\n",
      "Creating processing-job with name hf-sm-extract-vocab-2022-09-21-16-07-39-885\n",
      "process request: {\n",
      "    \"ProcessingJobName\": \"hf-sm-extract-vocab-2022-09-21-16-07-39-885\",\n",
      "    \"ProcessingResources\": {\n",
      "        \"ClusterConfig\": {\n",
      "            \"InstanceType\": \"ml.g4dn.xlarge\",\n",
      "            \"InstanceCount\": 1,\n",
      "            \"VolumeSizeInGB\": 30\n",
      "        }\n",
      "    },\n",
      "    \"AppSpecification\": {\n",
      "        \"ImageUri\": \"763104351884.dkr.ecr.us-east-1.amazonaws.com/huggingface-pytorch-training:1.6.0-transformers4.4.2-gpu-py36-cu110-ubuntu18.04\",\n",
      "        \"ContainerEntrypoint\": [\n",
      "            \"/bin/bash\",\n",
      "            \"/opt/ml/processing/input/entrypoint/runproc.sh\"\n",
      "        ]\n",
      "    },\n",
      "    \"RoleArn\": \"arn:aws:iam::119174016168:role/service-role/AmazonSageMaker-ExecutionRole-20211014T093628\",\n",
      "    \"ProcessingInputs\": [\n",
      "        {\n",
      "            \"InputName\": \"articles\",\n",
      "            \"AppManaged\": false,\n",
      "            \"S3Input\": {\n",
      "                \"S3Uri\": \"s3://sagemaker-us-east-1-119174016168/data/covid_articles.txt\",\n",
      "                \"LocalPath\": \"/opt/ml/processing/input\",\n",
      "                \"S3DataType\": \"S3Prefix\",\n",
      "                \"S3InputMode\": \"File\",\n",
      "                \"S3DataDistributionType\": \"FullyReplicated\",\n",
      "                \"S3CompressionType\": \"None\"\n",
      "            }\n",
      "        },\n",
      "        {\n",
      "            \"InputName\": \"code\",\n",
      "            \"AppManaged\": false,\n",
      "            \"S3Input\": {\n",
      "                \"S3Uri\": \"s3://sagemaker-us-east-1-119174016168/hf-sm-extract-vocab-2022-09-21-16-07-39-885/source/sourcedir.tar.gz\",\n",
      "                \"LocalPath\": \"/opt/ml/processing/input/code/\",\n",
      "                \"S3DataType\": \"S3Prefix\",\n",
      "                \"S3InputMode\": \"File\",\n",
      "                \"S3DataDistributionType\": \"FullyReplicated\",\n",
      "                \"S3CompressionType\": \"None\"\n",
      "            }\n",
      "        },\n",
      "        {\n",
      "            \"InputName\": \"entrypoint\",\n",
      "            \"AppManaged\": false,\n",
      "            \"S3Input\": {\n",
      "                \"S3Uri\": \"s3://sagemaker-us-east-1-119174016168/hf-sm-extract-vocab-2022-09-21-16-07-39-885/source/runproc.sh\",\n",
      "                \"LocalPath\": \"/opt/ml/processing/input/entrypoint\",\n",
      "                \"S3DataType\": \"S3Prefix\",\n",
      "                \"S3InputMode\": \"File\",\n",
      "                \"S3DataDistributionType\": \"FullyReplicated\",\n",
      "                \"S3CompressionType\": \"None\"\n",
      "            }\n",
      "        }\n",
      "    ],\n",
      "    \"ProcessingOutputConfig\": {\n",
      "        \"Outputs\": [\n",
      "            {\n",
      "                \"OutputName\": \"custom vocab\",\n",
      "                \"AppManaged\": false,\n",
      "                \"S3Output\": {\n",
      "                    \"S3Uri\": \"s3://sagemaker-us-east-1-119174016168/data/vocab\",\n",
      "                    \"LocalPath\": \"/opt/ml/processing/output\",\n",
      "                    \"S3UploadMode\": \"EndOfJob\"\n",
      "                }\n",
      "            }\n",
      "        ]\n",
      "    }\n",
      "}\n"
     ]
    },
    {
     "name": "stdout",
     "output_type": "stream",
     "text": [
      "\n",
      "Job Name:  hf-sm-extract-vocab-2022-09-21-16-07-39-885\n",
      "Inputs:  [{'InputName': 'articles', 'AppManaged': False, 'S3Input': {'S3Uri': 's3://sagemaker-us-east-1-119174016168/data/covid_articles.txt', 'LocalPath': '/opt/ml/processing/input', 'S3DataType': 'S3Prefix', 'S3InputMode': 'File', 'S3DataDistributionType': 'FullyReplicated', 'S3CompressionType': 'None'}}, {'InputName': 'code', 'AppManaged': False, 'S3Input': {'S3Uri': 's3://sagemaker-us-east-1-119174016168/hf-sm-extract-vocab-2022-09-21-16-07-39-885/source/sourcedir.tar.gz', 'LocalPath': '/opt/ml/processing/input/code/', 'S3DataType': 'S3Prefix', 'S3InputMode': 'File', 'S3DataDistributionType': 'FullyReplicated', 'S3CompressionType': 'None'}}, {'InputName': 'entrypoint', 'AppManaged': False, 'S3Input': {'S3Uri': 's3://sagemaker-us-east-1-119174016168/hf-sm-extract-vocab-2022-09-21-16-07-39-885/source/runproc.sh', 'LocalPath': '/opt/ml/processing/input/entrypoint', 'S3DataType': 'S3Prefix', 'S3InputMode': 'File', 'S3DataDistributionType': 'FullyReplicated', 'S3CompressionType': 'None'}}]\n",
      "Outputs:  [{'OutputName': 'custom vocab', 'AppManaged': False, 'S3Output': {'S3Uri': 's3://sagemaker-us-east-1-119174016168/data/vocab', 'LocalPath': '/opt/ml/processing/output', 'S3UploadMode': 'EndOfJob'}}]\n",
      "CPU times: user 120 ms, sys: 12.9 ms, total: 133 ms\n",
      "Wall time: 688 ms\n"
     ]
    }
   ],
   "source": [
    "%%time\n",
    "\n",
    "processor.run(code=CODE, \n",
    "              source_dir=SOURCE_DIR,\n",
    "              inputs=[ProcessingInput(input_name='articles', \n",
    "                                      source=f's3://{S3_BUCKET}/{S3_INPUT}', \n",
    "                                      destination='/opt/ml/processing/input')],\n",
    "              outputs=[ProcessingOutput(output_name='custom vocab', \n",
    "                                        source='/opt/ml/processing/output', \n",
    "                                        destination=f's3://{S3_BUCKET}/{S3_OUTPUT}')],\n",
    "             wait=False)"
   ]
  },
  {
   "cell_type": "code",
   "execution_count": null,
   "metadata": {},
   "outputs": [],
   "source": []
  }
 ],
 "metadata": {
  "instance_type": "ml.t3.medium",
  "kernelspec": {
   "display_name": "Python 3 (Data Science)",
   "language": "python",
   "name": "python3__SAGEMAKER_INTERNAL__arn:aws:sagemaker:us-east-1:081325390199:image/datascience-1.0"
  },
  "language_info": {
   "codemirror_mode": {
    "name": "ipython",
    "version": 3
   },
   "file_extension": ".py",
   "mimetype": "text/x-python",
   "name": "python",
   "nbconvert_exporter": "python",
   "pygments_lexer": "ipython3",
   "version": "3.7.10"
  }
 },
 "nbformat": 4,
 "nbformat_minor": 5
}
