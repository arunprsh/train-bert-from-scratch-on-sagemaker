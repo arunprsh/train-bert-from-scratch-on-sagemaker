{
 "cells": [
  {
   "cell_type": "markdown",
   "metadata": {},
   "source": [
    "#### Prerequisites"
   ]
  },
  {
   "cell_type": "code",
   "execution_count": 1,
   "metadata": {},
   "outputs": [],
   "source": [
    "%%capture \n",
    "\n",
    "!pip install sagemaker==2.100.0\n",
    "!pip install jedi==0.17  # This is a requirement for pygmentize to work"
   ]
  },
  {
   "cell_type": "markdown",
   "metadata": {},
   "source": [
    "#### Imports "
   ]
  },
  {
   "cell_type": "code",
   "execution_count": 2,
   "metadata": {},
   "outputs": [],
   "source": [
    "from sagemaker.huggingface import HuggingFaceProcessor\n",
    "from sagemaker.processing import ProcessingOutput\n",
    "from sagemaker.processing import ProcessingInput\n",
    "from sagemaker import get_execution_role\n",
    "from sagemaker import Session\n",
    "import sagemaker\n",
    "import logging"
   ]
  },
  {
   "cell_type": "markdown",
   "metadata": {},
   "source": [
    "##### Setup logging"
   ]
  },
  {
   "cell_type": "code",
   "execution_count": 3,
   "metadata": {},
   "outputs": [],
   "source": [
    "logger = logging.getLogger('sagemaker')\n",
    "logger.setLevel(logging.DEBUG)\n",
    "logger.addHandler(logging.StreamHandler())"
   ]
  },
  {
   "cell_type": "markdown",
   "metadata": {},
   "source": [
    "##### Log versions of dependencies"
   ]
  },
  {
   "cell_type": "code",
   "execution_count": 4,
   "metadata": {},
   "outputs": [
    {
     "name": "stderr",
     "output_type": "stream",
     "text": [
      "[Using SageMaker version: 2.100.0]\n"
     ]
    }
   ],
   "source": [
    "logger.info(f'[Using SageMaker version: {sagemaker.__version__}]')"
   ]
  },
  {
   "cell_type": "markdown",
   "metadata": {},
   "source": [
    "#### Essentials "
   ]
  },
  {
   "cell_type": "code",
   "execution_count": 5,
   "metadata": {},
   "outputs": [],
   "source": [
    "session = Session()\n",
    "S3_BUCKET = session.default_bucket()\n",
    "ROLE = get_execution_role()\n",
    "\n",
    "S3_INPUT = 'data/covid_articles.txt'\n",
    "S3_VOCAB = 'data/vocab/vocab.txt'\n",
    "S3_OUTPUT = 'data/processed'\n",
    "INSTANCE_TYPE = 'ml.g4dn.xlarge'\n",
    "INSTANCE_COUNT = 1\n",
    "PYTHON_VERSION = '1.6.0'\n",
    "TRANSFORMERS_VERSION = '4.4.2'\n",
    "BASE_JOB_NAME = 'hf-sm-mlm-custom-tokenize'\n",
    "SOURCE_DIR = './src'\n",
    "CODE = 'preprocess_mlm_custom.py'"
   ]
  },
  {
   "cell_type": "code",
   "execution_count": 6,
   "metadata": {},
   "outputs": [
    {
     "name": "stderr",
     "output_type": "stream",
     "text": [
      "S3 bucket = sagemaker-us-east-1-119174016168\n"
     ]
    }
   ],
   "source": [
    "logger.info(f'S3 bucket = {S3_BUCKET}')"
   ]
  },
  {
   "cell_type": "markdown",
   "metadata": {},
   "source": [
    "#### View processing script"
   ]
  },
  {
   "cell_type": "code",
   "execution_count": 7,
   "metadata": {},
   "outputs": [
    {
     "name": "stdout",
     "output_type": "stream",
     "text": [
      "\u001b[34mfrom\u001b[39;49;00m \u001b[04m\u001b[36mtransformers\u001b[39;49;00m \u001b[34mimport\u001b[39;49;00m BertTokenizerFast\n",
      "\u001b[34mfrom\u001b[39;49;00m \u001b[04m\u001b[36mtransformers\u001b[39;49;00m \u001b[34mimport\u001b[39;49;00m BertConfig\n",
      "\u001b[34mfrom\u001b[39;49;00m \u001b[04m\u001b[36mdatasets\u001b[39;49;00m \u001b[34mimport\u001b[39;49;00m load_dataset\n",
      "\u001b[34mfrom\u001b[39;49;00m \u001b[04m\u001b[36mdatasets\u001b[39;49;00m \u001b[34mimport\u001b[39;49;00m DatasetDict\n",
      "\u001b[34mfrom\u001b[39;49;00m \u001b[04m\u001b[36mpathlib\u001b[39;49;00m \u001b[34mimport\u001b[39;49;00m Path\n",
      "\u001b[34mimport\u001b[39;49;00m \u001b[04m\u001b[36mtransformers\u001b[39;49;00m \n",
      "\u001b[34mimport\u001b[39;49;00m \u001b[04m\u001b[36mdatasets\u001b[39;49;00m\n",
      "\u001b[34mimport\u001b[39;49;00m \u001b[04m\u001b[36mlogging\u001b[39;49;00m\n",
      "\u001b[34mimport\u001b[39;49;00m \u001b[04m\u001b[36msys\u001b[39;49;00m\n",
      "\u001b[34mimport\u001b[39;49;00m \u001b[04m\u001b[36mos\u001b[39;49;00m\n",
      "\n",
      "\n",
      "\u001b[37m# Setup logging\u001b[39;49;00m\n",
      "logger = logging.getLogger(\u001b[31m__name__\u001b[39;49;00m)\n",
      "logging.basicConfig(level=logging.getLevelName(\u001b[33m'\u001b[39;49;00m\u001b[33mINFO\u001b[39;49;00m\u001b[33m'\u001b[39;49;00m), \n",
      "                    handlers=[logging.StreamHandler(sys.stdout)], \n",
      "                    \u001b[36mformat\u001b[39;49;00m=\u001b[33m'\u001b[39;49;00m\u001b[33m%(asctime)s\u001b[39;49;00m\u001b[33m - \u001b[39;49;00m\u001b[33m%(name)s\u001b[39;49;00m\u001b[33m - \u001b[39;49;00m\u001b[33m%(levelname)s\u001b[39;49;00m\u001b[33m - \u001b[39;49;00m\u001b[33m%(message)s\u001b[39;49;00m\u001b[33m'\u001b[39;49;00m)\n",
      "\n",
      "\u001b[37m# Log versions of dependencies\u001b[39;49;00m\n",
      "logger.info(\u001b[33mf\u001b[39;49;00m\u001b[33m'\u001b[39;49;00m\u001b[33m[Using Transformers: \u001b[39;49;00m\u001b[33m{transformers.__version__}\u001b[39;49;00m\u001b[33m]\u001b[39;49;00m\u001b[33m'\u001b[39;49;00m)\n",
      "logger.info(\u001b[33mf\u001b[39;49;00m\u001b[33m'\u001b[39;49;00m\u001b[33m[Using Datasets: \u001b[39;49;00m\u001b[33m{datasets.__version__}\u001b[39;49;00m\u001b[33m]\u001b[39;49;00m\u001b[33m'\u001b[39;49;00m)\n",
      "\n",
      "\u001b[37m# Essentials\u001b[39;49;00m\n",
      "\u001b[37m# LOCAL_INPUT_PATH is mapped to S3 input location for covid news articles \u001b[39;49;00m\n",
      "LOCAL_INPUT_PATH = \u001b[33m'\u001b[39;49;00m\u001b[33m/opt/ml/processing/input\u001b[39;49;00m\u001b[33m'\u001b[39;49;00m \n",
      "\u001b[37m# LOCAL_OUTPUT_PATH is mapped to S3 output location where we want to save the processed input data (COVID articles)\u001b[39;49;00m\n",
      "LOCAL_OUTPUT_PATH = \u001b[33m'\u001b[39;49;00m\u001b[33m/opt/ml/processing/output\u001b[39;49;00m\u001b[33m'\u001b[39;49;00m\n",
      "MAX_LENGTH = \u001b[34m512\u001b[39;49;00m\n",
      "CHUNK_SIZE = \u001b[34m128\u001b[39;49;00m\n",
      "N_GPUS = \u001b[34m1\u001b[39;49;00m\n",
      "\n",
      "\u001b[37m# Re-create BERT WordPiece tokenizer using the saved custom vocabulary from the previous job\u001b[39;49;00m\n",
      "config = BertConfig()\n",
      "logger.info(\u001b[33mf\u001b[39;49;00m\u001b[33m'\u001b[39;49;00m\u001b[33mRe-creating BERT tokenizer using custom vocabulary from [\u001b[39;49;00m\u001b[33m{LOCAL_INPUT_PATH}\u001b[39;49;00m\u001b[33m/vocab/]\u001b[39;49;00m\u001b[33m'\u001b[39;49;00m)\n",
      "tokenizer = BertTokenizerFast.from_pretrained(\u001b[33mf\u001b[39;49;00m\u001b[33m'\u001b[39;49;00m\u001b[33m{LOCAL_INPUT_PATH}\u001b[39;49;00m\u001b[33m/vocab\u001b[39;49;00m\u001b[33m'\u001b[39;49;00m, config=config)\n",
      "tokenizer.model_max_length = MAX_LENGTH\n",
      "tokenizer.init_kwargs[\u001b[33m'\u001b[39;49;00m\u001b[33mmodel_max_length\u001b[39;49;00m\u001b[33m'\u001b[39;49;00m] = MAX_LENGTH\n",
      "logger.info(\u001b[33mf\u001b[39;49;00m\u001b[33m'\u001b[39;49;00m\u001b[33mTokenizer: \u001b[39;49;00m\u001b[33m{tokenizer}\u001b[39;49;00m\u001b[33m'\u001b[39;49;00m)\n",
      "\n",
      "\u001b[37m# Read dataset and collate to create mini batches for Masked Language Model (MLM) training\u001b[39;49;00m\n",
      "logger.info(\u001b[33m'\u001b[39;49;00m\u001b[33mReading and collating input data to create mini batches for Masked Language Model (MLM) training\u001b[39;49;00m\u001b[33m'\u001b[39;49;00m)\n",
      "dataset = load_dataset(\u001b[33m'\u001b[39;49;00m\u001b[33mtext\u001b[39;49;00m\u001b[33m'\u001b[39;49;00m, data_files=\u001b[33mf\u001b[39;49;00m\u001b[33m'\u001b[39;49;00m\u001b[33m{LOCAL_INPUT_PATH}\u001b[39;49;00m\u001b[33m/data/covid_articles.txt\u001b[39;49;00m\u001b[33m'\u001b[39;49;00m, split=\u001b[33m'\u001b[39;49;00m\u001b[33mtrain\u001b[39;49;00m\u001b[33m'\u001b[39;49;00m, cache_dir=\u001b[33m'\u001b[39;49;00m\u001b[33m/tmp/cache\u001b[39;49;00m\u001b[33m'\u001b[39;49;00m)\n",
      "logger.info(\u001b[33mf\u001b[39;49;00m\u001b[33m'\u001b[39;49;00m\u001b[33mDataset: \u001b[39;49;00m\u001b[33m{dataset}\u001b[39;49;00m\u001b[33m'\u001b[39;49;00m)\n",
      "\n",
      "\u001b[37m# Split dataset into train and validation splits \u001b[39;49;00m\n",
      "logger.info(\u001b[33m'\u001b[39;49;00m\u001b[33mSplitting dataset into train and validation splits\u001b[39;49;00m\u001b[33m'\u001b[39;49;00m)\n",
      "train_test_splits = dataset.train_test_split(shuffle=\u001b[34mTrue\u001b[39;49;00m, seed=\u001b[34m123\u001b[39;49;00m, test_size=\u001b[34m0.1\u001b[39;49;00m)\n",
      "data_splits = DatasetDict({\u001b[33m'\u001b[39;49;00m\u001b[33mtrain\u001b[39;49;00m\u001b[33m'\u001b[39;49;00m: train_test_splits[\u001b[33m'\u001b[39;49;00m\u001b[33mtrain\u001b[39;49;00m\u001b[33m'\u001b[39;49;00m], \n",
      "                           \u001b[33m'\u001b[39;49;00m\u001b[33mvalidation\u001b[39;49;00m\u001b[33m'\u001b[39;49;00m: train_test_splits[\u001b[33m'\u001b[39;49;00m\u001b[33mtest\u001b[39;49;00m\u001b[33m'\u001b[39;49;00m]})\n",
      "logger.info(\u001b[33mf\u001b[39;49;00m\u001b[33m'\u001b[39;49;00m\u001b[33mData splits: \u001b[39;49;00m\u001b[33m{data_splits}\u001b[39;49;00m\u001b[33m'\u001b[39;49;00m)\n",
      "    \n",
      "\n",
      "\u001b[37m# Tokenize dataset\u001b[39;49;00m\n",
      "\u001b[34mdef\u001b[39;49;00m \u001b[32mtokenize\u001b[39;49;00m(article):\n",
      "    tokenized_article = tokenizer(article[\u001b[33m'\u001b[39;49;00m\u001b[33mtext\u001b[39;49;00m\u001b[33m'\u001b[39;49;00m])\n",
      "    \u001b[34mif\u001b[39;49;00m tokenizer.is_fast:\n",
      "        tokenized_article[\u001b[33m'\u001b[39;49;00m\u001b[33mword_ids\u001b[39;49;00m\u001b[33m'\u001b[39;49;00m] = [tokenized_article.word_ids(i) \u001b[34mfor\u001b[39;49;00m i \u001b[35min\u001b[39;49;00m \u001b[36mrange\u001b[39;49;00m(\u001b[36mlen\u001b[39;49;00m(tokenized_article[\u001b[33m'\u001b[39;49;00m\u001b[33minput_ids\u001b[39;49;00m\u001b[33m'\u001b[39;49;00m]))]\n",
      "    \u001b[34mreturn\u001b[39;49;00m tokenized_article\n",
      "\n",
      "\n",
      "logger.info(\u001b[33m'\u001b[39;49;00m\u001b[33mTokenizing dataset splits\u001b[39;49;00m\u001b[33m'\u001b[39;49;00m)\n",
      "num_proc = \u001b[36mint\u001b[39;49;00m(os.cpu_count()/N_GPUS)\n",
      "logger.info(\u001b[33mf\u001b[39;49;00m\u001b[33m'\u001b[39;49;00m\u001b[33mTotal number of processes = \u001b[39;49;00m\u001b[33m{num_proc}\u001b[39;49;00m\u001b[33m'\u001b[39;49;00m)\n",
      "tokenized_datasets = data_splits.map(tokenize, batched=\u001b[34mTrue\u001b[39;49;00m, num_proc=num_proc, remove_columns=[\u001b[33m'\u001b[39;49;00m\u001b[33mtext\u001b[39;49;00m\u001b[33m'\u001b[39;49;00m])\n",
      "logger.info(\u001b[33mf\u001b[39;49;00m\u001b[33m'\u001b[39;49;00m\u001b[33mTokenized datasets: \u001b[39;49;00m\u001b[33m{tokenized_datasets}\u001b[39;49;00m\u001b[33m'\u001b[39;49;00m)\n",
      "\n",
      "\n",
      "\u001b[37m# Concat and chunk dataset \u001b[39;49;00m\n",
      "\u001b[34mdef\u001b[39;49;00m \u001b[32mconcat_and_chunk\u001b[39;49;00m(articles):\n",
      "    \u001b[37m# Concatenate all texts\u001b[39;49;00m\n",
      "    concatenated_examples = {key: \u001b[36msum\u001b[39;49;00m(articles[key], []) \u001b[34mfor\u001b[39;49;00m key \u001b[35min\u001b[39;49;00m articles.keys()}\n",
      "    \u001b[37m# Compute length of concatenated texts\u001b[39;49;00m\n",
      "    total_length = \u001b[36mlen\u001b[39;49;00m(concatenated_examples[\u001b[36mlist\u001b[39;49;00m(articles.keys())[\u001b[34m0\u001b[39;49;00m]])\n",
      "    \u001b[37m# We drop the last chunk if it's smaller than chunk_size\u001b[39;49;00m\n",
      "    total_length = (total_length//CHUNK_SIZE) * CHUNK_SIZE\n",
      "    \u001b[37m# Split by chunks of max_len\u001b[39;49;00m\n",
      "    chunked_articles = {key: [text[i : i+CHUNK_SIZE] \u001b[34mfor\u001b[39;49;00m i \u001b[35min\u001b[39;49;00m \u001b[36mrange\u001b[39;49;00m(\u001b[34m0\u001b[39;49;00m, total_length, CHUNK_SIZE)] \u001b[34mfor\u001b[39;49;00m key, text \u001b[35min\u001b[39;49;00m concatenated_examples.items()}\n",
      "    \u001b[37m# Create a new labels column\u001b[39;49;00m\n",
      "    chunked_articles[\u001b[33m'\u001b[39;49;00m\u001b[33mlabels\u001b[39;49;00m\u001b[33m'\u001b[39;49;00m] = chunked_articles[\u001b[33m'\u001b[39;49;00m\u001b[33minput_ids\u001b[39;49;00m\u001b[33m'\u001b[39;49;00m].copy()\n",
      "    \u001b[34mreturn\u001b[39;49;00m chunked_articles\n",
      "    \n",
      "logger.info(\u001b[33m'\u001b[39;49;00m\u001b[33mConcatenating and chunking the datasets to a fixed length\u001b[39;49;00m\u001b[33m'\u001b[39;49;00m)\n",
      "chunked_datasets = tokenized_datasets.map(concat_and_chunk, batched=\u001b[34mTrue\u001b[39;49;00m, num_proc=num_proc)\n",
      "logger.info(\u001b[33mf\u001b[39;49;00m\u001b[33m'\u001b[39;49;00m\u001b[33mChunked datasets: \u001b[39;49;00m\u001b[33m{chunked_datasets}\u001b[39;49;00m\u001b[33m'\u001b[39;49;00m)\n",
      "\n",
      "\u001b[37m# Save chunked datasets to local disk (EBS volume)\u001b[39;49;00m\n",
      "logger.info(\u001b[33mf\u001b[39;49;00m\u001b[33m'\u001b[39;49;00m\u001b[33mSaving chunked datasets to local disk \u001b[39;49;00m\u001b[33m{LOCAL_OUTPUT_PATH}\u001b[39;49;00m\u001b[33m'\u001b[39;49;00m)\n",
      "chunked_datasets.save_to_disk(\u001b[33mf\u001b[39;49;00m\u001b[33m'\u001b[39;49;00m\u001b[33m{LOCAL_OUTPUT_PATH}\u001b[39;49;00m\u001b[33m'\u001b[39;49;00m)\n",
      "\n",
      "\u001b[37m# Validate if datasets were saved correctly\u001b[39;49;00m\n",
      "logger.info(\u001b[33m'\u001b[39;49;00m\u001b[33mValidating if datasets were saved correctly\u001b[39;49;00m\u001b[33m'\u001b[39;49;00m)\n",
      "reloaded_dataset = datasets.load_from_disk(\u001b[33mf\u001b[39;49;00m\u001b[33m'\u001b[39;49;00m\u001b[33m{LOCAL_OUTPUT_PATH}\u001b[39;49;00m\u001b[33m'\u001b[39;49;00m)\n",
      "logger.info(\u001b[33mf\u001b[39;49;00m\u001b[33m'\u001b[39;49;00m\u001b[33mReloaded dataset: \u001b[39;49;00m\u001b[33m{reloaded_dataset}\u001b[39;49;00m\u001b[33m'\u001b[39;49;00m)\n"
     ]
    }
   ],
   "source": [
    "!pygmentize -v ./src/preprocess_mlm_custom.py"
   ]
  },
  {
   "cell_type": "markdown",
   "metadata": {},
   "source": [
    "#### Create HuggingFace Processor"
   ]
  },
  {
   "cell_type": "code",
   "execution_count": 8,
   "metadata": {},
   "outputs": [],
   "source": [
    "processor = HuggingFaceProcessor(role=ROLE, \n",
    "                                 instance_type=INSTANCE_TYPE, \n",
    "                                 instance_count=INSTANCE_COUNT, \n",
    "                                 transformers_version=TRANSFORMERS_VERSION, \n",
    "                                 pytorch_version=PYTHON_VERSION, \n",
    "                                 base_job_name=BASE_JOB_NAME)"
   ]
  },
  {
   "cell_type": "markdown",
   "metadata": {},
   "source": [
    "#### Run SageMaker Processing Job"
   ]
  },
  {
   "cell_type": "code",
   "execution_count": 9,
   "metadata": {},
   "outputs": [
    {
     "name": "stderr",
     "output_type": "stream",
     "text": [
      "Uploaded ./src to s3://sagemaker-us-east-1-119174016168/hf-sm-mlm-custom-tokenize-2022-09-22-21-02-44-063/source/sourcedir.tar.gz\n",
      "runproc.sh uploaded to s3://sagemaker-us-east-1-119174016168/hf-sm-mlm-custom-tokenize-2022-09-22-21-02-44-063/source/runproc.sh\n",
      "Creating processing-job with name hf-sm-mlm-custom-tokenize-2022-09-22-21-02-44-063\n",
      "process request: {\n",
      "    \"ProcessingJobName\": \"hf-sm-mlm-custom-tokenize-2022-09-22-21-02-44-063\",\n",
      "    \"ProcessingResources\": {\n",
      "        \"ClusterConfig\": {\n",
      "            \"InstanceType\": \"ml.g4dn.xlarge\",\n",
      "            \"InstanceCount\": 1,\n",
      "            \"VolumeSizeInGB\": 30\n",
      "        }\n",
      "    },\n",
      "    \"AppSpecification\": {\n",
      "        \"ImageUri\": \"763104351884.dkr.ecr.us-east-1.amazonaws.com/huggingface-pytorch-training:1.6.0-transformers4.4.2-gpu-py36-cu110-ubuntu18.04\",\n",
      "        \"ContainerEntrypoint\": [\n",
      "            \"/bin/bash\",\n",
      "            \"/opt/ml/processing/input/entrypoint/runproc.sh\"\n",
      "        ]\n",
      "    },\n",
      "    \"RoleArn\": \"arn:aws:iam::119174016168:role/service-role/AmazonSageMaker-ExecutionRole-20211014T093628\",\n",
      "    \"ProcessingInputs\": [\n",
      "        {\n",
      "            \"InputName\": \"covid-articles\",\n",
      "            \"AppManaged\": false,\n",
      "            \"S3Input\": {\n",
      "                \"S3Uri\": \"s3://sagemaker-us-east-1-119174016168/data/covid_articles.txt\",\n",
      "                \"LocalPath\": \"/opt/ml/processing/input/data\",\n",
      "                \"S3DataType\": \"S3Prefix\",\n",
      "                \"S3InputMode\": \"File\",\n",
      "                \"S3DataDistributionType\": \"FullyReplicated\",\n",
      "                \"S3CompressionType\": \"None\"\n",
      "            }\n",
      "        },\n",
      "        {\n",
      "            \"InputName\": \"custom-vocab\",\n",
      "            \"AppManaged\": false,\n",
      "            \"S3Input\": {\n",
      "                \"S3Uri\": \"s3://sagemaker-us-east-1-119174016168/data/vocab/vocab.txt\",\n",
      "                \"LocalPath\": \"/opt/ml/processing/input/vocab\",\n",
      "                \"S3DataType\": \"S3Prefix\",\n",
      "                \"S3InputMode\": \"File\",\n",
      "                \"S3DataDistributionType\": \"FullyReplicated\",\n",
      "                \"S3CompressionType\": \"None\"\n",
      "            }\n",
      "        },\n",
      "        {\n",
      "            \"InputName\": \"code\",\n",
      "            \"AppManaged\": false,\n",
      "            \"S3Input\": {\n",
      "                \"S3Uri\": \"s3://sagemaker-us-east-1-119174016168/hf-sm-mlm-custom-tokenize-2022-09-22-21-02-44-063/source/sourcedir.tar.gz\",\n",
      "                \"LocalPath\": \"/opt/ml/processing/input/code/\",\n",
      "                \"S3DataType\": \"S3Prefix\",\n",
      "                \"S3InputMode\": \"File\",\n",
      "                \"S3DataDistributionType\": \"FullyReplicated\",\n",
      "                \"S3CompressionType\": \"None\"\n",
      "            }\n",
      "        },\n",
      "        {\n",
      "            \"InputName\": \"entrypoint\",\n",
      "            \"AppManaged\": false,\n",
      "            \"S3Input\": {\n",
      "                \"S3Uri\": \"s3://sagemaker-us-east-1-119174016168/hf-sm-mlm-custom-tokenize-2022-09-22-21-02-44-063/source/runproc.sh\",\n",
      "                \"LocalPath\": \"/opt/ml/processing/input/entrypoint\",\n",
      "                \"S3DataType\": \"S3Prefix\",\n",
      "                \"S3InputMode\": \"File\",\n",
      "                \"S3DataDistributionType\": \"FullyReplicated\",\n",
      "                \"S3CompressionType\": \"None\"\n",
      "            }\n",
      "        }\n",
      "    ],\n",
      "    \"ProcessingOutputConfig\": {\n",
      "        \"Outputs\": [\n",
      "            {\n",
      "                \"OutputName\": \"tokenized-datasets\",\n",
      "                \"AppManaged\": false,\n",
      "                \"S3Output\": {\n",
      "                    \"S3Uri\": \"s3://sagemaker-us-east-1-119174016168/data/processed\",\n",
      "                    \"LocalPath\": \"/opt/ml/processing/output\",\n",
      "                    \"S3UploadMode\": \"EndOfJob\"\n",
      "                }\n",
      "            }\n",
      "        ]\n",
      "    }\n",
      "}\n"
     ]
    },
    {
     "name": "stdout",
     "output_type": "stream",
     "text": [
      "\n",
      "Job Name:  hf-sm-mlm-custom-tokenize-2022-09-22-21-02-44-063\n",
      "Inputs:  [{'InputName': 'covid-articles', 'AppManaged': False, 'S3Input': {'S3Uri': 's3://sagemaker-us-east-1-119174016168/data/covid_articles.txt', 'LocalPath': '/opt/ml/processing/input/data', 'S3DataType': 'S3Prefix', 'S3InputMode': 'File', 'S3DataDistributionType': 'FullyReplicated', 'S3CompressionType': 'None'}}, {'InputName': 'custom-vocab', 'AppManaged': False, 'S3Input': {'S3Uri': 's3://sagemaker-us-east-1-119174016168/data/vocab/vocab.txt', 'LocalPath': '/opt/ml/processing/input/vocab', 'S3DataType': 'S3Prefix', 'S3InputMode': 'File', 'S3DataDistributionType': 'FullyReplicated', 'S3CompressionType': 'None'}}, {'InputName': 'code', 'AppManaged': False, 'S3Input': {'S3Uri': 's3://sagemaker-us-east-1-119174016168/hf-sm-mlm-custom-tokenize-2022-09-22-21-02-44-063/source/sourcedir.tar.gz', 'LocalPath': '/opt/ml/processing/input/code/', 'S3DataType': 'S3Prefix', 'S3InputMode': 'File', 'S3DataDistributionType': 'FullyReplicated', 'S3CompressionType': 'None'}}, {'InputName': 'entrypoint', 'AppManaged': False, 'S3Input': {'S3Uri': 's3://sagemaker-us-east-1-119174016168/hf-sm-mlm-custom-tokenize-2022-09-22-21-02-44-063/source/runproc.sh', 'LocalPath': '/opt/ml/processing/input/entrypoint', 'S3DataType': 'S3Prefix', 'S3InputMode': 'File', 'S3DataDistributionType': 'FullyReplicated', 'S3CompressionType': 'None'}}]\n",
      "Outputs:  [{'OutputName': 'tokenized-datasets', 'AppManaged': False, 'S3Output': {'S3Uri': 's3://sagemaker-us-east-1-119174016168/data/processed', 'LocalPath': '/opt/ml/processing/output', 'S3UploadMode': 'EndOfJob'}}]\n",
      "CPU times: user 117 ms, sys: 17.4 ms, total: 134 ms\n",
      "Wall time: 553 ms\n"
     ]
    }
   ],
   "source": [
    "%%time\n",
    "\n",
    "processor.run(code=CODE, \n",
    "              source_dir=SOURCE_DIR,\n",
    "              inputs=[ProcessingInput(input_name='covid-articles', \n",
    "                                      source=f's3://{S3_BUCKET}/{S3_INPUT}', \n",
    "                                      destination='/opt/ml/processing/input/data'),\n",
    "                      ProcessingInput(input_name='custom-vocab',\n",
    "                                      source=f's3://{S3_BUCKET}/{S3_VOCAB}',\n",
    "                                      destination='/opt/ml/processing/input/vocab')],\n",
    "              outputs=[ProcessingOutput(output_name='tokenized-datasets', \n",
    "                                        source='/opt/ml/processing/output', \n",
    "                                        destination=f's3://{S3_BUCKET}/{S3_OUTPUT}')], \n",
    "              wait=False)"
   ]
  },
  {
   "cell_type": "code",
   "execution_count": null,
   "metadata": {},
   "outputs": [],
   "source": []
  }
 ],
 "metadata": {
  "instance_type": "ml.t3.medium",
  "kernelspec": {
   "display_name": "Python 3 (Data Science)",
   "language": "python",
   "name": "python3__SAGEMAKER_INTERNAL__arn:aws:sagemaker:us-east-1:081325390199:image/datascience-1.0"
  },
  "language_info": {
   "codemirror_mode": {
    "name": "ipython",
    "version": 3
   },
   "file_extension": ".py",
   "mimetype": "text/x-python",
   "name": "python",
   "nbconvert_exporter": "python",
   "pygments_lexer": "ipython3",
   "version": "3.7.10"
  }
 },
 "nbformat": 4,
 "nbformat_minor": 5
}
