{
 "cells": [
  {
   "cell_type": "markdown",
   "metadata": {},
   "source": [
    "#### Prerequisites"
   ]
  },
  {
   "cell_type": "code",
   "execution_count": 1,
   "metadata": {},
   "outputs": [],
   "source": [
    "%%capture \n",
    "\n",
    "!pip install sagemaker==2.100.0\n",
    "!pip install jedi==0.17"
   ]
  },
  {
   "cell_type": "markdown",
   "metadata": {},
   "source": [
    "#### Imports "
   ]
  },
  {
   "cell_type": "code",
   "execution_count": 2,
   "metadata": {},
   "outputs": [],
   "source": [
    "from sagemaker.huggingface import HuggingFaceProcessor\n",
    "from sagemaker.processing import ProcessingOutput\n",
    "from sagemaker.processing import ProcessingInput\n",
    "from sagemaker import get_execution_role\n",
    "from sagemaker import Session\n",
    "import sagemaker\n",
    "import logging"
   ]
  },
  {
   "cell_type": "markdown",
   "metadata": {},
   "source": [
    "##### Setup logging"
   ]
  },
  {
   "cell_type": "code",
   "execution_count": 3,
   "metadata": {},
   "outputs": [],
   "source": [
    "logger = logging.getLogger('sagemaker')\n",
    "logger.setLevel(logging.DEBUG)\n",
    "logger.addHandler(logging.StreamHandler())"
   ]
  },
  {
   "cell_type": "markdown",
   "metadata": {},
   "source": [
    "##### Log versions of dependencies "
   ]
  },
  {
   "cell_type": "code",
   "execution_count": 4,
   "metadata": {},
   "outputs": [
    {
     "name": "stderr",
     "output_type": "stream",
     "text": [
      "[Using SageMaker version: 2.100.0]\n"
     ]
    }
   ],
   "source": [
    "logger.info(f'[Using SageMaker version: {sagemaker.__version__}]')"
   ]
  },
  {
   "cell_type": "markdown",
   "metadata": {},
   "source": [
    "#### Essentials"
   ]
  },
  {
   "cell_type": "code",
   "execution_count": 5,
   "metadata": {},
   "outputs": [],
   "source": [
    "session = Session()\n",
    "S3_BUCKET = session.default_bucket()\n",
    "ROLE = get_execution_role()\n",
    "S3_INPUT = 'data/covid_articles_clf_data.csv'\n",
    "S3_OUTPUT = 'data/bert/processed-clf'\n",
    "INSTANCE_TYPE = 'ml.g4dn.xlarge'\n",
    "INSTANCE_COUNT = 1\n",
    "PYTHON_VERSION = '1.6.0'\n",
    "TRANSFORMERS_VERSION = '4.4.2'\n",
    "BASE_JOB_NAME = 'hf-sagemaker-processor'\n",
    "SOURCE_DIR = './src'\n",
    "CODE = 'preprocess_data_clf_oob.py'"
   ]
  },
  {
   "cell_type": "markdown",
   "metadata": {},
   "source": [
    "#### View processing script "
   ]
  },
  {
   "cell_type": "code",
   "execution_count": 6,
   "metadata": {},
   "outputs": [
    {
     "name": "stdout",
     "output_type": "stream",
     "text": [
      "\u001b[34mfrom\u001b[39;49;00m \u001b[04m\u001b[36mtransformers\u001b[39;49;00m \u001b[34mimport\u001b[39;49;00m TrainingArguments\n",
      "\u001b[34mfrom\u001b[39;49;00m \u001b[04m\u001b[36mtransformers\u001b[39;49;00m \u001b[34mimport\u001b[39;49;00m BertTokenizerFast\n",
      "\u001b[34mfrom\u001b[39;49;00m \u001b[04m\u001b[36mtransformers\u001b[39;49;00m \u001b[34mimport\u001b[39;49;00m pipeline\n",
      "\u001b[34mfrom\u001b[39;49;00m \u001b[04m\u001b[36mtransformers\u001b[39;49;00m \u001b[34mimport\u001b[39;49;00m Trainer\n",
      "\u001b[34mfrom\u001b[39;49;00m \u001b[04m\u001b[36mdatasets\u001b[39;49;00m \u001b[34mimport\u001b[39;49;00m load_dataset\n",
      "\u001b[34mfrom\u001b[39;49;00m \u001b[04m\u001b[36mdatasets\u001b[39;49;00m \u001b[34mimport\u001b[39;49;00m DatasetDict\n",
      "\u001b[34mimport\u001b[39;49;00m \u001b[04m\u001b[36mpandas\u001b[39;49;00m \u001b[34mas\u001b[39;49;00m \u001b[04m\u001b[36mpd\u001b[39;49;00m\n",
      "\u001b[34mimport\u001b[39;49;00m \u001b[04m\u001b[36mnumpy\u001b[39;49;00m \u001b[34mas\u001b[39;49;00m \u001b[04m\u001b[36mnp\u001b[39;49;00m\n",
      "\u001b[34mimport\u001b[39;49;00m \u001b[04m\u001b[36mlogging\u001b[39;49;00m\n",
      "\u001b[34mimport\u001b[39;49;00m \u001b[04m\u001b[36mpickle\u001b[39;49;00m\n",
      "\u001b[34mimport\u001b[39;49;00m \u001b[04m\u001b[36msys\u001b[39;49;00m\n",
      "\n",
      "\n",
      "\u001b[37m# Setup logging\u001b[39;49;00m\n",
      "logger = logging.getLogger(\u001b[31m__name__\u001b[39;49;00m)\n",
      "logging.basicConfig(level=logging.getLevelName(\u001b[33m'\u001b[39;49;00m\u001b[33mINFO\u001b[39;49;00m\u001b[33m'\u001b[39;49;00m), \n",
      "                    handlers=[logging.StreamHandler(sys.stdout)], \n",
      "                    \u001b[36mformat\u001b[39;49;00m=\u001b[33m'\u001b[39;49;00m\u001b[33m%(asctime)s\u001b[39;49;00m\u001b[33m - \u001b[39;49;00m\u001b[33m%(name)s\u001b[39;49;00m\u001b[33m - \u001b[39;49;00m\u001b[33m%(levelname)s\u001b[39;49;00m\u001b[33m - \u001b[39;49;00m\u001b[33m%(message)s\u001b[39;49;00m\u001b[33m'\u001b[39;49;00m)\n",
      "\n",
      "\u001b[37m# Log versions of dependencies\u001b[39;49;00m\n",
      "logger.info(\u001b[33mf\u001b[39;49;00m\u001b[33m'\u001b[39;49;00m\u001b[33m[Using Transformers: \u001b[39;49;00m\u001b[33m{transformers.__version__}\u001b[39;49;00m\u001b[33m]\u001b[39;49;00m\u001b[33m'\u001b[39;49;00m)\n",
      "logger.info(\u001b[33mf\u001b[39;49;00m\u001b[33m'\u001b[39;49;00m\u001b[33m[Using Datasets: \u001b[39;49;00m\u001b[33m{datasets.__version__}\u001b[39;49;00m\u001b[33m]\u001b[39;49;00m\u001b[33m'\u001b[39;49;00m)\n",
      "logger.info(\u001b[33mf\u001b[39;49;00m\u001b[33m'\u001b[39;49;00m\u001b[33m[Using Pandas: \u001b[39;49;00m\u001b[33m{pd.__version__}\u001b[39;49;00m\u001b[33m]\u001b[39;49;00m\u001b[33m'\u001b[39;49;00m)\n",
      "\n",
      "\u001b[37m# Essentials\u001b[39;49;00m\n",
      "\u001b[37m# LOCAL_INPUT_PATH is mapped to S3 input location for covid article headlines \u001b[39;49;00m\n",
      "LOCAL_INPUT_PATH = \u001b[33m'\u001b[39;49;00m\u001b[33m/opt/ml/processing/input\u001b[39;49;00m\u001b[33m'\u001b[39;49;00m \n",
      "\u001b[37m# LOCAL_OUTPUT_PATH is mapped to S3 output location where we want to save the processed input data (COVID article headlines)\u001b[39;49;00m\n",
      "LOCAL_OUTPUT_PATH = \u001b[33m'\u001b[39;49;00m\u001b[33m/opt/ml/processing/output\u001b[39;49;00m\u001b[33m'\u001b[39;49;00m\n",
      "MAX_LENGTH = \u001b[34m512\u001b[39;49;00m\n",
      "N_GPUS = \u001b[34m1\u001b[39;49;00m\n",
      "\n",
      "\u001b[37m# Initiatize BERT default tokenizer\u001b[39;49;00m\n",
      "tokenizer = BertTokenizerFast.from_pretrained(\u001b[33m'\u001b[39;49;00m\u001b[33mbert-base-uncased\u001b[39;49;00m\u001b[33m'\u001b[39;49;00m)\n",
      "logger.info(\u001b[33mf\u001b[39;49;00m\u001b[33m'\u001b[39;49;00m\u001b[33mTokenizer: \u001b[39;49;00m\u001b[33m{tokenizer}\u001b[39;49;00m\u001b[33m'\u001b[39;49;00m)\n",
      "\n",
      "\u001b[37m# Load classification data (headlines of COVID new articles)\u001b[39;49;00m\n",
      "data = load_dataset(\u001b[33m'\u001b[39;49;00m\u001b[33mcsv\u001b[39;49;00m\u001b[33m'\u001b[39;49;00m, \n",
      "                     data_files=\u001b[33mf\u001b[39;49;00m\u001b[33m'\u001b[39;49;00m\u001b[33m{LOCAL_INPUT_PATH}\u001b[39;49;00m\u001b[33m/data/covid_articles_clf_data.csv\u001b[39;49;00m\u001b[33m'\u001b[39;49;00m, \n",
      "                     column_names=[\u001b[33m'\u001b[39;49;00m\u001b[33mtext\u001b[39;49;00m\u001b[33m'\u001b[39;49;00m, \u001b[33m'\u001b[39;49;00m\u001b[33mlabel\u001b[39;49;00m\u001b[33m'\u001b[39;49;00m], \n",
      "                     delimiter=\u001b[33m'\u001b[39;49;00m\u001b[33m,\u001b[39;49;00m\u001b[33m'\u001b[39;49;00m, \n",
      "                     split=\u001b[33m'\u001b[39;49;00m\u001b[33mtrain\u001b[39;49;00m\u001b[33m'\u001b[39;49;00m, \n",
      "                     cache_dir=\u001b[33m'\u001b[39;49;00m\u001b[33m/tmp/cache\u001b[39;49;00m\u001b[33m'\u001b[39;49;00m)\n",
      "logger.info(\u001b[33mf\u001b[39;49;00m\u001b[33m'\u001b[39;49;00m\u001b[33mLoaded data: \u001b[39;49;00m\u001b[33m{data}\u001b[39;49;00m\u001b[33m'\u001b[39;49;00m)\n",
      "\n",
      "\n",
      "\u001b[37m# Create data splits\u001b[39;49;00m\n",
      "train_validation_test = data.train_test_split(shuffle=\u001b[34mTrue\u001b[39;49;00m, seed=\u001b[34m123\u001b[39;49;00m, test_size=\u001b[34m0.1\u001b[39;49;00m)\n",
      "validation_test = train_validation_test[\u001b[33m'\u001b[39;49;00m\u001b[33mtest\u001b[39;49;00m\u001b[33m'\u001b[39;49;00m].train_test_split(shuffle=\u001b[34mTrue\u001b[39;49;00m, seed=\u001b[34m123\u001b[39;49;00m, test_size=\u001b[34m0.5\u001b[39;49;00m)\n",
      "data_splits = DatasetDict({\u001b[33m'\u001b[39;49;00m\u001b[33mtrain\u001b[39;49;00m\u001b[33m'\u001b[39;49;00m: train_validation_test[\u001b[33m'\u001b[39;49;00m\u001b[33mtrain\u001b[39;49;00m\u001b[33m'\u001b[39;49;00m],  \n",
      "                           \u001b[33m'\u001b[39;49;00m\u001b[33mvalidation\u001b[39;49;00m\u001b[33m'\u001b[39;49;00m: validation_test[\u001b[33m'\u001b[39;49;00m\u001b[33mtrain\u001b[39;49;00m\u001b[33m'\u001b[39;49;00m], \n",
      "                           \u001b[33m'\u001b[39;49;00m\u001b[33mtest\u001b[39;49;00m\u001b[33m'\u001b[39;49;00m: validation_test[\u001b[33m'\u001b[39;49;00m\u001b[33mtest\u001b[39;49;00m\u001b[33m'\u001b[39;49;00m]})\n",
      "logger.info(\u001b[33mf\u001b[39;49;00m\u001b[33m'\u001b[39;49;00m\u001b[33mData splits: \u001b[39;49;00m\u001b[33m{data_splits}\u001b[39;49;00m\u001b[33m'\u001b[39;49;00m)\n",
      "\n",
      "\n",
      "\u001b[34mdef\u001b[39;49;00m \u001b[32mpreprocess_function\u001b[39;49;00m(examples):\n",
      "    \u001b[34mreturn\u001b[39;49;00m tokenizer(examples[\u001b[33m'\u001b[39;49;00m\u001b[33mtext\u001b[39;49;00m\u001b[33m'\u001b[39;49;00m], truncation=\u001b[34mTrue\u001b[39;49;00m, padding=\u001b[34mTrue\u001b[39;49;00m)\n",
      "\n",
      "\u001b[37m# Tokenize datasets \u001b[39;49;00m\n",
      "num_proc = \u001b[36mint\u001b[39;49;00m(os.cpu_count()/N_GPUS)\n",
      "logger.info(\u001b[33mf\u001b[39;49;00m\u001b[33m'\u001b[39;49;00m\u001b[33mTotal number of processes = \u001b[39;49;00m\u001b[33m{num_proc}\u001b[39;49;00m\u001b[33m'\u001b[39;49;00m)\n",
      "tokenized_data = data_splits.map(preprocess_function, batched=\u001b[34mTrue\u001b[39;49;00m, num_proc=num_proc)\n",
      "logger.info(\u001b[33mf\u001b[39;49;00m\u001b[33m'\u001b[39;49;00m\u001b[33mTokenized data: \u001b[39;49;00m\u001b[33m{tokenized_data}\u001b[39;49;00m\u001b[33m'\u001b[39;49;00m)\n",
      "\n",
      "\n",
      "\u001b[37m# Save tokenized data splits locally to the EBS volume attached to the Processing cluster\u001b[39;49;00m\n",
      "logger.info(\u001b[33mf\u001b[39;49;00m\u001b[33m'\u001b[39;49;00m\u001b[33mSaving tokenized datasets to local disk \u001b[39;49;00m\u001b[33m{LOCAL_OUTPUT_PATH}\u001b[39;49;00m\u001b[33m'\u001b[39;49;00m)\n",
      "tokenized_data.save_to_disk(\u001b[33mf\u001b[39;49;00m\u001b[33m'\u001b[39;49;00m\u001b[33m{LOCAL_OUTPUT_PATH}\u001b[39;49;00m\u001b[33m'\u001b[39;49;00m)\n",
      "\n",
      "\u001b[37m# Validate if datasets were saved correctly\u001b[39;49;00m\n",
      "logger.info(\u001b[33m'\u001b[39;49;00m\u001b[33mValidating if datasets were saved correctly\u001b[39;49;00m\u001b[33m'\u001b[39;49;00m)\n",
      "reloaded_datasets = datasets.load_from_disk(\u001b[33mf\u001b[39;49;00m\u001b[33m'\u001b[39;49;00m\u001b[33m{LOCAL_OUTPUT_PATH}\u001b[39;49;00m\u001b[33m'\u001b[39;49;00m)\n",
      "logger.info(\u001b[33mf\u001b[39;49;00m\u001b[33m'\u001b[39;49;00m\u001b[33mReloaded datasets: \u001b[39;49;00m\u001b[33m{reloaded_datasets}\u001b[39;49;00m\u001b[33m'\u001b[39;49;00m)\n"
     ]
    }
   ],
   "source": [
    "!pygmentize -v ./src/preprocess_data_clf_oob.py"
   ]
  },
  {
   "cell_type": "markdown",
   "metadata": {},
   "source": [
    "#### Create HuggingFace Processor"
   ]
  },
  {
   "cell_type": "code",
   "execution_count": 7,
   "metadata": {},
   "outputs": [],
   "source": [
    "processor = HuggingFaceProcessor(role=ROLE, \n",
    "                                 instance_type=INSTANCE_TYPE, \n",
    "                                 instance_count=INSTANCE_COUNT, \n",
    "                                 transformers_version=TRANSFORMERS_VERSION, \n",
    "                                 pytorch_version=PYTHON_VERSION, \n",
    "                                 base_job_name=BASE_JOB_NAME)"
   ]
  },
  {
   "cell_type": "markdown",
   "metadata": {},
   "source": [
    "#### Run SageMaker Processing job"
   ]
  },
  {
   "cell_type": "code",
   "execution_count": 8,
   "metadata": {},
   "outputs": [
    {
     "name": "stderr",
     "output_type": "stream",
     "text": [
      "Uploaded ./src to s3://sagemaker-us-east-1-119174016168/hf-sagemaker-processor-2022-09-14-19-38-52-933/source/sourcedir.tar.gz\n",
      "runproc.sh uploaded to s3://sagemaker-us-east-1-119174016168/hf-sagemaker-processor-2022-09-14-19-38-52-933/source/runproc.sh\n",
      "Creating processing-job with name hf-sagemaker-processor-2022-09-14-19-38-52-933\n",
      "process request: {\n",
      "    \"ProcessingJobName\": \"hf-sagemaker-processor-2022-09-14-19-38-52-933\",\n",
      "    \"ProcessingResources\": {\n",
      "        \"ClusterConfig\": {\n",
      "            \"InstanceType\": \"ml.g4dn.xlarge\",\n",
      "            \"InstanceCount\": 1,\n",
      "            \"VolumeSizeInGB\": 30\n",
      "        }\n",
      "    },\n",
      "    \"AppSpecification\": {\n",
      "        \"ImageUri\": \"763104351884.dkr.ecr.us-east-1.amazonaws.com/huggingface-pytorch-training:1.6.0-transformers4.4.2-gpu-py36-cu110-ubuntu18.04\",\n",
      "        \"ContainerEntrypoint\": [\n",
      "            \"/bin/bash\",\n",
      "            \"/opt/ml/processing/input/entrypoint/runproc.sh\"\n",
      "        ]\n",
      "    },\n",
      "    \"RoleArn\": \"arn:aws:iam::119174016168:role/service-role/AmazonSageMaker-ExecutionRole-20211014T093628\",\n",
      "    \"ProcessingInputs\": [\n",
      "        {\n",
      "            \"InputName\": \"article-headlines\",\n",
      "            \"AppManaged\": false,\n",
      "            \"S3Input\": {\n",
      "                \"S3Uri\": \"s3://sagemaker-us-east-1-119174016168/data/covid_articles_clf_data.csv\",\n",
      "                \"LocalPath\": \"/opt/ml/processing/input/data\",\n",
      "                \"S3DataType\": \"S3Prefix\",\n",
      "                \"S3InputMode\": \"File\",\n",
      "                \"S3DataDistributionType\": \"FullyReplicated\",\n",
      "                \"S3CompressionType\": \"None\"\n",
      "            }\n",
      "        },\n",
      "        {\n",
      "            \"InputName\": \"code\",\n",
      "            \"AppManaged\": false,\n",
      "            \"S3Input\": {\n",
      "                \"S3Uri\": \"s3://sagemaker-us-east-1-119174016168/hf-sagemaker-processor-2022-09-14-19-38-52-933/source/sourcedir.tar.gz\",\n",
      "                \"LocalPath\": \"/opt/ml/processing/input/code/\",\n",
      "                \"S3DataType\": \"S3Prefix\",\n",
      "                \"S3InputMode\": \"File\",\n",
      "                \"S3DataDistributionType\": \"FullyReplicated\",\n",
      "                \"S3CompressionType\": \"None\"\n",
      "            }\n",
      "        },\n",
      "        {\n",
      "            \"InputName\": \"entrypoint\",\n",
      "            \"AppManaged\": false,\n",
      "            \"S3Input\": {\n",
      "                \"S3Uri\": \"s3://sagemaker-us-east-1-119174016168/hf-sagemaker-processor-2022-09-14-19-38-52-933/source/runproc.sh\",\n",
      "                \"LocalPath\": \"/opt/ml/processing/input/entrypoint\",\n",
      "                \"S3DataType\": \"S3Prefix\",\n",
      "                \"S3InputMode\": \"File\",\n",
      "                \"S3DataDistributionType\": \"FullyReplicated\",\n",
      "                \"S3CompressionType\": \"None\"\n",
      "            }\n",
      "        }\n",
      "    ],\n",
      "    \"ProcessingOutputConfig\": {\n",
      "        \"Outputs\": [\n",
      "            {\n",
      "                \"OutputName\": \"processed-data-oob-clf\",\n",
      "                \"AppManaged\": false,\n",
      "                \"S3Output\": {\n",
      "                    \"S3Uri\": \"s3://sagemaker-us-east-1-119174016168/data/bert/processed-clf\",\n",
      "                    \"LocalPath\": \"/opt/ml/processing/output\",\n",
      "                    \"S3UploadMode\": \"EndOfJob\"\n",
      "                }\n",
      "            }\n",
      "        ]\n",
      "    }\n",
      "}\n"
     ]
    },
    {
     "name": "stdout",
     "output_type": "stream",
     "text": [
      "\n",
      "Job Name:  hf-sagemaker-processor-2022-09-14-19-38-52-933\n",
      "Inputs:  [{'InputName': 'article-headlines', 'AppManaged': False, 'S3Input': {'S3Uri': 's3://sagemaker-us-east-1-119174016168/data/covid_articles_clf_data.csv', 'LocalPath': '/opt/ml/processing/input/data', 'S3DataType': 'S3Prefix', 'S3InputMode': 'File', 'S3DataDistributionType': 'FullyReplicated', 'S3CompressionType': 'None'}}, {'InputName': 'code', 'AppManaged': False, 'S3Input': {'S3Uri': 's3://sagemaker-us-east-1-119174016168/hf-sagemaker-processor-2022-09-14-19-38-52-933/source/sourcedir.tar.gz', 'LocalPath': '/opt/ml/processing/input/code/', 'S3DataType': 'S3Prefix', 'S3InputMode': 'File', 'S3DataDistributionType': 'FullyReplicated', 'S3CompressionType': 'None'}}, {'InputName': 'entrypoint', 'AppManaged': False, 'S3Input': {'S3Uri': 's3://sagemaker-us-east-1-119174016168/hf-sagemaker-processor-2022-09-14-19-38-52-933/source/runproc.sh', 'LocalPath': '/opt/ml/processing/input/entrypoint', 'S3DataType': 'S3Prefix', 'S3InputMode': 'File', 'S3DataDistributionType': 'FullyReplicated', 'S3CompressionType': 'None'}}]\n",
      "Outputs:  [{'OutputName': 'processed-data-oob-clf', 'AppManaged': False, 'S3Output': {'S3Uri': 's3://sagemaker-us-east-1-119174016168/data/bert/processed-clf', 'LocalPath': '/opt/ml/processing/output', 'S3UploadMode': 'EndOfJob'}}]\n",
      "CPU times: user 126 ms, sys: 8.47 ms, total: 135 ms\n",
      "Wall time: 517 ms\n"
     ]
    }
   ],
   "source": [
    "%%time\n",
    "\n",
    "processor.run(code=CODE, \n",
    "              source_dir=SOURCE_DIR,\n",
    "              inputs=[ProcessingInput(input_name='article-headlines', \n",
    "                                      source=f's3://{S3_BUCKET}/{S3_INPUT}', \n",
    "                                      destination='/opt/ml/processing/input/data')],\n",
    "              outputs=[ProcessingOutput(output_name='processed-data-oob-clf', \n",
    "                                        source='/opt/ml/processing/output', \n",
    "                                        destination=f's3://{S3_BUCKET}/{S3_OUTPUT}')], \n",
    "              wait=False)"
   ]
  }
 ],
 "metadata": {
  "instance_type": "ml.t3.medium",
  "kernelspec": {
   "display_name": "Python 3 (Data Science)",
   "language": "python",
   "name": "python3__SAGEMAKER_INTERNAL__arn:aws:sagemaker:us-east-1:081325390199:image/datascience-1.0"
  },
  "language_info": {
   "codemirror_mode": {
    "name": "ipython",
    "version": 3
   },
   "file_extension": ".py",
   "mimetype": "text/x-python",
   "name": "python",
   "nbconvert_exporter": "python",
   "pygments_lexer": "ipython3",
   "version": "3.7.10"
  }
 },
 "nbformat": 4,
 "nbformat_minor": 4
}
