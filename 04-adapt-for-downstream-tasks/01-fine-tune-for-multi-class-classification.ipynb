{
 "cells": [
  {
   "cell_type": "markdown",
   "id": "d63edfb6-f617-4329-b22a-5499b9bce970",
   "metadata": {},
   "source": [
    "### Prerequisites"
   ]
  },
  {
   "cell_type": "markdown",
   "id": "f48092eb-17ad-4edc-b589-4dab7c9787ae",
   "metadata": {},
   "source": [
    "### Imports "
   ]
  },
  {
   "cell_type": "code",
   "execution_count": null,
   "id": "bee929a1-86e1-42e4-a1ce-107102afbb9f",
   "metadata": {},
   "outputs": [],
   "source": [
    "from sagemaker import get_execution_role, Session\n",
    "from sagemaker.huggingface import HuggingFace\n",
    "import sagemaker \n",
    "import logging"
   ]
  },
  {
   "cell_type": "code",
   "execution_count": null,
   "id": "20d85193-befd-4c6c-b821-99c1ded3130f",
   "metadata": {},
   "outputs": [],
   "source": [
    "logger = logging.getLogger('sagemaker')\n",
    "logger.setLevel(logging.DEBUG)\n",
    "logger.addHandler(logging.StreamHandler())"
   ]
  },
  {
   "cell_type": "code",
   "execution_count": null,
   "id": "48e39264-578c-422b-9a90-92934bee9fde",
   "metadata": {},
   "outputs": [],
   "source": [
    "logger.info(f'[Using SageMaker = {sagemaker.__version__}]')"
   ]
  },
  {
   "cell_type": "code",
   "execution_count": null,
   "id": "18699b5e-9dd1-464a-860f-860a52148abd",
   "metadata": {},
   "outputs": [],
   "source": [
    "session = Session()\n",
    "\n",
    "ROLE = get_execution_role()\n",
    "BUCKET = session.default_bucket()\n",
    "logger.info(f'Default bucket = {BUCKET}')\n",
    "\n",
    "TRANSFORMERS_VERSION = '4.17.0'\n",
    "PYTORCH_VERSION = '1.10.2'\n",
    "PYTHON_VERSION = 'py38'\n",
    "\n",
    "INSTANCE_TYPE = 'ml.p3.16xlarge'\n",
    "INSTANCE_COUNT = 6\n",
    "\n",
    "VOLUME_SIZE = 1024  # in GB"
   ]
  },
  {
   "cell_type": "code",
   "execution_count": null,
   "id": "7e12a122-7313-4b76-8095-d0f98ed37c29",
   "metadata": {},
   "outputs": [],
   "source": [
    "DATA = {'train': f's3://{BUCKET}/data'}\n",
    "HYPERPARAMETERS = {'model_s3_save_path': f's3://{BUCKET}/model'}\n",
    "DISTRIBUTION_STRATEGY = {'smdistributed':{'dataparallel':{ 'enabled': True }}}"
   ]
  },
  {
   "cell_type": "code",
   "execution_count": null,
   "id": "88860044-53fe-471e-8eb5-ac42cad73995",
   "metadata": {},
   "outputs": [],
   "source": []
  },
  {
   "cell_type": "code",
   "execution_count": null,
   "id": "98f49673-b36b-4541-a09d-a7feff250f4f",
   "metadata": {},
   "outputs": [],
   "source": [
    "huggingface_estimator = HuggingFace(entry_point='fine_tune_clf.py', \n",
    "                                    source_dir='./scripts', \n",
    "                                    role=ROLE, \n",
    "                                    instance_type=INSTANCE_TYPE,\n",
    "                                    instance_count=INSTANCE_COUNT,\n",
    "                                    volume_size=VOLUME_SIZE,\n",
    "                                    transformers_version=TRANSFORMERS_VERSION, \n",
    "                                    pytorch_version=PYTORCH_VERSION, \n",
    "                                    py_version=PYTHON_VERSION,\n",
    "                                    hyperparameters=HYPERPARAMETERS,\n",
    "                                    distribution=DISTRIBUTION_STRATEGY, \n",
    "                                    disable_profiler=True,\n",
    "                                    debugger_hook_config=False)"
   ]
  },
  {
   "cell_type": "code",
   "execution_count": null,
   "id": "00679abd-ac59-4b04-ae7d-30ee201f0baa",
   "metadata": {},
   "outputs": [],
   "source": [
    "####"
   ]
  },
  {
   "cell_type": "code",
   "execution_count": null,
   "id": "5e636b37-d9f3-4e83-a287-7d72ebf2da04",
   "metadata": {},
   "outputs": [],
   "source": [
    "%%time\n",
    "\n",
    "huggingface_estimator.fit(DATA)"
   ]
  }
 ],
 "metadata": {
  "instance_type": "ml.g4dn.xlarge",
  "kernelspec": {
   "display_name": "Python 3 (PyTorch 1.8 Python 3.6 GPU Optimized)",
   "language": "python",
   "name": "python3__SAGEMAKER_INTERNAL__arn:aws:sagemaker:us-east-1:081325390199:image/pytorch-1.8-gpu-py36"
  },
  "language_info": {
   "codemirror_mode": {
    "name": "ipython",
    "version": 3
   },
   "file_extension": ".py",
   "mimetype": "text/x-python",
   "name": "python",
   "nbconvert_exporter": "python",
   "pygments_lexer": "ipython3",
   "version": "3.6.13"
  }
 },
 "nbformat": 4,
 "nbformat_minor": 5
}
