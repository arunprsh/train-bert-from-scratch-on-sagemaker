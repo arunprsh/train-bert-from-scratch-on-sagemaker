{
 "cells": [
  {
   "cell_type": "markdown",
   "metadata": {},
   "source": [
    "### Prerequisites"
   ]
  },
  {
   "cell_type": "markdown",
   "metadata": {},
   "source": [
    "* Choose `Switch instance type` above\n",
    "* Toggle `Fast launch only` to select more instance types\n",
    "* Change instance type to `ml.m5.2xlarge`\n",
    "* For Kernel, choose `Python 3 (Data Science)`"
   ]
  },
  {
   "cell_type": "markdown",
   "metadata": {},
   "source": [
    "##### > Install dependencies "
   ]
  },
  {
   "cell_type": "code",
   "execution_count": null,
   "metadata": {},
   "outputs": [],
   "source": [
    "%%capture \n",
    "\n",
    "!pip install sagemaker==2.100.0\n",
    "!pip install sklearn==0.22.1\n",
    "!pip install boto3==1.24.12\n",
    "!pip install kaggle==1.5.12\n",
    "!pip install pandas==1.0.1"
   ]
  },
  {
   "cell_type": "markdown",
   "metadata": {},
   "source": [
    "**Note:** Recommended to restart the Kernel after installing the dependencies above"
   ]
  },
  {
   "cell_type": "markdown",
   "metadata": {},
   "source": [
    "### Imports "
   ]
  },
  {
   "cell_type": "code",
   "execution_count": 27,
   "metadata": {},
   "outputs": [],
   "source": [
    "from sklearn.preprocessing import LabelEncoder\n",
    "from sagemaker import Session\n",
    "from pandas import DataFrame\n",
    "from time import sleep\n",
    "import pandas as pd\n",
    "import sagemaker\n",
    "import sklearn\n",
    "import logging\n",
    "import pickle\n",
    "import boto3\n",
    "import os"
   ]
  },
  {
   "cell_type": "markdown",
   "metadata": {},
   "source": [
    "##### > Setup logging"
   ]
  },
  {
   "cell_type": "code",
   "execution_count": 2,
   "metadata": {},
   "outputs": [],
   "source": [
    "logger = logging.getLogger('sagemaker')\n",
    "logger.setLevel(logging.DEBUG)\n",
    "logger.addHandler(logging.StreamHandler())"
   ]
  },
  {
   "cell_type": "markdown",
   "metadata": {},
   "source": [
    "##### > Log versions of dependencies"
   ]
  },
  {
   "cell_type": "code",
   "execution_count": 3,
   "metadata": {},
   "outputs": [
    {
     "name": "stderr",
     "output_type": "stream",
     "text": [
      "[Using SageMaker version: 2.100.0]\n",
      "[Using Sklearn version: 0.22.1]\n",
      "[Using Boto3 version: 1.24.12]\n",
      "[Using Pandas version: 1.0.1]\n"
     ]
    }
   ],
   "source": [
    "logger.info(f'[Using SageMaker version: {sagemaker.__version__}]')\n",
    "logger.info(f'[Using Sklearn version: {sklearn.__version__}]')\n",
    "logger.info(f'[Using Boto3 version: {boto3.__version__}]')\n",
    "logger.info(f'[Using Pandas version: {pd.__version__}]')"
   ]
  },
  {
   "cell_type": "markdown",
   "metadata": {},
   "source": [
    "### Essentials"
   ]
  },
  {
   "cell_type": "code",
   "execution_count": 4,
   "metadata": {},
   "outputs": [
    {
     "name": "stderr",
     "output_type": "stream",
     "text": [
      "S3 bucket = sagemaker-us-east-1-119174016168\n"
     ]
    }
   ],
   "source": [
    "session = Session()\n",
    "s3 = boto3.resource('s3')\n",
    "\n",
    "S3_BUCKET = session.default_bucket()\n",
    "S3_DATA_FOLDER = 'data'\n",
    "\n",
    "logger.info(f'S3 bucket = {S3_BUCKET}')"
   ]
  },
  {
   "cell_type": "markdown",
   "metadata": {},
   "source": [
    "### Prepare data"
   ]
  },
  {
   "cell_type": "markdown",
   "metadata": {},
   "source": [
    "##### > Follow the instructions below to download COVID news articles dataset from kaggle here: https://www.kaggle.com/datasets/timmayer/covid-news-articles-2020-2022/\n",
    "\n",
    "* Create a Kaggle account if you don't have one using an email id.\n",
    "* Once you have an account, under Account, click `Create New API Token` button as shown below.<br>\n",
    "![kaggle-credentials](./../img/kaggle-credentials.png)<br>\n",
    "* This should download a JSON file named `kaggle.json` with your API credentials.\n",
    "* Copy the `username` and `key` from the downloaded JSON and assign it to the environment variables as shown below."
   ]
  },
  {
   "cell_type": "code",
   "execution_count": 5,
   "metadata": {},
   "outputs": [],
   "source": [
    "os.environ['KAGGLE_USERNAME'] = 'XXXXXXX'\n",
    "os.environ['KAGGLE_KEY'] = 'XXXXXXX'"
   ]
  },
  {
   "cell_type": "markdown",
   "metadata": {},
   "source": [
    "##### > Download raw dataset from Kaggle to your local directory"
   ]
  },
  {
   "cell_type": "code",
   "execution_count": 6,
   "metadata": {},
   "outputs": [
    {
     "name": "stdout",
     "output_type": "stream",
     "text": [
      "Downloading covid-news-articles-2020-2022.zip to /root/train-bert-from-scratch-on-sagemaker/01-prepare\n",
      " 99%|████████████████████████████████████████▌| 878M/889M [00:04<00:00, 193MB/s]\n",
      "100%|████████████████████████████████████████| 889M/889M [00:11<00:00, 81.1MB/s]\n",
      "Archive:  covid-news-articles-2020-2022.zip\n",
      "  inflating: covid_articles_raw.csv  \n"
     ]
    }
   ],
   "source": [
    "!kaggle datasets download -d timmayer/covid-news-articles-2020-2022 \n",
    "!unzip covid-news-articles-2020-2022.zip"
   ]
  },
  {
   "cell_type": "markdown",
   "metadata": {},
   "source": [
    "##### > Upload raw dataset from local to S3"
   ]
  },
  {
   "cell_type": "code",
   "execution_count": 7,
   "metadata": {},
   "outputs": [
    {
     "name": "stdout",
     "output_type": "stream",
     "text": [
      "upload: ./covid_articles_raw.csv to s3://sagemaker-us-east-1-119174016168/data/covid_articles_raw.csv\n"
     ]
    }
   ],
   "source": [
    "!aws s3 cp covid_articles_raw.csv s3://{S3_BUCKET}/data/covid_articles_raw.csv "
   ]
  },
  {
   "cell_type": "code",
   "execution_count": 8,
   "metadata": {},
   "outputs": [],
   "source": [
    "RAW_INPUT_DATA_S3_LOCATION = f's3://{S3_BUCKET}/data/covid_articles_raw.csv'"
   ]
  },
  {
   "cell_type": "markdown",
   "metadata": {},
   "source": [
    "##### > Read raw dataset into a pandas dataframe"
   ]
  },
  {
   "cell_type": "code",
   "execution_count": 9,
   "metadata": {},
   "outputs": [
    {
     "name": "stdout",
     "output_type": "stream",
     "text": [
      "CPU times: user 30.8 s, sys: 8.05 s, total: 38.8 s\n",
      "Wall time: 57.7 s\n"
     ]
    }
   ],
   "source": [
    "%%time\n",
    "\n",
    "df = pd.read_csv(RAW_INPUT_DATA_S3_LOCATION)\n",
    "df.dropna(inplace=True)"
   ]
  },
  {
   "cell_type": "code",
   "execution_count": 10,
   "metadata": {},
   "outputs": [
    {
     "data": {
      "text/html": [
       "<div>\n",
       "<style scoped>\n",
       "    .dataframe tbody tr th:only-of-type {\n",
       "        vertical-align: middle;\n",
       "    }\n",
       "\n",
       "    .dataframe tbody tr th {\n",
       "        vertical-align: top;\n",
       "    }\n",
       "\n",
       "    .dataframe thead th {\n",
       "        text-align: right;\n",
       "    }\n",
       "</style>\n",
       "<table border=\"1\" class=\"dataframe\">\n",
       "  <thead>\n",
       "    <tr style=\"text-align: right;\">\n",
       "      <th></th>\n",
       "      <th>title</th>\n",
       "      <th>content</th>\n",
       "      <th>category</th>\n",
       "    </tr>\n",
       "  </thead>\n",
       "  <tbody>\n",
       "    <tr>\n",
       "      <th>0</th>\n",
       "      <td>Looking into the truth about modern workplace ...</td>\n",
       "      <td>Hi, what are you looking for?\\nBy\\nPublished\\n...</td>\n",
       "      <td>general</td>\n",
       "    </tr>\n",
       "    <tr>\n",
       "      <th>1</th>\n",
       "      <td>Hexo refiles financial statements</td>\n",
       "      <td>New York reported a record 90,132 new Covid-19...</td>\n",
       "      <td>general</td>\n",
       "    </tr>\n",
       "    <tr>\n",
       "      <th>2</th>\n",
       "      <td>Japan raid, Turkey arrests in widening Ghosn p...</td>\n",
       "      <td>Hi, what are you looking for?\\nBy\\nPublished\\n...</td>\n",
       "      <td>general</td>\n",
       "    </tr>\n",
       "    <tr>\n",
       "      <th>3</th>\n",
       "      <td>Pope's bodyguards criticised over slapping inc...</td>\n",
       "      <td>Hi, what are you looking for?\\nBy\\nPublished\\n...</td>\n",
       "      <td>general</td>\n",
       "    </tr>\n",
       "    <tr>\n",
       "      <th>4</th>\n",
       "      <td>Lebanon denies president welcomed fugitive Ghosn</td>\n",
       "      <td>Hi, what are you looking for?\\nBy\\nPublished\\n...</td>\n",
       "      <td>general</td>\n",
       "    </tr>\n",
       "  </tbody>\n",
       "</table>\n",
       "</div>"
      ],
      "text/plain": [
       "                                               title  \\\n",
       "0  Looking into the truth about modern workplace ...   \n",
       "1                  Hexo refiles financial statements   \n",
       "2  Japan raid, Turkey arrests in widening Ghosn p...   \n",
       "3  Pope's bodyguards criticised over slapping inc...   \n",
       "4   Lebanon denies president welcomed fugitive Ghosn   \n",
       "\n",
       "                                             content category  \n",
       "0  Hi, what are you looking for?\\nBy\\nPublished\\n...  general  \n",
       "1  New York reported a record 90,132 new Covid-19...  general  \n",
       "2  Hi, what are you looking for?\\nBy\\nPublished\\n...  general  \n",
       "3  Hi, what are you looking for?\\nBy\\nPublished\\n...  general  \n",
       "4  Hi, what are you looking for?\\nBy\\nPublished\\n...  general  "
      ]
     },
     "execution_count": 10,
     "metadata": {},
     "output_type": "execute_result"
    }
   ],
   "source": [
    "df.head()"
   ]
  },
  {
   "cell_type": "code",
   "execution_count": 11,
   "metadata": {},
   "outputs": [
    {
     "data": {
      "text/plain": [
       "(477536, 3)"
      ]
     },
     "execution_count": 11,
     "metadata": {},
     "output_type": "execute_result"
    }
   ],
   "source": [
    "df.shape"
   ]
  },
  {
   "cell_type": "markdown",
   "metadata": {},
   "source": [
    "### III. Prepare dataset for BERT MLM training "
   ]
  },
  {
   "cell_type": "code",
   "execution_count": 12,
   "metadata": {},
   "outputs": [
    {
     "data": {
      "text/html": [
       "<div>\n",
       "<style scoped>\n",
       "    .dataframe tbody tr th:only-of-type {\n",
       "        vertical-align: middle;\n",
       "    }\n",
       "\n",
       "    .dataframe tbody tr th {\n",
       "        vertical-align: top;\n",
       "    }\n",
       "\n",
       "    .dataframe thead th {\n",
       "        text-align: right;\n",
       "    }\n",
       "</style>\n",
       "<table border=\"1\" class=\"dataframe\">\n",
       "  <thead>\n",
       "    <tr style=\"text-align: right;\">\n",
       "      <th></th>\n",
       "      <th>title</th>\n",
       "      <th>content</th>\n",
       "    </tr>\n",
       "  </thead>\n",
       "  <tbody>\n",
       "    <tr>\n",
       "      <th>0</th>\n",
       "      <td>Looking into the truth about modern workplace ...</td>\n",
       "      <td>Hi, what are you looking for?\\nBy\\nPublished\\n...</td>\n",
       "    </tr>\n",
       "    <tr>\n",
       "      <th>1</th>\n",
       "      <td>Hexo refiles financial statements</td>\n",
       "      <td>New York reported a record 90,132 new Covid-19...</td>\n",
       "    </tr>\n",
       "    <tr>\n",
       "      <th>2</th>\n",
       "      <td>Japan raid, Turkey arrests in widening Ghosn p...</td>\n",
       "      <td>Hi, what are you looking for?\\nBy\\nPublished\\n...</td>\n",
       "    </tr>\n",
       "    <tr>\n",
       "      <th>3</th>\n",
       "      <td>Pope's bodyguards criticised over slapping inc...</td>\n",
       "      <td>Hi, what are you looking for?\\nBy\\nPublished\\n...</td>\n",
       "    </tr>\n",
       "    <tr>\n",
       "      <th>4</th>\n",
       "      <td>Lebanon denies president welcomed fugitive Ghosn</td>\n",
       "      <td>Hi, what are you looking for?\\nBy\\nPublished\\n...</td>\n",
       "    </tr>\n",
       "  </tbody>\n",
       "</table>\n",
       "</div>"
      ],
      "text/plain": [
       "                                               title  \\\n",
       "0  Looking into the truth about modern workplace ...   \n",
       "1                  Hexo refiles financial statements   \n",
       "2  Japan raid, Turkey arrests in widening Ghosn p...   \n",
       "3  Pope's bodyguards criticised over slapping inc...   \n",
       "4   Lebanon denies president welcomed fugitive Ghosn   \n",
       "\n",
       "                                             content  \n",
       "0  Hi, what are you looking for?\\nBy\\nPublished\\n...  \n",
       "1  New York reported a record 90,132 new Covid-19...  \n",
       "2  Hi, what are you looking for?\\nBy\\nPublished\\n...  \n",
       "3  Hi, what are you looking for?\\nBy\\nPublished\\n...  \n",
       "4  Hi, what are you looking for?\\nBy\\nPublished\\n...  "
      ]
     },
     "execution_count": 12,
     "metadata": {},
     "output_type": "execute_result"
    }
   ],
   "source": [
    "mlm_df = df[['title', 'content']]\n",
    "mlm_df.head()"
   ]
  },
  {
   "cell_type": "code",
   "execution_count": 13,
   "metadata": {},
   "outputs": [],
   "source": [
    "with open('.././data/covid_articles.txt', 'w', encoding='utf-8') as f:\n",
    "    for title, content in zip(mlm_df.title.values, mlm_df.content.values):\n",
    "        f.write('\\n'.join([title, content]))"
   ]
  },
  {
   "cell_type": "markdown",
   "metadata": {},
   "source": [
    "##### > Copy dataset from local to S3"
   ]
  },
  {
   "cell_type": "code",
   "execution_count": 14,
   "metadata": {},
   "outputs": [
    {
     "name": "stdout",
     "output_type": "stream",
     "text": [
      "CPU times: user 16.5 s, sys: 15.1 s, total: 31.6 s\n",
      "Wall time: 12.5 s\n"
     ]
    }
   ],
   "source": [
    "%%time\n",
    "\n",
    "s3.meta.client.upload_file('.././data/covid_articles.txt', S3_BUCKET, f'{S3_DATA_FOLDER}/covid_articles.txt')"
   ]
  },
  {
   "cell_type": "markdown",
   "metadata": {},
   "source": [
    "### IV. Prepare dataset for sequence classification "
   ]
  },
  {
   "cell_type": "code",
   "execution_count": 15,
   "metadata": {},
   "outputs": [],
   "source": [
    "clf_df = df.copy()"
   ]
  },
  {
   "cell_type": "code",
   "execution_count": 16,
   "metadata": {},
   "outputs": [],
   "source": [
    "clf_df.drop(['content'], axis=1, inplace=True) "
   ]
  },
  {
   "cell_type": "code",
   "execution_count": 17,
   "metadata": {},
   "outputs": [
    {
     "data": {
      "text/plain": [
       "{'business', 'esg', 'general', 'science', 'tech'}"
      ]
     },
     "execution_count": 17,
     "metadata": {},
     "output_type": "execute_result"
    }
   ],
   "source": [
    "set(clf_df.category.unique())"
   ]
  },
  {
   "cell_type": "markdown",
   "metadata": {},
   "source": [
    "##### > Label encode `category` column"
   ]
  },
  {
   "cell_type": "code",
   "execution_count": 18,
   "metadata": {},
   "outputs": [],
   "source": [
    "label_encoder = LabelEncoder()\n",
    "clf_df['category'] = label_encoder.fit_transform(clf_df['category'])"
   ]
  },
  {
   "cell_type": "markdown",
   "metadata": {},
   "source": [
    "##### > Get label mapping"
   ]
  },
  {
   "cell_type": "code",
   "execution_count": 19,
   "metadata": {},
   "outputs": [
    {
     "data": {
      "text/plain": [
       "{'business': '0', 'esg': '1', 'general': '2', 'science': '3', 'tech': '4'}"
      ]
     },
     "execution_count": 19,
     "metadata": {},
     "output_type": "execute_result"
    }
   ],
   "source": [
    "label_map = dict(zip(label_encoder.classes_, label_encoder.transform(label_encoder.classes_)))\n",
    "label_map = dict((k, str(v)) for k, v in label_map.items())\n",
    "label_map"
   ]
  },
  {
   "cell_type": "markdown",
   "metadata": {},
   "source": [
    "##### > Save label mapping to be used during inference"
   ]
  },
  {
   "cell_type": "code",
   "execution_count": 20,
   "metadata": {},
   "outputs": [],
   "source": [
    "with open('.././data/label_map', 'wb') as f:\n",
    "     pickle.dump(label_map, f, protocol=pickle.HIGHEST_PROTOCOL)"
   ]
  },
  {
   "cell_type": "markdown",
   "metadata": {},
   "source": [
    "##### > Copy dataset from local to S3 "
   ]
  },
  {
   "cell_type": "code",
   "execution_count": 21,
   "metadata": {},
   "outputs": [
    {
     "name": "stdout",
     "output_type": "stream",
     "text": [
      "CPU times: user 975 ms, sys: 3.59 ms, total: 978 ms\n",
      "Wall time: 1.13 s\n"
     ]
    }
   ],
   "source": [
    "%%time \n",
    "\n",
    "clf_df.to_csv('.././data/covid_articles_clf_data.csv',  encoding='utf-8', index=False, header=False)"
   ]
  },
  {
   "cell_type": "code",
   "execution_count": 22,
   "metadata": {},
   "outputs": [
    {
     "name": "stdout",
     "output_type": "stream",
     "text": [
      "CPU times: user 194 ms, sys: 156 ms, total: 350 ms\n",
      "Wall time: 487 ms\n"
     ]
    }
   ],
   "source": [
    "%%time \n",
    "\n",
    "s3.meta.client.upload_file('.././data/covid_articles_clf_data.csv', S3_BUCKET, f'{S3_DATA_FOLDER}/covid_articles_clf_data.csv')"
   ]
  },
  {
   "cell_type": "markdown",
   "metadata": {},
   "source": [
    "##### > Copy evaluation dataset for fill mask task "
   ]
  },
  {
   "cell_type": "code",
   "execution_count": null,
   "metadata": {},
   "outputs": [],
   "source": [
    "s3.meta.client.upload_file('.././data/eval_mlm.csv', S3_BUCKET, f'{S3_DATA_FOLDER}/eval/eval_mlm.csv')"
   ]
  },
  {
   "cell_type": "markdown",
   "metadata": {},
   "source": [
    "#### Clean up local copies of data "
   ]
  },
  {
   "cell_type": "code",
   "execution_count": 23,
   "metadata": {},
   "outputs": [],
   "source": [
    "! rm covid_articles_raw.csv"
   ]
  },
  {
   "cell_type": "code",
   "execution_count": 24,
   "metadata": {},
   "outputs": [],
   "source": [
    "! rm covid-news-articles-2020-2022.zip"
   ]
  },
  {
   "cell_type": "code",
   "execution_count": 25,
   "metadata": {},
   "outputs": [],
   "source": [
    "! rm .././data/covid_articles.txt"
   ]
  },
  {
   "cell_type": "code",
   "execution_count": 26,
   "metadata": {},
   "outputs": [],
   "source": [
    "! rm .././data/covid_articles_clf_data.csv"
   ]
  },
  {
   "cell_type": "code",
   "execution_count": null,
   "metadata": {},
   "outputs": [],
   "source": []
  }
 ],
 "metadata": {
  "instance_type": "ml.m5.2xlarge",
  "kernelspec": {
   "display_name": "Python 3 (Data Science)",
   "language": "python",
   "name": "python3__SAGEMAKER_INTERNAL__arn:aws:sagemaker:us-east-1:081325390199:image/datascience-1.0"
  },
  "language_info": {
   "codemirror_mode": {
    "name": "ipython",
    "version": 3
   },
   "file_extension": ".py",
   "mimetype": "text/x-python",
   "name": "python",
   "nbconvert_exporter": "python",
   "pygments_lexer": "ipython3",
   "version": "3.7.10"
  }
 },
 "nbformat": 4,
 "nbformat_minor": 5
}
