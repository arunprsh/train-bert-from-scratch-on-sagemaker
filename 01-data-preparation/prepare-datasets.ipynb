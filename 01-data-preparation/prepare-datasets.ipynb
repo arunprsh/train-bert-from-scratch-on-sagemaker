{
 "cells": [
  {
   "cell_type": "markdown",
   "id": "5e6ad117-095f-4ce3-882a-af46406c543e",
   "metadata": {},
   "source": [
    "#### Prerequisites"
   ]
  },
  {
   "cell_type": "markdown",
   "id": "2579b637-415f-4dd2-8f1a-907551bfd053",
   "metadata": {},
   "source": [
    "* Switch instance type to `ml.m5.large`"
   ]
  },
  {
   "cell_type": "markdown",
   "id": "8af46138-21d9-468b-859a-ba37d0ba31c8",
   "metadata": {},
   "source": [
    "### I. Imports "
   ]
  },
  {
   "cell_type": "code",
   "execution_count": null,
   "id": "69cba0de-aec1-4895-a255-3e2cef590825",
   "metadata": {},
   "outputs": [],
   "source": [
    "from sagemaker import Session\n",
    "from pandas import DataFrame\n",
    "from time import sleep\n",
    "import pandas as pd\n",
    "import sagemaker\n",
    "import boto3"
   ]
  },
  {
   "cell_type": "markdown",
   "id": "5d0738da-3925-42c0-9c17-059861803594",
   "metadata": {},
   "source": [
    "##### Essentials"
   ]
  },
  {
   "cell_type": "code",
   "execution_count": null,
   "id": "84a020ad-a659-42ca-bbc8-c48ff1da9673",
   "metadata": {},
   "outputs": [],
   "source": [
    "session = Session()\n",
    "s3 = boto3.resource('s3')\n",
    "\n",
    "S3_BUCKET = session.default_bucket()\n",
    "S3_DATA_FOLDER = 'data'"
   ]
  },
  {
   "cell_type": "markdown",
   "id": "505f46b9-b1f5-45c4-9083-46786475522c",
   "metadata": {},
   "source": [
    "### II. Load and prepare data "
   ]
  },
  {
   "cell_type": "code",
   "execution_count": null,
   "id": "ef20b075-fb28-4b48-abaa-3c37156f8d4c",
   "metadata": {},
   "outputs": [],
   "source": [
    "%%time\n",
    "\n",
    "df = pd.read_csv('s3://sagemaker-us-east-1-119174016168/datasets/covid19_articles_20220420.csv')"
   ]
  },
  {
   "cell_type": "code",
   "execution_count": null,
   "id": "27d337c0-da9a-476c-bec0-9903d2c66be4",
   "metadata": {},
   "outputs": [],
   "source": [
    "df.shape"
   ]
  },
  {
   "cell_type": "code",
   "execution_count": null,
   "id": "71d2482d-2136-41f3-95cc-48f424fb7056",
   "metadata": {},
   "outputs": [],
   "source": [
    "df.drop(df.filter(regex='Unnamed'), axis=1, inplace=True)"
   ]
  },
  {
   "cell_type": "code",
   "execution_count": null,
   "id": "069fde6e-a191-4ada-85db-e84498b35081",
   "metadata": {},
   "outputs": [],
   "source": [
    "df.drop(['author', 'date', 'domain', 'companies', 'locations', 'sdgs'], axis=1, inplace=True)"
   ]
  },
  {
   "cell_type": "code",
   "execution_count": null,
   "id": "d9be7fee-036d-43ec-981b-dd9ae8c86468",
   "metadata": {},
   "outputs": [],
   "source": [
    "def clean(article: list) -> str:\n",
    "    return '\\n'.join(eval(article))"
   ]
  },
  {
   "cell_type": "code",
   "execution_count": null,
   "id": "2da1a022-a267-4b19-845c-b34227b1d165",
   "metadata": {},
   "outputs": [],
   "source": [
    "df['content'] = df['content'].apply(clean)"
   ]
  },
  {
   "cell_type": "code",
   "execution_count": null,
   "id": "fde829cf-545b-41d5-a3ce-08b65446f5f2",
   "metadata": {},
   "outputs": [],
   "source": [
    "df.rename(columns={'datatype': 'category'}, inplace=True)"
   ]
  },
  {
   "cell_type": "code",
   "execution_count": null,
   "id": "50131e73-c772-43c0-afad-5eebddcece34",
   "metadata": {},
   "outputs": [],
   "source": [
    "df.head()"
   ]
  },
  {
   "cell_type": "markdown",
   "id": "e6b705f5-55f9-4d0f-90c4-66a1e321d0a8",
   "metadata": {},
   "source": [
    "### III. Prepare dataset for BERT MLM training "
   ]
  },
  {
   "cell_type": "code",
   "execution_count": null,
   "id": "7b6cae9c-8402-447c-91df-b0beb60cb51b",
   "metadata": {},
   "outputs": [],
   "source": [
    "mlm_df = df[['title', 'content']]"
   ]
  },
  {
   "cell_type": "code",
   "execution_count": null,
   "id": "b301614f-e881-4679-8b1f-8a64cf1bb167",
   "metadata": {},
   "outputs": [],
   "source": [
    "mlm_df.head()"
   ]
  },
  {
   "cell_type": "code",
   "execution_count": null,
   "id": "ced1f7bf-7598-48be-afad-56027bed1249",
   "metadata": {},
   "outputs": [],
   "source": [
    "def save_as_txt(df: DataFrame) -> None:\n",
    "    fout = open('./data/covid_articles.txt', 'w')\n",
    "    for title, content in zip(df.title.values, df.content.values):\n",
    "        fout.write('\\n'.join([title, content]))\n",
    "    fout.close()"
   ]
  },
  {
   "cell_type": "code",
   "execution_count": null,
   "id": "7c023961-1434-4aff-bc06-45babc1bbf3f",
   "metadata": {},
   "outputs": [],
   "source": [
    "%%time\n",
    "\n",
    "save_as_txt(df)"
   ]
  },
  {
   "cell_type": "code",
   "execution_count": null,
   "id": "58bd554e-0e74-43e4-b3ab-cbff4b4923d1",
   "metadata": {},
   "outputs": [],
   "source": [
    "sleep(5)"
   ]
  },
  {
   "cell_type": "markdown",
   "id": "835c09bb-3101-42b5-bb3d-309d2eb7b0bf",
   "metadata": {},
   "source": [
    "##### Copy dataset from local to S3"
   ]
  },
  {
   "cell_type": "code",
   "execution_count": null,
   "id": "c41c413e-a1a4-4f50-b285-00371c3b46eb",
   "metadata": {},
   "outputs": [],
   "source": [
    "s3.meta.client.upload_file('./data/covid_articles.txt', S3_BUCKET, f'{S3_DATA_FOLDER}/covid_articles.txt')"
   ]
  },
  {
   "cell_type": "markdown",
   "id": "18446809-95f2-4691-b5d7-086d577d7de0",
   "metadata": {},
   "source": [
    "### IV. Prepare dataset for sequence classification "
   ]
  },
  {
   "cell_type": "code",
   "execution_count": null,
   "id": "4e6656f9-ac8f-444c-a98e-cc6cc529d661",
   "metadata": {},
   "outputs": [],
   "source": [
    "clf_df = df.dropna()"
   ]
  },
  {
   "cell_type": "code",
   "execution_count": null,
   "id": "7e29511f-afb0-4eda-b4c9-7e84e53c67aa",
   "metadata": {},
   "outputs": [],
   "source": [
    "def combine(title: str, content: str) -> str:\n",
    "    return '\\n'.join([title, content])"
   ]
  },
  {
   "cell_type": "code",
   "execution_count": null,
   "id": "a3ad4f44-d4a7-40bc-9a49-a96a7d2eaaba",
   "metadata": {},
   "outputs": [],
   "source": [
    "clf_df['article'] = clf_df.apply(lambda x: combine(x['title'], x['content']), axis=1)"
   ]
  },
  {
   "cell_type": "code",
   "execution_count": null,
   "id": "494fc3b8-45be-41cc-8cfa-81576eb581a8",
   "metadata": {},
   "outputs": [],
   "source": [
    "clf_df.drop(['title', 'content'], axis=1, inplace=True)"
   ]
  },
  {
   "cell_type": "code",
   "execution_count": null,
   "id": "ba632225-768e-47bb-8e08-f9cdfe3fa13d",
   "metadata": {},
   "outputs": [],
   "source": [
    "clf_df.head()"
   ]
  },
  {
   "cell_type": "code",
   "execution_count": null,
   "id": "05ffa9b2-dc1c-4c11-a88d-967f8f6a4e23",
   "metadata": {},
   "outputs": [],
   "source": [
    "assert len(set(clf_df.category.values)) == 5"
   ]
  },
  {
   "cell_type": "markdown",
   "id": "045e4d42-63f7-41a0-bd57-94f1904ae007",
   "metadata": {},
   "source": [
    "##### Copy dataset from local to S3 "
   ]
  },
  {
   "cell_type": "code",
   "execution_count": null,
   "id": "8381fb3d-af9e-4968-9033-251be07398b4",
   "metadata": {},
   "outputs": [],
   "source": [
    "clf_df.to_csv('./data/covid_articles_clf_data.csv', index=False)"
   ]
  },
  {
   "cell_type": "code",
   "execution_count": null,
   "id": "f7412b96-d25b-4ee3-8a20-a6d8b3a9e381",
   "metadata": {},
   "outputs": [],
   "source": [
    "sleep(5)"
   ]
  },
  {
   "cell_type": "code",
   "execution_count": null,
   "id": "17784b30-aae4-49cf-bd22-bd74153a1891",
   "metadata": {},
   "outputs": [],
   "source": [
    "s3.meta.client.upload_file('./data/covid_articles_clf_data.txt', S3_BUCKET, f'{S3_DATA_FOLDER}/covid_articles_clf_data.txt')"
   ]
  }
 ],
 "metadata": {
  "instance_type": "ml.m5.large",
  "kernelspec": {
   "display_name": "Python 3 (Data Science)",
   "language": "python",
   "name": "python3__SAGEMAKER_INTERNAL__arn:aws:sagemaker:us-east-1:081325390199:image/datascience-1.0"
  },
  "language_info": {
   "codemirror_mode": {
    "name": "ipython",
    "version": 3
   },
   "file_extension": ".py",
   "mimetype": "text/x-python",
   "name": "python",
   "nbconvert_exporter": "python",
   "pygments_lexer": "ipython3",
   "version": "3.7.10"
  }
 },
 "nbformat": 4,
 "nbformat_minor": 5
}
