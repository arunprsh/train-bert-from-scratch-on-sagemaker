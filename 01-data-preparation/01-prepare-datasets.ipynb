{
 "cells": [
  {
   "cell_type": "markdown",
   "id": "5e6ad117-095f-4ce3-882a-af46406c543e",
   "metadata": {},
   "source": [
    "#### Prerequisites"
   ]
  },
  {
   "cell_type": "markdown",
   "id": "2579b637-415f-4dd2-8f1a-907551bfd053",
   "metadata": {},
   "source": [
    "* Choose `Switch instance type` above\n",
    "* Toggle `Fast launch only` to select more types of instances\n",
    "* Change instance type to `ml.m5.2xlarge`\n",
    "* For Kernel, choose `Python 3 (Data Science)`"
   ]
  },
  {
   "cell_type": "code",
   "execution_count": 2,
   "id": "bdd664ab-90d2-42ba-8217-1f9b42ad8e40",
   "metadata": {},
   "outputs": [],
   "source": [
    "%%capture \n",
    "\n",
    "!pip install pandas==1.0.1\n",
    "!pip install sklearn==0.22.1\n",
    "!pip install boto3==1.24.12\n",
    "!pip install sagemaker==2.100.0"
   ]
  },
  {
   "cell_type": "markdown",
   "id": "8af46138-21d9-468b-859a-ba37d0ba31c8",
   "metadata": {},
   "source": [
    "### I. Imports "
   ]
  },
  {
   "cell_type": "code",
   "execution_count": 3,
   "id": "69cba0de-aec1-4895-a255-3e2cef590825",
   "metadata": {},
   "outputs": [],
   "source": [
    "from sklearn.preprocessing import LabelEncoder\n",
    "from sagemaker import Session\n",
    "from pandas import DataFrame\n",
    "from time import sleep\n",
    "import pandas as pd\n",
    "import sagemaker\n",
    "import sklearn\n",
    "import logging\n",
    "import pickle\n",
    "import boto3"
   ]
  },
  {
   "cell_type": "markdown",
   "id": "450ba350-ecb7-4657-9377-1af1cba2375d",
   "metadata": {},
   "source": [
    "##### Setup logging"
   ]
  },
  {
   "cell_type": "code",
   "execution_count": 4,
   "id": "08b9e209-850f-4203-8db0-37779dd01be0",
   "metadata": {},
   "outputs": [],
   "source": [
    "logger = logging.getLogger('sagemaker')\n",
    "logger.setLevel(logging.DEBUG)\n",
    "logger.addHandler(logging.StreamHandler())"
   ]
  },
  {
   "cell_type": "markdown",
   "id": "7f04c8b7-091e-4d0d-8ea2-5b42dd00425c",
   "metadata": {},
   "source": [
    "##### Log versions of dependencies"
   ]
  },
  {
   "cell_type": "code",
   "execution_count": 5,
   "id": "06674de4-f935-4ca1-a6c4-a6d103eb3c13",
   "metadata": {},
   "outputs": [
    {
     "name": "stderr",
     "output_type": "stream",
     "text": [
      "[Using SageMaker version: 2.100.0]\n",
      "[Using Sklearn version: 0.22.1]\n",
      "[Using Boto3 version: 1.24.12]\n",
      "[Using Pandas version: 1.0.1]\n"
     ]
    }
   ],
   "source": [
    "logger.info(f'[Using SageMaker version: {sagemaker.__version__}]')\n",
    "logger.info(f'[Using Sklearn version: {sklearn.__version__}]')\n",
    "logger.info(f'[Using Boto3 version: {boto3.__version__}]')\n",
    "logger.info(f'[Using Pandas version: {pd.__version__}]')"
   ]
  },
  {
   "cell_type": "markdown",
   "id": "5d0738da-3925-42c0-9c17-059861803594",
   "metadata": {},
   "source": [
    "##### Essentials"
   ]
  },
  {
   "cell_type": "code",
   "execution_count": 6,
   "id": "84a020ad-a659-42ca-bbc8-c48ff1da9673",
   "metadata": {},
   "outputs": [
    {
     "name": "stderr",
     "output_type": "stream",
     "text": [
      "S3 bucket = sagemaker-us-east-1-119174016168\n"
     ]
    }
   ],
   "source": [
    "session = Session()\n",
    "s3 = boto3.resource('s3')\n",
    "\n",
    "S3_BUCKET = session.default_bucket()\n",
    "logger.info(f'S3 bucket = {S3_BUCKET}')\n",
    "S3_DATA_FOLDER = 'data'"
   ]
  },
  {
   "cell_type": "markdown",
   "id": "505f46b9-b1f5-45c4-9083-46786475522c",
   "metadata": {},
   "source": [
    "### II. Load and prepare data "
   ]
  },
  {
   "cell_type": "code",
   "execution_count": 7,
   "id": "e90cf65a-0149-4af3-96c8-01fc5b7be8b0",
   "metadata": {},
   "outputs": [],
   "source": [
    "RAW_INPUT_DATA_S3_LOCATION = 's3://sagemaker-us-east-1-119174016168/datasets/covid19_articles_20220420.csv'"
   ]
  },
  {
   "cell_type": "code",
   "execution_count": 8,
   "id": "ef20b075-fb28-4b48-abaa-3c37156f8d4c",
   "metadata": {},
   "outputs": [
    {
     "name": "stdout",
     "output_type": "stream",
     "text": [
      "CPU times: user 31.8 s, sys: 7.11 s, total: 38.9 s\n",
      "Wall time: 1min 24s\n"
     ]
    },
    {
     "data": {
      "text/plain": [
       "(477551, 10)"
      ]
     },
     "execution_count": 8,
     "metadata": {},
     "output_type": "execute_result"
    }
   ],
   "source": [
    "%%time\n",
    "\n",
    "df = pd.read_csv(RAW_INPUT_DATA_S3_LOCATION)\n",
    "df.shape"
   ]
  },
  {
   "cell_type": "code",
   "execution_count": 9,
   "id": "71d2482d-2136-41f3-95cc-48f424fb7056",
   "metadata": {},
   "outputs": [],
   "source": [
    "df.drop(df.filter(regex='Unnamed'), axis=1, inplace=True)\n",
    "df.drop(['author', 'date', 'domain', 'companies', 'locations', 'sdgs'], axis=1, inplace=True)"
   ]
  },
  {
   "cell_type": "code",
   "execution_count": 10,
   "id": "d9be7fee-036d-43ec-981b-dd9ae8c86468",
   "metadata": {},
   "outputs": [],
   "source": [
    "def clean(article: list) -> str:\n",
    "    return '\\n'.join(eval(article))"
   ]
  },
  {
   "cell_type": "code",
   "execution_count": 11,
   "id": "2da1a022-a267-4b19-845c-b34227b1d165",
   "metadata": {},
   "outputs": [
    {
     "data": {
      "text/html": [
       "<div>\n",
       "<style scoped>\n",
       "    .dataframe tbody tr th:only-of-type {\n",
       "        vertical-align: middle;\n",
       "    }\n",
       "\n",
       "    .dataframe tbody tr th {\n",
       "        vertical-align: top;\n",
       "    }\n",
       "\n",
       "    .dataframe thead th {\n",
       "        text-align: right;\n",
       "    }\n",
       "</style>\n",
       "<table border=\"1\" class=\"dataframe\">\n",
       "  <thead>\n",
       "    <tr style=\"text-align: right;\">\n",
       "      <th></th>\n",
       "      <th>title</th>\n",
       "      <th>content</th>\n",
       "      <th>category</th>\n",
       "    </tr>\n",
       "  </thead>\n",
       "  <tbody>\n",
       "    <tr>\n",
       "      <th>0</th>\n",
       "      <td>Looking into the truth about modern workplace ...</td>\n",
       "      <td>Hi, what are you looking for?\\nBy\\nPublished\\n...</td>\n",
       "      <td>general</td>\n",
       "    </tr>\n",
       "    <tr>\n",
       "      <th>1</th>\n",
       "      <td>Hexo refiles financial statements</td>\n",
       "      <td>New York reported a record 90,132 new Covid-19...</td>\n",
       "      <td>general</td>\n",
       "    </tr>\n",
       "    <tr>\n",
       "      <th>2</th>\n",
       "      <td>Japan raid, Turkey arrests in widening Ghosn p...</td>\n",
       "      <td>Hi, what are you looking for?\\nBy\\nPublished\\n...</td>\n",
       "      <td>general</td>\n",
       "    </tr>\n",
       "    <tr>\n",
       "      <th>3</th>\n",
       "      <td>Pope's bodyguards criticised over slapping inc...</td>\n",
       "      <td>Hi, what are you looking for?\\nBy\\nPublished\\n...</td>\n",
       "      <td>general</td>\n",
       "    </tr>\n",
       "    <tr>\n",
       "      <th>4</th>\n",
       "      <td>Lebanon denies president welcomed fugitive Ghosn</td>\n",
       "      <td>Hi, what are you looking for?\\nBy\\nPublished\\n...</td>\n",
       "      <td>general</td>\n",
       "    </tr>\n",
       "  </tbody>\n",
       "</table>\n",
       "</div>"
      ],
      "text/plain": [
       "                                               title  \\\n",
       "0  Looking into the truth about modern workplace ...   \n",
       "1                  Hexo refiles financial statements   \n",
       "2  Japan raid, Turkey arrests in widening Ghosn p...   \n",
       "3  Pope's bodyguards criticised over slapping inc...   \n",
       "4   Lebanon denies president welcomed fugitive Ghosn   \n",
       "\n",
       "                                             content category  \n",
       "0  Hi, what are you looking for?\\nBy\\nPublished\\n...  general  \n",
       "1  New York reported a record 90,132 new Covid-19...  general  \n",
       "2  Hi, what are you looking for?\\nBy\\nPublished\\n...  general  \n",
       "3  Hi, what are you looking for?\\nBy\\nPublished\\n...  general  \n",
       "4  Hi, what are you looking for?\\nBy\\nPublished\\n...  general  "
      ]
     },
     "execution_count": 11,
     "metadata": {},
     "output_type": "execute_result"
    }
   ],
   "source": [
    "df['content'] = df['content'].apply(clean)\n",
    "df.rename(columns={'datatype': 'category'}, inplace=True)\n",
    "df.head()"
   ]
  },
  {
   "cell_type": "markdown",
   "id": "e6b705f5-55f9-4d0f-90c4-66a1e321d0a8",
   "metadata": {},
   "source": [
    "### III. Prepare dataset for BERT MLM training "
   ]
  },
  {
   "cell_type": "code",
   "execution_count": 12,
   "id": "7b6cae9c-8402-447c-91df-b0beb60cb51b",
   "metadata": {},
   "outputs": [
    {
     "data": {
      "text/html": [
       "<div>\n",
       "<style scoped>\n",
       "    .dataframe tbody tr th:only-of-type {\n",
       "        vertical-align: middle;\n",
       "    }\n",
       "\n",
       "    .dataframe tbody tr th {\n",
       "        vertical-align: top;\n",
       "    }\n",
       "\n",
       "    .dataframe thead th {\n",
       "        text-align: right;\n",
       "    }\n",
       "</style>\n",
       "<table border=\"1\" class=\"dataframe\">\n",
       "  <thead>\n",
       "    <tr style=\"text-align: right;\">\n",
       "      <th></th>\n",
       "      <th>title</th>\n",
       "      <th>content</th>\n",
       "    </tr>\n",
       "  </thead>\n",
       "  <tbody>\n",
       "    <tr>\n",
       "      <th>0</th>\n",
       "      <td>Looking into the truth about modern workplace ...</td>\n",
       "      <td>Hi, what are you looking for?\\nBy\\nPublished\\n...</td>\n",
       "    </tr>\n",
       "    <tr>\n",
       "      <th>1</th>\n",
       "      <td>Hexo refiles financial statements</td>\n",
       "      <td>New York reported a record 90,132 new Covid-19...</td>\n",
       "    </tr>\n",
       "    <tr>\n",
       "      <th>2</th>\n",
       "      <td>Japan raid, Turkey arrests in widening Ghosn p...</td>\n",
       "      <td>Hi, what are you looking for?\\nBy\\nPublished\\n...</td>\n",
       "    </tr>\n",
       "    <tr>\n",
       "      <th>3</th>\n",
       "      <td>Pope's bodyguards criticised over slapping inc...</td>\n",
       "      <td>Hi, what are you looking for?\\nBy\\nPublished\\n...</td>\n",
       "    </tr>\n",
       "    <tr>\n",
       "      <th>4</th>\n",
       "      <td>Lebanon denies president welcomed fugitive Ghosn</td>\n",
       "      <td>Hi, what are you looking for?\\nBy\\nPublished\\n...</td>\n",
       "    </tr>\n",
       "  </tbody>\n",
       "</table>\n",
       "</div>"
      ],
      "text/plain": [
       "                                               title  \\\n",
       "0  Looking into the truth about modern workplace ...   \n",
       "1                  Hexo refiles financial statements   \n",
       "2  Japan raid, Turkey arrests in widening Ghosn p...   \n",
       "3  Pope's bodyguards criticised over slapping inc...   \n",
       "4   Lebanon denies president welcomed fugitive Ghosn   \n",
       "\n",
       "                                             content  \n",
       "0  Hi, what are you looking for?\\nBy\\nPublished\\n...  \n",
       "1  New York reported a record 90,132 new Covid-19...  \n",
       "2  Hi, what are you looking for?\\nBy\\nPublished\\n...  \n",
       "3  Hi, what are you looking for?\\nBy\\nPublished\\n...  \n",
       "4  Hi, what are you looking for?\\nBy\\nPublished\\n...  "
      ]
     },
     "execution_count": 12,
     "metadata": {},
     "output_type": "execute_result"
    }
   ],
   "source": [
    "mlm_df = df[['title', 'content']]\n",
    "mlm_df.head()"
   ]
  },
  {
   "cell_type": "code",
   "execution_count": 13,
   "id": "ced1f7bf-7598-48be-afad-56027bed1249",
   "metadata": {},
   "outputs": [],
   "source": [
    "def save_as_txt(df: DataFrame) -> None:\n",
    "    fout = open('.././data/covid_articles.txt', 'w', encoding='utf-8')\n",
    "    for title, content in zip(df.title.values, df.content.values):\n",
    "        fout.write('\\n'.join([title, content]))\n",
    "    fout.close()"
   ]
  },
  {
   "cell_type": "code",
   "execution_count": 14,
   "id": "7c023961-1434-4aff-bc06-45babc1bbf3f",
   "metadata": {},
   "outputs": [
    {
     "name": "stdout",
     "output_type": "stream",
     "text": [
      "CPU times: user 10.3 s, sys: 1.16 s, total: 11.4 s\n",
      "Wall time: 31.2 s\n"
     ]
    }
   ],
   "source": [
    "%%time\n",
    "\n",
    "save_as_txt(df)"
   ]
  },
  {
   "cell_type": "code",
   "execution_count": 15,
   "id": "58bd554e-0e74-43e4-b3ab-cbff4b4923d1",
   "metadata": {},
   "outputs": [],
   "source": [
    "sleep(5)  # Allow time for save to S3"
   ]
  },
  {
   "cell_type": "markdown",
   "id": "835c09bb-3101-42b5-bb3d-309d2eb7b0bf",
   "metadata": {},
   "source": [
    "##### Copy dataset from local to S3"
   ]
  },
  {
   "cell_type": "code",
   "execution_count": 16,
   "id": "c41c413e-a1a4-4f50-b285-00371c3b46eb",
   "metadata": {},
   "outputs": [
    {
     "name": "stdout",
     "output_type": "stream",
     "text": [
      "CPU times: user 18.1 s, sys: 15.6 s, total: 33.7 s\n",
      "Wall time: 12.7 s\n"
     ]
    }
   ],
   "source": [
    "%%time\n",
    "\n",
    "s3.meta.client.upload_file('.././data/covid_articles.txt', S3_BUCKET, f'{S3_DATA_FOLDER}/covid_articles.txt')"
   ]
  },
  {
   "cell_type": "markdown",
   "id": "18446809-95f2-4691-b5d7-086d577d7de0",
   "metadata": {},
   "source": [
    "### IV. Prepare dataset for sequence classification "
   ]
  },
  {
   "cell_type": "code",
   "execution_count": 17,
   "id": "4e6656f9-ac8f-444c-a98e-cc6cc529d661",
   "metadata": {},
   "outputs": [],
   "source": [
    "clf_df = df.copy()\n",
    "clf_df.dropna(inplace=True)"
   ]
  },
  {
   "cell_type": "code",
   "execution_count": 18,
   "id": "7e29511f-afb0-4eda-b4c9-7e84e53c67aa",
   "metadata": {},
   "outputs": [],
   "source": [
    "def combine(title: str, content: str) -> str:\n",
    "    return '\\n'.join([title, content])"
   ]
  },
  {
   "cell_type": "code",
   "execution_count": 19,
   "id": "a3ad4f44-d4a7-40bc-9a49-a96a7d2eaaba",
   "metadata": {},
   "outputs": [
    {
     "data": {
      "text/html": [
       "<div>\n",
       "<style scoped>\n",
       "    .dataframe tbody tr th:only-of-type {\n",
       "        vertical-align: middle;\n",
       "    }\n",
       "\n",
       "    .dataframe tbody tr th {\n",
       "        vertical-align: top;\n",
       "    }\n",
       "\n",
       "    .dataframe thead th {\n",
       "        text-align: right;\n",
       "    }\n",
       "</style>\n",
       "<table border=\"1\" class=\"dataframe\">\n",
       "  <thead>\n",
       "    <tr style=\"text-align: right;\">\n",
       "      <th></th>\n",
       "      <th>title</th>\n",
       "      <th>content</th>\n",
       "      <th>category</th>\n",
       "      <th>article</th>\n",
       "    </tr>\n",
       "  </thead>\n",
       "  <tbody>\n",
       "    <tr>\n",
       "      <th>0</th>\n",
       "      <td>Looking into the truth about modern workplace ...</td>\n",
       "      <td>Hi, what are you looking for?\\nBy\\nPublished\\n...</td>\n",
       "      <td>general</td>\n",
       "      <td>Looking into the truth about modern workplace ...</td>\n",
       "    </tr>\n",
       "    <tr>\n",
       "      <th>1</th>\n",
       "      <td>Hexo refiles financial statements</td>\n",
       "      <td>New York reported a record 90,132 new Covid-19...</td>\n",
       "      <td>general</td>\n",
       "      <td>Hexo refiles financial statements\\nNew York re...</td>\n",
       "    </tr>\n",
       "    <tr>\n",
       "      <th>2</th>\n",
       "      <td>Japan raid, Turkey arrests in widening Ghosn p...</td>\n",
       "      <td>Hi, what are you looking for?\\nBy\\nPublished\\n...</td>\n",
       "      <td>general</td>\n",
       "      <td>Japan raid, Turkey arrests in widening Ghosn p...</td>\n",
       "    </tr>\n",
       "    <tr>\n",
       "      <th>3</th>\n",
       "      <td>Pope's bodyguards criticised over slapping inc...</td>\n",
       "      <td>Hi, what are you looking for?\\nBy\\nPublished\\n...</td>\n",
       "      <td>general</td>\n",
       "      <td>Pope's bodyguards criticised over slapping inc...</td>\n",
       "    </tr>\n",
       "    <tr>\n",
       "      <th>4</th>\n",
       "      <td>Lebanon denies president welcomed fugitive Ghosn</td>\n",
       "      <td>Hi, what are you looking for?\\nBy\\nPublished\\n...</td>\n",
       "      <td>general</td>\n",
       "      <td>Lebanon denies president welcomed fugitive Gho...</td>\n",
       "    </tr>\n",
       "  </tbody>\n",
       "</table>\n",
       "</div>"
      ],
      "text/plain": [
       "                                               title  \\\n",
       "0  Looking into the truth about modern workplace ...   \n",
       "1                  Hexo refiles financial statements   \n",
       "2  Japan raid, Turkey arrests in widening Ghosn p...   \n",
       "3  Pope's bodyguards criticised over slapping inc...   \n",
       "4   Lebanon denies president welcomed fugitive Ghosn   \n",
       "\n",
       "                                             content category  \\\n",
       "0  Hi, what are you looking for?\\nBy\\nPublished\\n...  general   \n",
       "1  New York reported a record 90,132 new Covid-19...  general   \n",
       "2  Hi, what are you looking for?\\nBy\\nPublished\\n...  general   \n",
       "3  Hi, what are you looking for?\\nBy\\nPublished\\n...  general   \n",
       "4  Hi, what are you looking for?\\nBy\\nPublished\\n...  general   \n",
       "\n",
       "                                             article  \n",
       "0  Looking into the truth about modern workplace ...  \n",
       "1  Hexo refiles financial statements\\nNew York re...  \n",
       "2  Japan raid, Turkey arrests in widening Ghosn p...  \n",
       "3  Pope's bodyguards criticised over slapping inc...  \n",
       "4  Lebanon denies president welcomed fugitive Gho...  "
      ]
     },
     "execution_count": 19,
     "metadata": {},
     "output_type": "execute_result"
    }
   ],
   "source": [
    "clf_df['article'] = clf_df.apply(lambda x: combine(x['title'], x['content']), axis=1)\n",
    "clf_df.head()"
   ]
  },
  {
   "cell_type": "code",
   "execution_count": 20,
   "id": "494fc3b8-45be-41cc-8cfa-81576eb581a8",
   "metadata": {},
   "outputs": [],
   "source": [
    "assert len(set(clf_df.category.values)) == 5"
   ]
  },
  {
   "cell_type": "markdown",
   "id": "2d595b22-db9a-4c08-a7db-bb353233271a",
   "metadata": {},
   "source": [
    "##### Label encode `category` column"
   ]
  },
  {
   "cell_type": "code",
   "execution_count": 21,
   "id": "340e7978-a474-44db-8d0c-431ce1a30aaf",
   "metadata": {},
   "outputs": [],
   "source": [
    "label_encoder = LabelEncoder()\n",
    "clf_df['category'] = label_encoder.fit_transform(clf_df['category'])"
   ]
  },
  {
   "cell_type": "markdown",
   "id": "a801bc05-11dd-4690-84f5-e0121b5df5f2",
   "metadata": {},
   "source": [
    "##### Get label mapping"
   ]
  },
  {
   "cell_type": "code",
   "execution_count": 22,
   "id": "2e573540-84a1-42c1-8b35-405526ddffcd",
   "metadata": {},
   "outputs": [
    {
     "data": {
      "text/plain": [
       "{'business': 0, 'esg': 1, 'general': 2, 'science': 3, 'tech': 4}"
      ]
     },
     "execution_count": 22,
     "metadata": {},
     "output_type": "execute_result"
    }
   ],
   "source": [
    "label_map = dict(zip(label_encoder.classes_, label_encoder.transform(label_encoder.classes_)))\n",
    "label_map"
   ]
  },
  {
   "cell_type": "markdown",
   "id": "599f4b25-151c-40db-ac29-1ac23fc3e8c4",
   "metadata": {},
   "source": [
    "##### Save label mapping to be used during inference"
   ]
  },
  {
   "cell_type": "code",
   "execution_count": 23,
   "id": "c5ab1197-ee31-4d0d-968d-ffb620ac809c",
   "metadata": {},
   "outputs": [],
   "source": [
    "with open('.././data/label_map', 'wb') as f:\n",
    "     pickle.dump(label_map, f, protocol=pickle.HIGHEST_PROTOCOL)"
   ]
  },
  {
   "cell_type": "markdown",
   "id": "045e4d42-63f7-41a0-bd57-94f1904ae007",
   "metadata": {},
   "source": [
    "##### Copy dataset from local to S3 "
   ]
  },
  {
   "cell_type": "code",
   "execution_count": 24,
   "id": "8381fb3d-af9e-4968-9033-251be07398b4",
   "metadata": {},
   "outputs": [
    {
     "name": "stdout",
     "output_type": "stream",
     "text": [
      "CPU times: user 1min 38s, sys: 1.98 s, total: 1min 40s\n",
      "Wall time: 2min 22s\n"
     ]
    }
   ],
   "source": [
    "%%time \n",
    "\n",
    "clf_df.to_csv('.././data/covid_articles_clf_data.csv',  encoding='utf-8', index=False, header=False)"
   ]
  },
  {
   "cell_type": "code",
   "execution_count": 25,
   "id": "f7412b96-d25b-4ee3-8a20-a6d8b3a9e381",
   "metadata": {},
   "outputs": [],
   "source": [
    "sleep(5)  # Allow time for save to S3"
   ]
  },
  {
   "cell_type": "code",
   "execution_count": 26,
   "id": "17784b30-aae4-49cf-bd22-bd74153a1891",
   "metadata": {},
   "outputs": [
    {
     "name": "stdout",
     "output_type": "stream",
     "text": [
      "CPU times: user 37.3 s, sys: 32.9 s, total: 1min 10s\n",
      "Wall time: 27 s\n"
     ]
    }
   ],
   "source": [
    "%%time \n",
    "\n",
    "s3.meta.client.upload_file('.././data/covid_articles_clf_data.csv', S3_BUCKET, f'{S3_DATA_FOLDER}/covid_articles_clf_data.csv')"
   ]
  },
  {
   "cell_type": "markdown",
   "id": "5dd20168-34e6-4944-8896-a252d2613a68",
   "metadata": {},
   "source": [
    "#### Clean up local copies of data "
   ]
  },
  {
   "cell_type": "code",
   "execution_count": 27,
   "id": "dbbd4afb-ec52-4801-9f85-7c3ccbf59b74",
   "metadata": {},
   "outputs": [],
   "source": [
    "! rm .././data/covid_articles.txt"
   ]
  },
  {
   "cell_type": "code",
   "execution_count": 28,
   "id": "b1f87ffc-9f24-42c2-8583-9d900c81a4eb",
   "metadata": {},
   "outputs": [],
   "source": [
    "! rm .././data/covid_articles_clf_data.csv"
   ]
  },
  {
   "cell_type": "code",
   "execution_count": null,
   "id": "2cc6dfbc-59b3-4d9b-9048-2aa26dff0ab1",
   "metadata": {},
   "outputs": [],
   "source": []
  }
 ],
 "metadata": {
  "instance_type": "ml.t3.medium",
  "kernelspec": {
   "display_name": "Python 3 (Data Science)",
   "language": "python",
   "name": "python3__SAGEMAKER_INTERNAL__arn:aws:sagemaker:us-east-1:081325390199:image/datascience-1.0"
  },
  "language_info": {
   "codemirror_mode": {
    "name": "ipython",
    "version": 3
   },
   "file_extension": ".py",
   "mimetype": "text/x-python",
   "name": "python",
   "nbconvert_exporter": "python",
   "pygments_lexer": "ipython3",
   "version": "3.7.10"
  }
 },
 "nbformat": 4,
 "nbformat_minor": 5
}
