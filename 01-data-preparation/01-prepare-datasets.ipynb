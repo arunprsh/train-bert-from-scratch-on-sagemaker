{
 "cells": [
  {
   "cell_type": "markdown",
   "metadata": {},
   "source": [
    "#### Prerequisites"
   ]
  },
  {
   "cell_type": "markdown",
   "metadata": {},
   "source": [
    "* Choose `Switch instance type` above\n",
    "* Toggle `Fast launch only` to select more types of instances\n",
    "* Change instance type to `ml.m5.2xlarge`\n",
    "* For Kernel, choose `Python 3 (Data Science)`"
   ]
  },
  {
   "cell_type": "code",
   "execution_count": 1,
   "metadata": {},
   "outputs": [],
   "source": [
    "%%capture \n",
    "\n",
    "!pip install pandas==1.0.1\n",
    "!pip install sklearn==0.22.1\n",
    "!pip install boto3==1.24.12\n",
    "!pip install sagemaker==2.100.0"
   ]
  },
  {
   "cell_type": "markdown",
   "metadata": {},
   "source": [
    "### I. Imports "
   ]
  },
  {
   "cell_type": "code",
   "execution_count": 2,
   "metadata": {},
   "outputs": [],
   "source": [
    "from sklearn.preprocessing import LabelEncoder\n",
    "from sagemaker import Session\n",
    "from pandas import DataFrame\n",
    "from time import sleep\n",
    "import pandas as pd\n",
    "import sagemaker\n",
    "import sklearn\n",
    "import logging\n",
    "import pickle\n",
    "import boto3"
   ]
  },
  {
   "cell_type": "markdown",
   "metadata": {},
   "source": [
    "##### Setup logging"
   ]
  },
  {
   "cell_type": "code",
   "execution_count": 3,
   "metadata": {},
   "outputs": [],
   "source": [
    "logger = logging.getLogger('sagemaker')\n",
    "logger.setLevel(logging.DEBUG)\n",
    "logger.addHandler(logging.StreamHandler())"
   ]
  },
  {
   "cell_type": "markdown",
   "metadata": {},
   "source": [
    "##### Log versions of dependencies"
   ]
  },
  {
   "cell_type": "code",
   "execution_count": 4,
   "metadata": {},
   "outputs": [
    {
     "name": "stderr",
     "output_type": "stream",
     "text": [
      "[Using SageMaker version: 2.100.0]\n",
      "[Using Sklearn version: 0.22.1]\n",
      "[Using Boto3 version: 1.24.12]\n",
      "[Using Pandas version: 1.0.1]\n"
     ]
    }
   ],
   "source": [
    "logger.info(f'[Using SageMaker version: {sagemaker.__version__}]')\n",
    "logger.info(f'[Using Sklearn version: {sklearn.__version__}]')\n",
    "logger.info(f'[Using Boto3 version: {boto3.__version__}]')\n",
    "logger.info(f'[Using Pandas version: {pd.__version__}]')"
   ]
  },
  {
   "cell_type": "markdown",
   "metadata": {},
   "source": [
    "##### Essentials"
   ]
  },
  {
   "cell_type": "code",
   "execution_count": 5,
   "metadata": {},
   "outputs": [
    {
     "name": "stderr",
     "output_type": "stream",
     "text": [
      "S3 bucket = sagemaker-us-east-1-119174016168\n"
     ]
    }
   ],
   "source": [
    "session = Session()\n",
    "s3 = boto3.resource('s3')\n",
    "\n",
    "S3_BUCKET = session.default_bucket()\n",
    "logger.info(f'S3 bucket = {S3_BUCKET}')\n",
    "S3_DATA_FOLDER = 'data'"
   ]
  },
  {
   "cell_type": "markdown",
   "metadata": {},
   "source": [
    "### II. Load and prepare data "
   ]
  },
  {
   "cell_type": "code",
   "execution_count": 6,
   "metadata": {},
   "outputs": [],
   "source": [
    "RAW_INPUT_DATA_S3_LOCATION = 's3://sagemaker-us-east-1-119174016168/datasets/covid19_articles_20220420.csv'"
   ]
  },
  {
   "cell_type": "code",
   "execution_count": 7,
   "metadata": {},
   "outputs": [
    {
     "name": "stdout",
     "output_type": "stream",
     "text": [
      "CPU times: user 31.8 s, sys: 7.92 s, total: 39.7 s\n",
      "Wall time: 1min 51s\n"
     ]
    },
    {
     "data": {
      "text/plain": [
       "(477551, 10)"
      ]
     },
     "execution_count": 7,
     "metadata": {},
     "output_type": "execute_result"
    }
   ],
   "source": [
    "%%time\n",
    "\n",
    "df = pd.read_csv(RAW_INPUT_DATA_S3_LOCATION)\n",
    "df.shape"
   ]
  },
  {
   "cell_type": "code",
   "execution_count": 8,
   "metadata": {},
   "outputs": [],
   "source": [
    "df.drop(df.filter(regex='Unnamed'), axis=1, inplace=True)\n",
    "df.drop(['author', 'date', 'domain', 'companies', 'locations', 'sdgs'], axis=1, inplace=True)"
   ]
  },
  {
   "cell_type": "code",
   "execution_count": 9,
   "metadata": {},
   "outputs": [],
   "source": [
    "def clean(article: list) -> str:\n",
    "    return '\\n'.join(eval(article))"
   ]
  },
  {
   "cell_type": "code",
   "execution_count": 10,
   "metadata": {},
   "outputs": [
    {
     "data": {
      "text/html": [
       "<div>\n",
       "<style scoped>\n",
       "    .dataframe tbody tr th:only-of-type {\n",
       "        vertical-align: middle;\n",
       "    }\n",
       "\n",
       "    .dataframe tbody tr th {\n",
       "        vertical-align: top;\n",
       "    }\n",
       "\n",
       "    .dataframe thead th {\n",
       "        text-align: right;\n",
       "    }\n",
       "</style>\n",
       "<table border=\"1\" class=\"dataframe\">\n",
       "  <thead>\n",
       "    <tr style=\"text-align: right;\">\n",
       "      <th></th>\n",
       "      <th>title</th>\n",
       "      <th>content</th>\n",
       "      <th>category</th>\n",
       "    </tr>\n",
       "  </thead>\n",
       "  <tbody>\n",
       "    <tr>\n",
       "      <th>0</th>\n",
       "      <td>Looking into the truth about modern workplace ...</td>\n",
       "      <td>Hi, what are you looking for?\\nBy\\nPublished\\n...</td>\n",
       "      <td>general</td>\n",
       "    </tr>\n",
       "    <tr>\n",
       "      <th>1</th>\n",
       "      <td>Hexo refiles financial statements</td>\n",
       "      <td>New York reported a record 90,132 new Covid-19...</td>\n",
       "      <td>general</td>\n",
       "    </tr>\n",
       "    <tr>\n",
       "      <th>2</th>\n",
       "      <td>Japan raid, Turkey arrests in widening Ghosn p...</td>\n",
       "      <td>Hi, what are you looking for?\\nBy\\nPublished\\n...</td>\n",
       "      <td>general</td>\n",
       "    </tr>\n",
       "    <tr>\n",
       "      <th>3</th>\n",
       "      <td>Pope's bodyguards criticised over slapping inc...</td>\n",
       "      <td>Hi, what are you looking for?\\nBy\\nPublished\\n...</td>\n",
       "      <td>general</td>\n",
       "    </tr>\n",
       "    <tr>\n",
       "      <th>4</th>\n",
       "      <td>Lebanon denies president welcomed fugitive Ghosn</td>\n",
       "      <td>Hi, what are you looking for?\\nBy\\nPublished\\n...</td>\n",
       "      <td>general</td>\n",
       "    </tr>\n",
       "  </tbody>\n",
       "</table>\n",
       "</div>"
      ],
      "text/plain": [
       "                                               title  \\\n",
       "0  Looking into the truth about modern workplace ...   \n",
       "1                  Hexo refiles financial statements   \n",
       "2  Japan raid, Turkey arrests in widening Ghosn p...   \n",
       "3  Pope's bodyguards criticised over slapping inc...   \n",
       "4   Lebanon denies president welcomed fugitive Ghosn   \n",
       "\n",
       "                                             content category  \n",
       "0  Hi, what are you looking for?\\nBy\\nPublished\\n...  general  \n",
       "1  New York reported a record 90,132 new Covid-19...  general  \n",
       "2  Hi, what are you looking for?\\nBy\\nPublished\\n...  general  \n",
       "3  Hi, what are you looking for?\\nBy\\nPublished\\n...  general  \n",
       "4  Hi, what are you looking for?\\nBy\\nPublished\\n...  general  "
      ]
     },
     "execution_count": 10,
     "metadata": {},
     "output_type": "execute_result"
    }
   ],
   "source": [
    "df['content'] = df['content'].apply(clean)\n",
    "df.rename(columns={'datatype': 'category'}, inplace=True)\n",
    "df.head()"
   ]
  },
  {
   "cell_type": "markdown",
   "metadata": {},
   "source": [
    "### III. Prepare dataset for BERT MLM training "
   ]
  },
  {
   "cell_type": "code",
   "execution_count": 11,
   "metadata": {},
   "outputs": [
    {
     "data": {
      "text/html": [
       "<div>\n",
       "<style scoped>\n",
       "    .dataframe tbody tr th:only-of-type {\n",
       "        vertical-align: middle;\n",
       "    }\n",
       "\n",
       "    .dataframe tbody tr th {\n",
       "        vertical-align: top;\n",
       "    }\n",
       "\n",
       "    .dataframe thead th {\n",
       "        text-align: right;\n",
       "    }\n",
       "</style>\n",
       "<table border=\"1\" class=\"dataframe\">\n",
       "  <thead>\n",
       "    <tr style=\"text-align: right;\">\n",
       "      <th></th>\n",
       "      <th>title</th>\n",
       "      <th>content</th>\n",
       "    </tr>\n",
       "  </thead>\n",
       "  <tbody>\n",
       "    <tr>\n",
       "      <th>0</th>\n",
       "      <td>Looking into the truth about modern workplace ...</td>\n",
       "      <td>Hi, what are you looking for?\\nBy\\nPublished\\n...</td>\n",
       "    </tr>\n",
       "    <tr>\n",
       "      <th>1</th>\n",
       "      <td>Hexo refiles financial statements</td>\n",
       "      <td>New York reported a record 90,132 new Covid-19...</td>\n",
       "    </tr>\n",
       "    <tr>\n",
       "      <th>2</th>\n",
       "      <td>Japan raid, Turkey arrests in widening Ghosn p...</td>\n",
       "      <td>Hi, what are you looking for?\\nBy\\nPublished\\n...</td>\n",
       "    </tr>\n",
       "    <tr>\n",
       "      <th>3</th>\n",
       "      <td>Pope's bodyguards criticised over slapping inc...</td>\n",
       "      <td>Hi, what are you looking for?\\nBy\\nPublished\\n...</td>\n",
       "    </tr>\n",
       "    <tr>\n",
       "      <th>4</th>\n",
       "      <td>Lebanon denies president welcomed fugitive Ghosn</td>\n",
       "      <td>Hi, what are you looking for?\\nBy\\nPublished\\n...</td>\n",
       "    </tr>\n",
       "  </tbody>\n",
       "</table>\n",
       "</div>"
      ],
      "text/plain": [
       "                                               title  \\\n",
       "0  Looking into the truth about modern workplace ...   \n",
       "1                  Hexo refiles financial statements   \n",
       "2  Japan raid, Turkey arrests in widening Ghosn p...   \n",
       "3  Pope's bodyguards criticised over slapping inc...   \n",
       "4   Lebanon denies president welcomed fugitive Ghosn   \n",
       "\n",
       "                                             content  \n",
       "0  Hi, what are you looking for?\\nBy\\nPublished\\n...  \n",
       "1  New York reported a record 90,132 new Covid-19...  \n",
       "2  Hi, what are you looking for?\\nBy\\nPublished\\n...  \n",
       "3  Hi, what are you looking for?\\nBy\\nPublished\\n...  \n",
       "4  Hi, what are you looking for?\\nBy\\nPublished\\n...  "
      ]
     },
     "execution_count": 11,
     "metadata": {},
     "output_type": "execute_result"
    }
   ],
   "source": [
    "mlm_df = df[['title', 'content']]\n",
    "mlm_df.head()"
   ]
  },
  {
   "cell_type": "code",
   "execution_count": 12,
   "metadata": {},
   "outputs": [],
   "source": [
    "def save_as_txt(df: DataFrame) -> None:\n",
    "    fout = open('.././data/covid_articles.txt', 'w', encoding='utf-8')\n",
    "    for title, content in zip(df.title.values, df.content.values):\n",
    "        fout.write('\\n'.join([title, content]))\n",
    "    fout.close()"
   ]
  },
  {
   "cell_type": "code",
   "execution_count": 13,
   "metadata": {},
   "outputs": [
    {
     "name": "stdout",
     "output_type": "stream",
     "text": [
      "CPU times: user 9.52 s, sys: 1.15 s, total: 10.7 s\n",
      "Wall time: 32.9 s\n"
     ]
    }
   ],
   "source": [
    "%%time\n",
    "\n",
    "save_as_txt(df)"
   ]
  },
  {
   "cell_type": "code",
   "execution_count": 14,
   "metadata": {},
   "outputs": [],
   "source": [
    "sleep(5)  # Allow time for save to S3"
   ]
  },
  {
   "cell_type": "markdown",
   "metadata": {},
   "source": [
    "##### Copy dataset from local to S3"
   ]
  },
  {
   "cell_type": "code",
   "execution_count": 15,
   "metadata": {},
   "outputs": [
    {
     "name": "stdout",
     "output_type": "stream",
     "text": [
      "CPU times: user 19.3 s, sys: 17.4 s, total: 36.6 s\n",
      "Wall time: 18.1 s\n"
     ]
    }
   ],
   "source": [
    "%%time\n",
    "\n",
    "s3.meta.client.upload_file('.././data/covid_articles.txt', S3_BUCKET, f'{S3_DATA_FOLDER}/covid_articles.txt')"
   ]
  },
  {
   "cell_type": "markdown",
   "metadata": {},
   "source": [
    "### IV. Prepare dataset for sequence classification "
   ]
  },
  {
   "cell_type": "code",
   "execution_count": 16,
   "metadata": {},
   "outputs": [],
   "source": [
    "clf_df = df.copy()\n",
    "clf_df.dropna(inplace=True)"
   ]
  },
  {
   "cell_type": "code",
   "execution_count": 17,
   "metadata": {},
   "outputs": [],
   "source": [
    "def combine(title: str, content: str) -> str:\n",
    "    return '\\n'.join([title, content])"
   ]
  },
  {
   "cell_type": "code",
   "execution_count": 18,
   "metadata": {},
   "outputs": [
    {
     "data": {
      "text/html": [
       "<div>\n",
       "<style scoped>\n",
       "    .dataframe tbody tr th:only-of-type {\n",
       "        vertical-align: middle;\n",
       "    }\n",
       "\n",
       "    .dataframe tbody tr th {\n",
       "        vertical-align: top;\n",
       "    }\n",
       "\n",
       "    .dataframe thead th {\n",
       "        text-align: right;\n",
       "    }\n",
       "</style>\n",
       "<table border=\"1\" class=\"dataframe\">\n",
       "  <thead>\n",
       "    <tr style=\"text-align: right;\">\n",
       "      <th></th>\n",
       "      <th>title</th>\n",
       "      <th>content</th>\n",
       "      <th>category</th>\n",
       "      <th>article</th>\n",
       "    </tr>\n",
       "  </thead>\n",
       "  <tbody>\n",
       "    <tr>\n",
       "      <th>0</th>\n",
       "      <td>Looking into the truth about modern workplace ...</td>\n",
       "      <td>Hi, what are you looking for?\\nBy\\nPublished\\n...</td>\n",
       "      <td>general</td>\n",
       "      <td>Looking into the truth about modern workplace ...</td>\n",
       "    </tr>\n",
       "    <tr>\n",
       "      <th>1</th>\n",
       "      <td>Hexo refiles financial statements</td>\n",
       "      <td>New York reported a record 90,132 new Covid-19...</td>\n",
       "      <td>general</td>\n",
       "      <td>Hexo refiles financial statements\\nNew York re...</td>\n",
       "    </tr>\n",
       "    <tr>\n",
       "      <th>2</th>\n",
       "      <td>Japan raid, Turkey arrests in widening Ghosn p...</td>\n",
       "      <td>Hi, what are you looking for?\\nBy\\nPublished\\n...</td>\n",
       "      <td>general</td>\n",
       "      <td>Japan raid, Turkey arrests in widening Ghosn p...</td>\n",
       "    </tr>\n",
       "    <tr>\n",
       "      <th>3</th>\n",
       "      <td>Pope's bodyguards criticised over slapping inc...</td>\n",
       "      <td>Hi, what are you looking for?\\nBy\\nPublished\\n...</td>\n",
       "      <td>general</td>\n",
       "      <td>Pope's bodyguards criticised over slapping inc...</td>\n",
       "    </tr>\n",
       "    <tr>\n",
       "      <th>4</th>\n",
       "      <td>Lebanon denies president welcomed fugitive Ghosn</td>\n",
       "      <td>Hi, what are you looking for?\\nBy\\nPublished\\n...</td>\n",
       "      <td>general</td>\n",
       "      <td>Lebanon denies president welcomed fugitive Gho...</td>\n",
       "    </tr>\n",
       "  </tbody>\n",
       "</table>\n",
       "</div>"
      ],
      "text/plain": [
       "                                               title  \\\n",
       "0  Looking into the truth about modern workplace ...   \n",
       "1                  Hexo refiles financial statements   \n",
       "2  Japan raid, Turkey arrests in widening Ghosn p...   \n",
       "3  Pope's bodyguards criticised over slapping inc...   \n",
       "4   Lebanon denies president welcomed fugitive Ghosn   \n",
       "\n",
       "                                             content category  \\\n",
       "0  Hi, what are you looking for?\\nBy\\nPublished\\n...  general   \n",
       "1  New York reported a record 90,132 new Covid-19...  general   \n",
       "2  Hi, what are you looking for?\\nBy\\nPublished\\n...  general   \n",
       "3  Hi, what are you looking for?\\nBy\\nPublished\\n...  general   \n",
       "4  Hi, what are you looking for?\\nBy\\nPublished\\n...  general   \n",
       "\n",
       "                                             article  \n",
       "0  Looking into the truth about modern workplace ...  \n",
       "1  Hexo refiles financial statements\\nNew York re...  \n",
       "2  Japan raid, Turkey arrests in widening Ghosn p...  \n",
       "3  Pope's bodyguards criticised over slapping inc...  \n",
       "4  Lebanon denies president welcomed fugitive Gho...  "
      ]
     },
     "execution_count": 18,
     "metadata": {},
     "output_type": "execute_result"
    }
   ],
   "source": [
    "clf_df['article'] = clf_df.apply(lambda x: combine(x['title'], x['content']), axis=1)\n",
    "clf_df.head()"
   ]
  },
  {
   "cell_type": "code",
   "execution_count": 19,
   "metadata": {},
   "outputs": [],
   "source": [
    "assert len(set(clf_df.category.values)) == 5"
   ]
  },
  {
   "cell_type": "markdown",
   "metadata": {},
   "source": [
    "##### Label encode `category` column"
   ]
  },
  {
   "cell_type": "code",
   "execution_count": 20,
   "metadata": {},
   "outputs": [],
   "source": [
    "label_encoder = LabelEncoder()\n",
    "clf_df['category'] = label_encoder.fit_transform(clf_df['category'])"
   ]
  },
  {
   "cell_type": "markdown",
   "metadata": {},
   "source": [
    "##### Get label mapping"
   ]
  },
  {
   "cell_type": "code",
   "execution_count": 21,
   "metadata": {},
   "outputs": [
    {
     "data": {
      "text/plain": [
       "{'business': 0, 'esg': 1, 'general': 2, 'science': 3, 'tech': 4}"
      ]
     },
     "execution_count": 21,
     "metadata": {},
     "output_type": "execute_result"
    }
   ],
   "source": [
    "label_map = dict(zip(label_encoder.classes_, label_encoder.transform(label_encoder.classes_)))\n",
    "label_map"
   ]
  },
  {
   "cell_type": "markdown",
   "metadata": {},
   "source": [
    "##### Save label mapping to be used during inference"
   ]
  },
  {
   "cell_type": "code",
   "execution_count": 22,
   "metadata": {},
   "outputs": [],
   "source": [
    "with open('.././data/label_map', 'wb') as f:\n",
    "     pickle.dump(label_map, f, protocol=pickle.HIGHEST_PROTOCOL)"
   ]
  },
  {
   "cell_type": "markdown",
   "metadata": {},
   "source": [
    "##### Copy dataset from local to S3 "
   ]
  },
  {
   "cell_type": "code",
   "execution_count": 23,
   "metadata": {},
   "outputs": [
    {
     "name": "stdout",
     "output_type": "stream",
     "text": [
      "CPU times: user 1min 37s, sys: 1.64 s, total: 1min 39s\n",
      "Wall time: 2min 27s\n"
     ]
    }
   ],
   "source": [
    "%%time \n",
    "\n",
    "clf_df.to_csv('.././data/covid_articles_clf_data.csv',  encoding='utf-8', index=False, header=False)"
   ]
  },
  {
   "cell_type": "code",
   "execution_count": 24,
   "metadata": {},
   "outputs": [],
   "source": [
    "sleep(5)  # Allow time for save to S3"
   ]
  },
  {
   "cell_type": "code",
   "execution_count": 25,
   "metadata": {},
   "outputs": [
    {
     "name": "stdout",
     "output_type": "stream",
     "text": [
      "CPU times: user 38.2 s, sys: 34.6 s, total: 1min 12s\n",
      "Wall time: 30.9 s\n"
     ]
    }
   ],
   "source": [
    "%%time \n",
    "\n",
    "s3.meta.client.upload_file('.././data/covid_articles_clf_data.csv', S3_BUCKET, f'{S3_DATA_FOLDER}/covid_articles_clf_data.csv')"
   ]
  },
  {
   "cell_type": "markdown",
   "metadata": {},
   "source": [
    "#### Clean up local copies of data "
   ]
  },
  {
   "cell_type": "code",
   "execution_count": 26,
   "metadata": {},
   "outputs": [],
   "source": [
    "! rm .././data/covid_articles.txt"
   ]
  },
  {
   "cell_type": "code",
   "execution_count": 27,
   "metadata": {},
   "outputs": [],
   "source": [
    "! rm .././data/covid_articles_clf_data.csv"
   ]
  },
  {
   "cell_type": "code",
   "execution_count": null,
   "metadata": {},
   "outputs": [],
   "source": []
  }
 ],
 "metadata": {
  "instance_type": "ml.m5.2xlarge",
  "kernelspec": {
   "display_name": "Python 3 (Data Science)",
   "language": "python",
   "name": "python3__SAGEMAKER_INTERNAL__arn:aws:sagemaker:us-east-1:081325390199:image/datascience-1.0"
  },
  "language_info": {
   "codemirror_mode": {
    "name": "ipython",
    "version": 3
   },
   "file_extension": ".py",
   "mimetype": "text/x-python",
   "name": "python",
   "nbconvert_exporter": "python",
   "pygments_lexer": "ipython3",
   "version": "3.7.10"
  }
 },
 "nbformat": 4,
 "nbformat_minor": 5
}
