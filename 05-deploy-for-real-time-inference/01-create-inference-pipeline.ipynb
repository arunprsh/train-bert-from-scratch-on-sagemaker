{
 "cells": [
  {
   "cell_type": "markdown",
   "id": "2421eb7b-3a04-4790-b753-bb9d82a36419",
   "metadata": {},
   "source": [
    "#### Prerequisites"
   ]
  },
  {
   "cell_type": "code",
   "execution_count": null,
   "id": "f598d8e1-249c-4a6a-8e22-66a7e96a1e62",
   "metadata": {},
   "outputs": [],
   "source": [
    "%%capture \n",
    "\n",
    "!pip install sagemake==2.100.0\n",
    "!pip install jedi==0.17  # this is a requirement for pygmentize to work"
   ]
  },
  {
   "cell_type": "markdown",
   "id": "080b603c-dfee-4706-b035-8f484f97541d",
   "metadata": {},
   "source": [
    "#### Imports "
   ]
  },
  {
   "cell_type": "code",
   "execution_count": 2,
   "id": "868ce289-530d-4123-a8a5-aebb038e584b",
   "metadata": {},
   "outputs": [],
   "source": [
    "import sagemaker\n",
    "import logging"
   ]
  },
  {
   "cell_type": "code",
   "execution_count": null,
   "id": "f018888e-64aa-4b05-89da-f99301e772fb",
   "metadata": {},
   "outputs": [],
   "source": []
  },
  {
   "cell_type": "code",
   "execution_count": null,
   "id": "e99818f3-2811-4bf7-9dce-1d45fef9067c",
   "metadata": {},
   "outputs": [],
   "source": []
  },
  {
   "cell_type": "code",
   "execution_count": null,
   "id": "72deb31c-e363-415f-852a-78186346c064",
   "metadata": {},
   "outputs": [],
   "source": []
  },
  {
   "cell_type": "markdown",
   "id": "fb6d57ce-88cd-4fe6-a7a6-ee7c5e748497",
   "metadata": {},
   "source": [
    "### View inference script"
   ]
  },
  {
   "cell_type": "code",
   "execution_count": 3,
   "id": "97d9f9f5-e4a9-4966-ae2b-a4b7aed459c7",
   "metadata": {},
   "outputs": [
    {
     "name": "stdout",
     "output_type": "stream",
     "text": [
      "\u001b[34mfrom\u001b[39;49;00m \u001b[04m\u001b[36mtransformers\u001b[39;49;00m \u001b[34mimport\u001b[39;49;00m pipeline\n",
      "\u001b[34mimport\u001b[39;49;00m \u001b[04m\u001b[36mlogging\u001b[39;49;00m \n",
      "\n",
      "\n",
      "\u001b[37m# Setup logging \u001b[39;49;00m\n",
      "\n",
      "\n",
      "\u001b[34mif\u001b[39;49;00m \u001b[31m__name__\u001b[39;49;00m == \u001b[33m'\u001b[39;49;00m\u001b[33m__main__\u001b[39;49;00m\u001b[33m'\u001b[39;49;00m:\n",
      "    classifier = pipeline(\u001b[33m'\u001b[39;49;00m\u001b[33msentiment-analysis\u001b[39;49;00m\u001b[33m'\u001b[39;49;00m, model=\u001b[33m'\u001b[39;49;00m\u001b[33m./clf-model/checkpoint-1500\u001b[39;49;00m\u001b[33m'\u001b[39;49;00m)\n",
      "    prediction = classifier(\u001b[33m'\u001b[39;49;00m\u001b[33mI love you\u001b[39;49;00m\u001b[33m'\u001b[39;49;00m)[\u001b[34m0\u001b[39;49;00m]\n"
     ]
    }
   ],
   "source": [
    "!pygmentize ./src/inference.py"
   ]
  },
  {
   "cell_type": "code",
   "execution_count": null,
   "id": "cf0ebf54-02c8-446d-a137-f64dd186044c",
   "metadata": {},
   "outputs": [],
   "source": []
  }
 ],
 "metadata": {
  "instance_type": "ml.g4dn.xlarge",
  "kernelspec": {
   "display_name": "Python 3 (PyTorch 1.8 Python 3.6 GPU Optimized)",
   "language": "python",
   "name": "python3__SAGEMAKER_INTERNAL__arn:aws:sagemaker:us-east-1:081325390199:image/pytorch-1.8-gpu-py36"
  },
  "language_info": {
   "codemirror_mode": {
    "name": "ipython",
    "version": 3
   },
   "file_extension": ".py",
   "mimetype": "text/x-python",
   "name": "python",
   "nbconvert_exporter": "python",
   "pygments_lexer": "ipython3",
   "version": "3.6.13"
  }
 },
 "nbformat": 4,
 "nbformat_minor": 5
}
