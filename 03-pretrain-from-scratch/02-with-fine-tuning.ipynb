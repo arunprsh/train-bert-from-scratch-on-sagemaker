{
 "cells": [
  {
   "cell_type": "markdown",
   "id": "f6bce0b3-3f4a-472a-8a8b-735f0e6c00dd",
   "metadata": {},
   "source": [
    "## `Fine-tune` original BERT with our COVID articles and take the `fill mask` test "
   ]
  },
  {
   "cell_type": "markdown",
   "id": "318287d2-f640-4029-a8bf-0a31c6708eb2",
   "metadata": {},
   "source": [
    "#### Prerequisites"
   ]
  },
  {
   "cell_type": "code",
   "execution_count": 2,
   "id": "572e5422-9f87-416f-9bc6-1c4df02998f8",
   "metadata": {},
   "outputs": [],
   "source": [
    "%%capture \n",
    "\n",
    "!pip install sagemaker==2.100.0\n",
    "!pip install jedi==0.17  # this is a requirement for pygmentize to work"
   ]
  },
  {
   "cell_type": "markdown",
   "id": "e589a051-d469-4b92-95a0-d50dea3d8cf0",
   "metadata": {},
   "source": [
    "#### Imports "
   ]
  },
  {
   "cell_type": "code",
   "execution_count": 3,
   "id": "6664bef4-a104-46f6-beaa-16ded94f622c",
   "metadata": {},
   "outputs": [],
   "source": [
    "from sagemaker.huggingface import HuggingFace\n",
    "from sagemaker import get_execution_role\n",
    "from sagemaker import Session\n",
    "import sagemaker\n",
    "import logging"
   ]
  },
  {
   "cell_type": "markdown",
   "id": "f3c2d009-397a-4143-a508-72024c39fc7f",
   "metadata": {},
   "source": [
    "##### Setup logging"
   ]
  },
  {
   "cell_type": "code",
   "execution_count": 4,
   "id": "024eaa36-913a-4fec-add3-e355d950829c",
   "metadata": {},
   "outputs": [],
   "source": [
    "logger = logging.getLogger('sagemaker')\n",
    "logger.setLevel(logging.DEBUG)\n",
    "logger.addHandler(logging.StreamHandler())"
   ]
  },
  {
   "cell_type": "markdown",
   "id": "e1cddfee-293e-46f2-8789-1593c9ca66fa",
   "metadata": {},
   "source": [
    "##### Log versions of dependencies"
   ]
  },
  {
   "cell_type": "code",
   "execution_count": 5,
   "id": "75b194d0-84c2-4a30-a7dc-62100cb723f4",
   "metadata": {},
   "outputs": [
    {
     "name": "stderr",
     "output_type": "stream",
     "text": [
      "[Using SageMaker: 2.99.0]\n"
     ]
    }
   ],
   "source": [
    "logger.info(f'[Using SageMaker: {sagemaker.__version__}]')"
   ]
  },
  {
   "cell_type": "markdown",
   "id": "ddc5ac5a-7d77-40ec-86fb-51d3d5d3585f",
   "metadata": {},
   "source": [
    "#### Essentials "
   ]
  },
  {
   "cell_type": "code",
   "execution_count": 6,
   "id": "a9dff828-cc10-4fd5-8f9d-83aa14a595c0",
   "metadata": {},
   "outputs": [
    {
     "name": "stderr",
     "output_type": "stream",
     "text": [
      "S3 bucket = sagemaker-us-east-1-119174016168\n"
     ]
    }
   ],
   "source": [
    "session = Session()\n",
    "ROLE = get_execution_role()\n",
    "S3_BUCKET = session.default_bucket()\n",
    "logger.info(f'S3 bucket = {S3_BUCKET}')\n",
    "\n",
    "ENTRY_POINT = 'fine_tune.py'\n",
    "SOURCE_DIR = './src'\n",
    "INSTANCE_TYPE = 'ml.p4d.24xlarge'\n",
    "INSTANCE_COUNT = 2\n",
    "EBS_VOLUME_SIZE = 1024\n",
    "TRANSFORMERS_VERSION = '4.17.0'\n",
    "PYTORCH_VERSION = '1.10.2'\n",
    "PYTHON_VERSION = 'py38'"
   ]
  },
  {
   "cell_type": "markdown",
   "id": "5011f56c-9d6b-4cd5-b206-bfb2726cee40",
   "metadata": {},
   "source": [
    "#### View training script "
   ]
  },
  {
   "cell_type": "code",
   "execution_count": 9,
   "id": "7ada6b5b-cac6-4d75-8fe4-b7858f5c9639",
   "metadata": {},
   "outputs": [],
   "source": [
    "#!pygmentize ./src/fine_tune.py"
   ]
  },
  {
   "cell_type": "markdown",
   "id": "97833e7d-8f16-440e-af8f-8ba04924f446",
   "metadata": {},
   "source": [
    "#### Create the estimator \n",
    "\n",
    "* Documentation on SageMaker HuggingFace Estimator can be found [here](https://sagemaker.readthedocs.io/en/stable/frameworks/huggingface/sagemaker.huggingface.html)"
   ]
  },
  {
   "cell_type": "code",
   "execution_count": 6,
   "id": "b497a195-b529-4b04-8700-fc8cb4442e3f",
   "metadata": {},
   "outputs": [],
   "source": [
    "DATA = {'train': f's3://{S3_BUCKET}/data'}"
   ]
  },
  {
   "cell_type": "code",
   "execution_count": null,
   "id": "71388f75-b743-4253-b276-bb462db96629",
   "metadata": {},
   "outputs": [],
   "source": [
    "MAX_LENGTH = 512  # Context size for BERT tokenizer \n",
    "CHUNK_SIZE = 128  \n",
    "TRAIN_EPOCHS = 10\n",
    "BATCH_SIZE = 32"
   ]
  },
  {
   "cell_type": "code",
   "execution_count": null,
   "id": "ffa57c97-ae44-47a6-8c60-2fe02c907813",
   "metadata": {},
   "outputs": [],
   "source": [
    "HYPERPARAMETERS = {'s3_bucket': S3_BUCKET, \n",
    "                   'max_len': MAX_LENGTH,\n",
    "                   'chunk_size': CHUNK_SIZE,\n",
    "                   'num_train_epochs': TRAIN_EPOCHS, \n",
    "                   'per_device_train_batch_size': BATCH_SIZE}"
   ]
  },
  {
   "cell_type": "code",
   "execution_count": null,
   "id": "663fe3a4-8ee9-44ed-82de-26a92ed62535",
   "metadata": {},
   "outputs": [],
   "source": [
    "DISTRIBUTION_STRATEGY = {'smdistributed':{'dataparallel':{ 'enabled': True }}}"
   ]
  },
  {
   "cell_type": "code",
   "execution_count": 7,
   "id": "66f088c5-7557-4cc8-973a-0fb8195b3310",
   "metadata": {},
   "outputs": [],
   "source": [
    "huggingface_estimator = HuggingFace(entry_point=ENTRY_POINT, \n",
    "                                    source_dir=SOURCE_DIR, \n",
    "                                    role=ROLE, \n",
    "                                    instance_type=INSTANCE_TYPE, \n",
    "                                    instance_count=INSTANCE_COUNT,\n",
    "                                    volume_size=EBS_VOLUME_SIZE,\n",
    "                                    hyperparameters=HYPERPARAMETERS,\n",
    "                                    distribution=DISTRIBUTION_STRATEGY,\n",
    "                                    transformers_version=TRANSFORMERS_VERSION, \n",
    "                                    pytorch_version=PYTORCH_VERSION, \n",
    "                                    py_version=PYTHON_VERSION, \n",
    "                                    disable_profiler=True,\n",
    "                                    debugger_hook_config=False)"
   ]
  },
  {
   "cell_type": "markdown",
   "id": "bb9ad26c-96c8-4a48-ad36-e32a600e9598",
   "metadata": {},
   "source": [
    "#### Kick-off Fine-tuning Job"
   ]
  },
  {
   "cell_type": "code",
   "execution_count": null,
   "id": "899bce1e-db21-4f21-921c-5cc0ac09cea1",
   "metadata": {},
   "outputs": [
    {
     "name": "stderr",
     "output_type": "stream",
     "text": [
      "Defaulting to the only supported framework/algorithm version: latest.\n",
      "Ignoring unnecessary instance type: None.\n",
      "Creating training-job with name: huggingface-pytorch-training-2022-07-28-13-18-04-329\n",
      "train request: {\n",
      "    \"AlgorithmSpecification\": {\n",
      "        \"TrainingInputMode\": \"File\",\n",
      "        \"TrainingImage\": \"763104351884.dkr.ecr.us-east-1.amazonaws.com/huggingface-pytorch-training:1.10.2-transformers4.17.0-gpu-py38-cu113-ubuntu20.04\",\n",
      "        \"EnableSageMakerMetricsTimeSeries\": true\n",
      "    },\n",
      "    \"OutputDataConfig\": {\n",
      "        \"S3OutputPath\": \"s3://sagemaker-us-east-1-119174016168/\"\n",
      "    },\n",
      "    \"TrainingJobName\": \"huggingface-pytorch-training-2022-07-28-13-18-04-329\",\n",
      "    \"StoppingCondition\": {\n",
      "        \"MaxRuntimeInSeconds\": 86400\n",
      "    },\n",
      "    \"ResourceConfig\": {\n",
      "        \"InstanceCount\": 2,\n",
      "        \"InstanceType\": \"ml.p4d.24xlarge\",\n",
      "        \"VolumeSizeInGB\": 1000\n",
      "    },\n",
      "    \"RoleArn\": \"arn:aws:iam::119174016168:role/service-role/AmazonSageMaker-ExecutionRole-20211014T093628\",\n",
      "    \"InputDataConfig\": [\n",
      "        {\n",
      "            \"DataSource\": {\n",
      "                \"S3DataSource\": {\n",
      "                    \"S3DataType\": \"S3Prefix\",\n",
      "                    \"S3Uri\": \"s3://sagemaker-us-east-1-119174016168/corpus\",\n",
      "                    \"S3DataDistributionType\": \"FullyReplicated\"\n",
      "                }\n",
      "            },\n",
      "            \"ChannelName\": \"train\"\n",
      "        }\n",
      "    ],\n",
      "    \"HyperParameters\": {\n",
      "        \"model_s3_save_path\": \"\\\"s3://sagemaker-us-east-1-119174016168/model\\\"\",\n",
      "        \"sagemaker_submit_directory\": \"\\\"s3://sagemaker-us-east-1-119174016168/huggingface-pytorch-training-2022-07-28-13-18-04-329/source/sourcedir.tar.gz\\\"\",\n",
      "        \"sagemaker_program\": \"\\\"fine_tune.py\\\"\",\n",
      "        \"sagemaker_container_log_level\": \"20\",\n",
      "        \"sagemaker_job_name\": \"\\\"huggingface-pytorch-training-2022-07-28-13-18-04-329\\\"\",\n",
      "        \"sagemaker_region\": \"\\\"us-east-1\\\"\",\n",
      "        \"sagemaker_distributed_dataparallel_enabled\": \"true\",\n",
      "        \"sagemaker_instance_type\": \"\\\"ml.p4d.24xlarge\\\"\",\n",
      "        \"sagemaker_distributed_dataparallel_custom_mpi_options\": \"\\\"\\\"\"\n",
      "    },\n",
      "    \"DebugHookConfig\": {\n",
      "        \"S3OutputPath\": \"s3://sagemaker-us-east-1-119174016168/\",\n",
      "        \"CollectionConfigurations\": []\n",
      "    },\n",
      "    \"ProfilerRuleConfigurations\": [\n",
      "        {\n",
      "            \"RuleConfigurationName\": \"ProfilerReport-1659014284\",\n",
      "            \"RuleEvaluatorImage\": \"503895931360.dkr.ecr.us-east-1.amazonaws.com/sagemaker-debugger-rules:latest\",\n",
      "            \"RuleParameters\": {\n",
      "                \"rule_to_invoke\": \"ProfilerReport\"\n",
      "            }\n",
      "        }\n",
      "    ],\n",
      "    \"ProfilerConfig\": {\n",
      "        \"S3OutputPath\": \"s3://sagemaker-us-east-1-119174016168/\"\n",
      "    }\n",
      "}\n"
     ]
    },
    {
     "name": "stdout",
     "output_type": "stream",
     "text": [
      "2022-07-28 13:18:04 Starting - Starting the training job...ProfilerReport-1659014284: InProgress\n",
      "...\n",
      "2022-07-28 13:18:53 Starting - Preparing the instances for training.............................................\n",
      "2022-07-28 13:26:35 Downloading - Downloading input data\n",
      "2022-07-28 13:26:35 Training - Downloading the training image...................."
     ]
    }
   ],
   "source": [
    "huggingface_estimator.fit(DATA, wait=False)"
   ]
  },
  {
   "cell_type": "code",
   "execution_count": null,
   "id": "6dc27a2b-4007-47cf-9a98-d2cf2fa81353",
   "metadata": {},
   "outputs": [],
   "source": []
  },
  {
   "cell_type": "code",
   "execution_count": null,
   "id": "210d0f36-5666-4b51-8af3-224d5b6bf8bc",
   "metadata": {},
   "outputs": [],
   "source": []
  },
  {
   "cell_type": "code",
   "execution_count": null,
   "id": "9f66dfaa-cdf4-4389-8243-77fcdc07d2bb",
   "metadata": {},
   "outputs": [],
   "source": []
  }
 ],
 "metadata": {
  "instance_type": "ml.t3.medium",
  "kernelspec": {
   "display_name": "Python 3 (Data Science)",
   "language": "python",
   "name": "python3__SAGEMAKER_INTERNAL__arn:aws:sagemaker:us-east-1:081325390199:image/datascience-1.0"
  },
  "language_info": {
   "codemirror_mode": {
    "name": "ipython",
    "version": 3
   },
   "file_extension": ".py",
   "mimetype": "text/x-python",
   "name": "python",
   "nbconvert_exporter": "python",
   "pygments_lexer": "ipython3",
   "version": "3.7.10"
  }
 },
 "nbformat": 4,
 "nbformat_minor": 5
}
