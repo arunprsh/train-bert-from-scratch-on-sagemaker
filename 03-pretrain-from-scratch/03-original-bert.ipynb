{
 "cells": [
  {
   "cell_type": "code",
   "execution_count": 2,
   "id": "01366c88-aa9b-4bdf-adef-d9f073b6d645",
   "metadata": {},
   "outputs": [],
   "source": [
    "from transformers import BertConfig, BertForMaskedLM, BertTokenizerFast, pipeline\n",
    "import transformers "
   ]
  },
  {
   "cell_type": "code",
   "execution_count": 3,
   "id": "c6478471-322f-45f7-9b8b-a02c2ee0b6d0",
   "metadata": {},
   "outputs": [
    {
     "data": {
      "text/plain": [
       "109514298"
      ]
     },
     "execution_count": 3,
     "metadata": {},
     "output_type": "execute_result"
    }
   ],
   "source": [
    "config = BertConfig()\n",
    "default_model = BertForMaskedLM(config=config)\n",
    "default_model.num_parameters()"
   ]
  },
  {
   "cell_type": "code",
   "execution_count": 4,
   "id": "399ab092-8b0c-4693-8ab9-4bf8fb55e61b",
   "metadata": {},
   "outputs": [],
   "source": [
    "%%capture\n",
    "\n",
    "!wget https://s3.amazonaws.com/models.huggingface.co/bert/bert-base-uncased-vocab.txt"
   ]
  },
  {
   "cell_type": "code",
   "execution_count": 5,
   "id": "22e6ce3b-96f5-4e09-9fc0-5372b3c57930",
   "metadata": {},
   "outputs": [],
   "source": [
    "config = BertConfig()"
   ]
  },
  {
   "cell_type": "code",
   "execution_count": 6,
   "id": "9088d55c-e127-4074-9ee6-63958774c444",
   "metadata": {},
   "outputs": [
    {
     "data": {
      "text/plain": [
       "PreTrainedTokenizerFast(name_or_path='./vocab', vocab_size=30522, model_max_len=512, is_fast=True, padding_side='right', truncation_side='right', special_tokens={'unk_token': '[UNK]', 'sep_token': '[SEP]', 'pad_token': '[PAD]', 'cls_token': '[CLS]', 'mask_token': '[MASK]'})"
      ]
     },
     "execution_count": 6,
     "metadata": {},
     "output_type": "execute_result"
    }
   ],
   "source": [
    "default_tokenizer = BertTokenizerFast.from_pretrained('./vocab', config=config)\n",
    "default_tokenizer.model_max_length = 512\n",
    "default_tokenizer.init_kwargs['model_max_length'] = 512\n",
    "default_tokenizer"
   ]
  },
  {
   "cell_type": "markdown",
   "id": "382d3d6a-c7d1-4e13-85f3-383f0940c28e",
   "metadata": {},
   "source": [
    "### MLM using the original BERT (this is not fine-tuned on our COVID articles)"
   ]
  },
  {
   "cell_type": "code",
   "execution_count": 7,
   "id": "c6b312a5-384c-4ef0-9915-13b5fa437d32",
   "metadata": {},
   "outputs": [
    {
     "data": {
      "text/plain": [
       "'[MASK]'"
      ]
     },
     "execution_count": 7,
     "metadata": {},
     "output_type": "execute_result"
    }
   ],
   "source": [
    "MASK_TOKEN = default_tokenizer.mask_token\n",
    "MASK_TOKEN"
   ]
  },
  {
   "cell_type": "code",
   "execution_count": 8,
   "id": "0876d12d-4aa6-4879-89ce-0e36f63375fb",
   "metadata": {},
   "outputs": [
    {
     "data": {
      "text/plain": [
       "{'unk_token': '[UNK]',\n",
       " 'sep_token': '[SEP]',\n",
       " 'pad_token': '[PAD]',\n",
       " 'cls_token': '[CLS]',\n",
       " 'mask_token': '[MASK]'}"
      ]
     },
     "execution_count": 8,
     "metadata": {},
     "output_type": "execute_result"
    }
   ],
   "source": [
    "default_tokenizer.special_tokens_map"
   ]
  },
  {
   "cell_type": "code",
   "execution_count": 9,
   "id": "2475998c-ec01-444e-aa70-a929d99d4eaf",
   "metadata": {},
   "outputs": [],
   "source": [
    "fill_mask = pipeline('fill-mask', model=default_model, tokenizer=default_tokenizer)"
   ]
  },
  {
   "cell_type": "code",
   "execution_count": 10,
   "id": "f31c63e5-16db-44d4-b33d-829c6166da6e",
   "metadata": {},
   "outputs": [
    {
     "data": {
      "text/plain": [
       "'covid is a [MASK]'"
      ]
     },
     "execution_count": 10,
     "metadata": {},
     "output_type": "execute_result"
    }
   ],
   "source": [
    "f'covid is a {MASK_TOKEN}'"
   ]
  },
  {
   "cell_type": "code",
   "execution_count": 11,
   "id": "e8bc14ed-76fe-45fa-a002-83827ba13f70",
   "metadata": {},
   "outputs": [
    {
     "name": "stdout",
     "output_type": "stream",
     "text": [
      "[2022-07-27 18:51:38.360 pytorch-1-8-gpu-py3-ml-g4dn-xlarge-60bd0d07a83be181dcf7335baae2:10907 INFO utils.py:27] RULE_JOB_STOP_SIGNAL_FILENAME: None\n",
      "[2022-07-27 18:51:38.393 pytorch-1-8-gpu-py3-ml-g4dn-xlarge-60bd0d07a83be181dcf7335baae2:10907 INFO profiler_config_parser.py:102] Unable to find config at /opt/ml/input/config/profilerconfig.json. Profiler is disabled.\n"
     ]
    },
    {
     "data": {
      "text/plain": [
       "[{'score': 0.0002743445511441678,\n",
       "  'token': 2636,\n",
       "  'token_str': 'turn',\n",
       "  'sequence': 'covid is a turn'},\n",
       " {'score': 0.0002334642776986584,\n",
       "  'token': 21810,\n",
       "  'token_str': 'doping',\n",
       "  'sequence': 'covid is a doping'},\n",
       " {'score': 0.00021816801745444536,\n",
       "  'token': 30044,\n",
       "  'token_str': '10b',\n",
       "  'sequence': 'covid is a 10b'},\n",
       " {'score': 0.00021085298794787377,\n",
       "  'token': 26260,\n",
       "  'token_str': 'courtroom',\n",
       "  'sequence': 'covid is a courtroom'},\n",
       " {'score': 0.00019946105021517724,\n",
       "  'token': 28741,\n",
       "  'token_str': 'fon',\n",
       "  'sequence': 'covid is a fon'}]"
      ]
     },
     "execution_count": 11,
     "metadata": {},
     "output_type": "execute_result"
    }
   ],
   "source": [
    "fill_mask([f'covid is a {MASK_TOKEN}'])"
   ]
  },
  {
   "cell_type": "code",
   "execution_count": 12,
   "id": "755d8b23-32a5-446e-82ee-dee235d55faa",
   "metadata": {},
   "outputs": [
    {
     "data": {
      "text/plain": [
       "[{'score': 0.0002585537440609187,\n",
       "  'token': 19442,\n",
       "  'token_str': 'bri',\n",
       "  'sequence': 'covid - 19 is a bri'},\n",
       " {'score': 0.00023853234597481787,\n",
       "  'token': 21019,\n",
       "  'token_str': 'هذا',\n",
       "  'sequence': 'covid - 19 is a هذا'},\n",
       " {'score': 0.00022808139328844845,\n",
       "  'token': 10795,\n",
       "  'token_str': 'recording',\n",
       "  'sequence': 'covid - 19 is a recording'},\n",
       " {'score': 0.00022737719700671732,\n",
       "  'token': 16085,\n",
       "  'token_str': 'africans',\n",
       "  'sequence': 'covid - 19 is a africans'},\n",
       " {'score': 0.00022075384913478047,\n",
       "  'token': 632,\n",
       "  'token_str': '所',\n",
       "  'sequence': 'covid - 19 is a 所'}]"
      ]
     },
     "execution_count": 12,
     "metadata": {},
     "output_type": "execute_result"
    }
   ],
   "source": [
    "fill_mask('Covid-19 is a [MASK]')"
   ]
  },
  {
   "cell_type": "code",
   "execution_count": 13,
   "id": "e069767e-3972-41cf-a1f7-50bfd52a0496",
   "metadata": {},
   "outputs": [
    {
     "data": {
      "text/plain": [
       "[{'score': 0.0002085938467644155,\n",
       "  'token': 19926,\n",
       "  'token_str': '##enta',\n",
       "  'sequence': 'covid is aenta'},\n",
       " {'score': 0.00020403138478286564,\n",
       "  'token': 11469,\n",
       "  'token_str': '##antis',\n",
       "  'sequence': 'covid is aantis'},\n",
       " {'score': 0.00020274311827961355,\n",
       "  'token': 1929,\n",
       "  'token_str': 'earn',\n",
       "  'sequence': 'covid is a earn'},\n",
       " {'score': 0.00020188064081594348,\n",
       "  'token': 19243,\n",
       "  'token_str': '##agher',\n",
       "  'sequence': 'covid is aagher'},\n",
       " {'score': 0.0002011073229368776,\n",
       "  'token': 10248,\n",
       "  'token_str': 'не',\n",
       "  'sequence': 'covid is a не'}]"
      ]
     },
     "execution_count": 13,
     "metadata": {},
     "output_type": "execute_result"
    }
   ],
   "source": [
    "fill_mask('Covid is a [MASK]')"
   ]
  },
  {
   "cell_type": "code",
   "execution_count": 14,
   "id": "330e054a-d753-4707-998c-d5965cee4d3a",
   "metadata": {},
   "outputs": [
    {
     "data": {
      "text/plain": [
       "[{'score': 0.00027196938754059374,\n",
       "  'token': 16085,\n",
       "  'token_str': 'africans',\n",
       "  'sequence': 'omicron africans in us'},\n",
       " {'score': 0.0002351998700760305,\n",
       "  'token': 13339,\n",
       "  'token_str': 'keir',\n",
       "  'sequence': 'omicron keir in us'},\n",
       " {'score': 0.00022676926164422184,\n",
       "  'token': 28507,\n",
       "  'token_str': 'hibern',\n",
       "  'sequence': 'omicron hibern in us'},\n",
       " {'score': 0.00021411867055576295,\n",
       "  'token': 1929,\n",
       "  'token_str': 'earn',\n",
       "  'sequence': 'omicron earn in us'},\n",
       " {'score': 0.00020654028048738837,\n",
       "  'token': 24644,\n",
       "  'token_str': '£500',\n",
       "  'sequence': 'omicron £500 in us'}]"
      ]
     },
     "execution_count": 14,
     "metadata": {},
     "output_type": "execute_result"
    }
   ],
   "source": [
    "fill_mask('Omicron [MASK] in US')"
   ]
  },
  {
   "cell_type": "code",
   "execution_count": null,
   "id": "95369f8b-533f-406f-b1e7-4c2d3228e737",
   "metadata": {},
   "outputs": [],
   "source": []
  },
  {
   "cell_type": "code",
   "execution_count": null,
   "id": "e6f3c32b-b72d-4b44-9747-e2e8a303b040",
   "metadata": {},
   "outputs": [],
   "source": []
  }
 ],
 "metadata": {
  "instance_type": "ml.g4dn.xlarge",
  "kernelspec": {
   "display_name": "Python 3 (PyTorch 1.8 Python 3.6 GPU Optimized)",
   "language": "python",
   "name": "python3__SAGEMAKER_INTERNAL__arn:aws:sagemaker:us-east-1:081325390199:image/pytorch-1.8-gpu-py36"
  },
  "language_info": {
   "codemirror_mode": {
    "name": "ipython",
    "version": 3
   },
   "file_extension": ".py",
   "mimetype": "text/x-python",
   "name": "python",
   "nbconvert_exporter": "python",
   "pygments_lexer": "ipython3",
   "version": "3.6.13"
  }
 },
 "nbformat": 4,
 "nbformat_minor": 5
}
