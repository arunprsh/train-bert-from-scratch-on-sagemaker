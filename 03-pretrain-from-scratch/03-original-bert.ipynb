{
 "cells": [
  {
   "cell_type": "markdown",
   "metadata": {},
   "source": [
    "### Use `original` BERT to take `fill mask` test without fine-tuning it on our COVID articles"
   ]
  },
  {
   "cell_type": "markdown",
   "metadata": {},
   "source": [
    "#### Prerequisites"
   ]
  },
  {
   "cell_type": "code",
   "execution_count": 2,
   "metadata": {},
   "outputs": [],
   "source": [
    "%%capture \n",
    "\n",
    "!pip install transformers==4.17.0\n",
    "!pip install pandas==1.1.5"
   ]
  },
  {
   "cell_type": "markdown",
   "metadata": {},
   "source": [
    "#### Imports "
   ]
  },
  {
   "cell_type": "code",
   "execution_count": 3,
   "metadata": {},
   "outputs": [],
   "source": [
    "from transformers import BertTokenizerFast\n",
    "from transformers import BertForMaskedLM\n",
    "from transformers import BertConfig\n",
    "from transformers import pipeline\n",
    "import transformers \n",
    "import pandas as pd\n",
    "import pandas\n",
    "import logging"
   ]
  },
  {
   "cell_type": "markdown",
   "metadata": {},
   "source": [
    "##### Setup logging"
   ]
  },
  {
   "cell_type": "code",
   "execution_count": 4,
   "metadata": {},
   "outputs": [],
   "source": [
    "logger = logging.getLogger('sagemaker')\n",
    "logger.setLevel(logging.DEBUG)\n",
    "logger.addHandler(logging.StreamHandler())"
   ]
  },
  {
   "cell_type": "markdown",
   "metadata": {},
   "source": [
    "##### Log versions of dependencies"
   ]
  },
  {
   "cell_type": "code",
   "execution_count": 5,
   "metadata": {},
   "outputs": [
    {
     "name": "stderr",
     "output_type": "stream",
     "text": [
      "[Using transformers: 4.17.0]\n",
      "[Using pandas: 1.1.5]\n"
     ]
    }
   ],
   "source": [
    "logger.info(f'[Using transformers: {transformers.__version__}]')\n",
    "logger.info(f'[Using pandas: {pd.__version__}]')"
   ]
  },
  {
   "cell_type": "markdown",
   "metadata": {},
   "source": [
    "#### Essentials"
   ]
  },
  {
   "cell_type": "code",
   "execution_count": 6,
   "metadata": {},
   "outputs": [],
   "source": [
    "config = BertConfig()"
   ]
  },
  {
   "cell_type": "markdown",
   "metadata": {},
   "source": [
    "#### Re-create BERT MLM "
   ]
  },
  {
   "cell_type": "code",
   "execution_count": 8,
   "metadata": {},
   "outputs": [
    {
     "name": "stderr",
     "output_type": "stream",
     "text": [
      "Total number of parameters = 109514298\n"
     ]
    }
   ],
   "source": [
    "default_model = BertForMaskedLM(config=config)\n",
    "logger.info(f'Total number of parameters = {default_model.num_parameters()}')"
   ]
  },
  {
   "cell_type": "markdown",
   "metadata": {},
   "source": [
    "#### Re-create default BERT tokenizer "
   ]
  },
  {
   "cell_type": "code",
   "execution_count": 9,
   "metadata": {},
   "outputs": [
    {
     "data": {
      "text/plain": [
       "PreTrainedTokenizerFast(name_or_path='./vocab', vocab_size=30522, model_max_len=512, is_fast=True, padding_side='right', truncation_side='right', special_tokens={'unk_token': '[UNK]', 'sep_token': '[SEP]', 'pad_token': '[PAD]', 'cls_token': '[CLS]', 'mask_token': '[MASK]'})"
      ]
     },
     "execution_count": 9,
     "metadata": {},
     "output_type": "execute_result"
    }
   ],
   "source": [
    "default_tokenizer = BertTokenizerFast.from_pretrained('./vocab', config=config)\n",
    "default_tokenizer.model_max_length = 512\n",
    "default_tokenizer.init_kwargs['model_max_length'] = 512\n",
    "default_tokenizer"
   ]
  },
  {
   "cell_type": "markdown",
   "metadata": {},
   "source": [
    "##### Verify tokenizer"
   ]
  },
  {
   "cell_type": "code",
   "execution_count": 10,
   "metadata": {},
   "outputs": [
    {
     "data": {
      "text/plain": [
       "'[MASK]'"
      ]
     },
     "execution_count": 10,
     "metadata": {},
     "output_type": "execute_result"
    }
   ],
   "source": [
    "MASK_TOKEN = default_tokenizer.mask_token\n",
    "MASK_TOKEN"
   ]
  },
  {
   "cell_type": "code",
   "execution_count": 11,
   "metadata": {},
   "outputs": [
    {
     "data": {
      "text/plain": [
       "{'unk_token': '[UNK]',\n",
       " 'sep_token': '[SEP]',\n",
       " 'pad_token': '[PAD]',\n",
       " 'cls_token': '[CLS]',\n",
       " 'mask_token': '[MASK]'}"
      ]
     },
     "execution_count": 11,
     "metadata": {},
     "output_type": "execute_result"
    }
   ],
   "source": [
    "default_tokenizer.special_tokens_map"
   ]
  },
  {
   "cell_type": "markdown",
   "metadata": {},
   "source": [
    "#### Create HuggingFace Pipeline for `fill mask` task"
   ]
  },
  {
   "cell_type": "code",
   "execution_count": 12,
   "metadata": {},
   "outputs": [],
   "source": [
    "fill_mask = pipeline('fill-mask', model=default_model, tokenizer=default_tokenizer)"
   ]
  },
  {
   "cell_type": "markdown",
   "metadata": {},
   "source": [
    "#### Test original BERT MLM for `fill mask` task"
   ]
  },
  {
   "cell_type": "code",
   "execution_count": 13,
   "metadata": {},
   "outputs": [
    {
     "name": "stdout",
     "output_type": "stream",
     "text": [
      "Ground Truth    : A number of firms have been reassessing spending plans in light of the covid-19 outbreak and reduced oil price.\n",
      "Masked sentence : A number of firms have been reassessing spending plans in light of the covid-19 [MASK] and reduced oil price.\n",
      "[2022-08-25 20:57:16.189 pytorch-1-8-gpu-py3-ml-g4dn-xlarge-60bd0d07a83be181dcf7335baae2:730 INFO utils.py:27] RULE_JOB_STOP_SIGNAL_FILENAME: None\n",
      "[2022-08-25 20:57:16.322 pytorch-1-8-gpu-py3-ml-g4dn-xlarge-60bd0d07a83be181dcf7335baae2:730 INFO profiler_config_parser.py:102] Unable to find config at /opt/ml/input/config/profilerconfig.json. Profiler is disabled.\n",
      "Rank: 1 | 0.03 % | ['##lvis']\n",
      "Rank: 2 | 0.03 % | ['lobster']\n",
      "Rank: 3 | 0.02 % | ['##von']\n",
      "----------------------------------------------------------------------------------------------------\n",
      "Ground Truth    : Globally, airlines are closing down and the covid-19 coronavirus has accelerated some of these closures.\n",
      "Masked sentence : Globally, airlines are closing down and the covid-19 [MASK] has accelerated some of these closures.\n",
      "Rank: 1 | 0.02 % | ['ruse']\n",
      "Rank: 2 | 0.02 % | ['rumble']\n",
      "Rank: 3 | 0.02 % | ['ottoman']\n",
      "----------------------------------------------------------------------------------------------------\n",
      "Ground Truth    : The first human challenge trial for covid has given some helpful insights into how infection progresses.\n",
      "Masked sentence : The first human challenge trial for covid has given some helpful insights into how [MASK] progresses.\n",
      "Rank: 1 | 0.03 % | ['barnes']\n",
      "Rank: 2 | 0.03 % | ['restrain']\n",
      "Rank: 3 | 0.03 % | ['potter']\n",
      "----------------------------------------------------------------------------------------------------\n",
      "Ground Truth    : The question of whether masks will reduce transmission of covid-19 in the general public is contested.\n",
      "Masked sentence : The question of whether [MASK] will reduce transmission of covid-19 in the general public is contested.\n",
      "Rank: 1 | 0.03 % | ['fails']\n",
      "Rank: 2 | 0.02 % | ['shorter']\n",
      "Rank: 3 | 0.02 % | ['convincing']\n",
      "----------------------------------------------------------------------------------------------------\n",
      "Ground Truth    : CDC estimates more than 9,200 health care workers have been infected with covid-19\n",
      "Masked sentence : [MASK] estimates more than 9,200 health care workers have been infected with covid-19\n",
      "Rank: 1 | 0.04 % | ['linda']\n",
      "Rank: 2 | 0.04 % | ['ares']\n",
      "Rank: 3 | 0.02 % | ['palma']\n",
      "----------------------------------------------------------------------------------------------------\n",
      "Ground Truth    : A drug called remdesivir appears to actually work against the coronavirus that causes covid-19.\n",
      "Masked sentence : A drug called [MASK] appears to actually work against the coronavirus that causes covid-19.\n",
      "Rank: 1 | 0.02 % | ['##ening']\n",
      "Rank: 2 | 0.02 % | ['shelves']\n",
      "Rank: 3 | 0.02 % | ['192']\n",
      "----------------------------------------------------------------------------------------------------\n",
      "Ground Truth    : Israel has data showing 64% effectiveness of full vaccination with Pfizer vaccine against infection with covid ( delta variant).\n",
      "Masked sentence : Israel has data showing 64% effectiveness of full vaccination with [MASK] vaccine against infection with covid ( delta variant).\n",
      "Rank: 1 | 0.03 % | ['biking']\n",
      "Rank: 2 | 0.02 % | ['bronx']\n",
      "Rank: 3 | 0.02 % | ['screening']\n",
      "----------------------------------------------------------------------------------------------------\n",
      "Ground Truth    : A rising number of cases of the omicron variant in India have policymakers preparing for another potential covid-19 battle.\n",
      "Masked sentence : A rising number of cases of the [MASK] variant in India have policymakers preparing for another potential covid-19 battle.\n",
      "Rank: 1 | 0.03 % | ['comparative']\n",
      "Rank: 2 | 0.03 % | ['biking']\n",
      "Rank: 3 | 0.03 % | ['clinic']\n",
      "----------------------------------------------------------------------------------------------------\n",
      "Ground Truth    : Africa suffers worst surge in Covid cases as delta variant spurs third wave of pandemic\n",
      "Masked sentence : Africa suffers worst surge in Covid cases as [MASK] variant spurs third wave of pandemic\n",
      "Rank: 1 | 0.03 % | ['ferguson']\n",
      "Rank: 2 | 0.02 % | ['hays']\n",
      "Rank: 3 | 0.02 % | ['ireland']\n",
      "----------------------------------------------------------------------------------------------------\n",
      "Ground Truth    : The ongoing coronavirus pandemic and spread of the highly transmissible delta Covid-19 variant has rattled investor sentiment lately.\n",
      "Masked sentence : The ongoing coronavirus pandemic and spread of the highly transmissible [MASK] Covid-19 variant has rattled investor sentiment lately.\n",
      "Rank: 1 | 0.03 % | ['ferguson']\n",
      "Rank: 2 | 0.03 % | ['deborah']\n",
      "Rank: 3 | 0.03 % | ['shelves']\n",
      "----------------------------------------------------------------------------------------------------\n",
      "Ground Truth    : WHO says omicron variant could change the course of the Covid pandemic\n",
      "Masked sentence : WHO says omicron [MASK] could change the course of the Covid pandemic\n",
      "Rank: 1 | 0.03 % | ['##な']\n",
      "Rank: 2 | 0.03 % | ['[unused371]']\n",
      "Rank: 3 | 0.02 % | ['hahn']\n",
      "----------------------------------------------------------------------------------------------------\n",
      "Ground Truth    : The Delta coronavirus variant has made Covid-19 cases in children more common than during the onset of the pandemic.\n",
      "Masked sentence : The Delta [MASK] variant has made Covid-19 cases in children more common than during the onset of the pandemic.\n",
      "Rank: 1 | 0.03 % | ['shelves']\n",
      "Rank: 2 | 0.02 % | ['##urn']\n",
      "Rank: 3 | 0.02 % | ['outer']\n",
      "----------------------------------------------------------------------------------------------------\n",
      "Ground Truth    : The BA.2 variant is forcing substantial shifts in how the U.S. is trying to control the pandemic.\n",
      "Masked sentence : The [MASK] variant is forcing substantial shifts in how the U.S. is trying to control the pandemic.\n",
      "Rank: 1 | 0.02 % | ['207']\n",
      "Rank: 2 | 0.02 % | ['lamps']\n",
      "Rank: 3 | 0.02 % | ['ottoman']\n",
      "----------------------------------------------------------------------------------------------------\n",
      "Ground Truth    : In fact, the BA.2 variant now accounts for 72% of new cases in the U.S.\n",
      "Masked sentence : In fact, the [MASK] variant now accounts for 72% of new cases in the U.S.\n",
      "Rank: 1 | 0.03 % | ['automation']\n",
      "Rank: 2 | 0.03 % | ['strikers']\n",
      "Rank: 3 | 0.02 % | ['comparative']\n",
      "----------------------------------------------------------------------------------------------------\n",
      "Ground Truth    : Pfizer and Moderna are both testing new formulations of their vaccine tailored to the omicron variant.\n",
      "Masked sentence : Pfizer and [MASK] are both testing new formulations of their vaccine tailored to the omicron variant.\n",
      "Rank: 1 | 0.03 % | ['shelves']\n",
      "Rank: 2 | 0.02 % | ['樹']\n",
      "Rank: 3 | 0.02 % | ['[unused96]']\n",
      "----------------------------------------------------------------------------------------------------\n"
     ]
    }
   ],
   "source": [
    "df = pd.read_csv('./data/eval_mlm.csv')\n",
    "\n",
    "for gt, masked_sentence in zip(df.ground_truth.tolist(), df.masked.tolist()):\n",
    "    print(f'Ground Truth    : {gt}')\n",
    "    print(f'Masked sentence : {masked_sentence}')\n",
    "    predictions = fill_mask(masked_sentence, top_k=3)\n",
    "    for i, prediction in enumerate(predictions):\n",
    "        print(f'Rank: {i+1} | {(prediction[\"score\"] * 100):.2f} % | {[prediction[\"token_str\"]]}')\n",
    "    print('-' * 100)"
   ]
  }
 ],
 "metadata": {
  "instance_type": "ml.g4dn.xlarge",
  "kernelspec": {
   "display_name": "Python 3 (PyTorch 1.8 Python 3.6 GPU Optimized)",
   "language": "python",
   "name": "python3__SAGEMAKER_INTERNAL__arn:aws:sagemaker:us-east-1:081325390199:image/pytorch-1.8-gpu-py36"
  },
  "language_info": {
   "codemirror_mode": {
    "name": "ipython",
    "version": 3
   },
   "file_extension": ".py",
   "mimetype": "text/x-python",
   "name": "python",
   "nbconvert_exporter": "python",
   "pygments_lexer": "ipython3",
   "version": "3.6.13"
  }
 },
 "nbformat": 4,
 "nbformat_minor": 5
}
