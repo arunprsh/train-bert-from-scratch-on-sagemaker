{
 "cells": [
  {
   "cell_type": "markdown",
   "id": "84b750a4-47b4-43c4-9c96-edb9ed6bb395",
   "metadata": {},
   "source": [
    "### Use `original` BERT to take `fill mask` test without fine-tuning it on our COVID articles"
   ]
  },
  {
   "cell_type": "markdown",
   "id": "910f44ce-06ff-4013-9115-1d8f80a24dbd",
   "metadata": {},
   "source": [
    "#### Prerequisites"
   ]
  },
  {
   "cell_type": "code",
   "execution_count": 2,
   "id": "e5522f93-2789-4249-bbbd-b8784d7a0e5c",
   "metadata": {},
   "outputs": [],
   "source": [
    "%%capture \n",
    "\n",
    "!pip install transformers==4.17.0\n",
    "!pip install pandas==1.1.5"
   ]
  },
  {
   "cell_type": "markdown",
   "id": "5bb43fe3-fa48-429a-a7ab-df1e22f97f97",
   "metadata": {},
   "source": [
    "#### Imports "
   ]
  },
  {
   "cell_type": "code",
   "execution_count": 3,
   "id": "531b3cb9-f4d9-408e-afe1-4f8d0f171d60",
   "metadata": {},
   "outputs": [],
   "source": [
    "from transformers import BertTokenizerFast\n",
    "from transformers import BertForMaskedLM\n",
    "from transformers import BertConfig\n",
    "from transformers import pipeline\n",
    "import transformers \n",
    "import pandas as pd\n",
    "import pandas\n",
    "import logging"
   ]
  },
  {
   "cell_type": "markdown",
   "id": "b9b65926-2ddd-4f5f-89ec-a8a004a90fa6",
   "metadata": {},
   "source": [
    "##### Setup logging"
   ]
  },
  {
   "cell_type": "code",
   "execution_count": 4,
   "id": "860c8674-7026-4c18-8698-1f19b73d9da2",
   "metadata": {},
   "outputs": [],
   "source": [
    "logger = logging.getLogger('sagemaker')\n",
    "logger.setLevel(logging.DEBUG)\n",
    "logger.addHandler(logging.StreamHandler())"
   ]
  },
  {
   "cell_type": "markdown",
   "id": "049f8b85-a6ae-4d99-811e-bca8b9c82d99",
   "metadata": {},
   "source": [
    "##### Log versions of dependencies"
   ]
  },
  {
   "cell_type": "code",
   "execution_count": 5,
   "id": "b9621268-ccde-4808-92fb-3e2a40a57b76",
   "metadata": {},
   "outputs": [
    {
     "name": "stderr",
     "output_type": "stream",
     "text": [
      "[Using transformers: 4.17.0]\n",
      "[Using pandas: 1.1.5]\n"
     ]
    }
   ],
   "source": [
    "logger.info(f'[Using transformers: {transformers.__version__}]')\n",
    "logger.info(f'[Using pandas: {pd.__version__}]')"
   ]
  },
  {
   "cell_type": "markdown",
   "id": "ee6b40d1-6159-460a-91ba-bb25f89ee8e8",
   "metadata": {},
   "source": [
    "#### Essentials"
   ]
  },
  {
   "cell_type": "code",
   "execution_count": 6,
   "id": "c6478471-322f-45f7-9b8b-a02c2ee0b6d0",
   "metadata": {},
   "outputs": [
    {
     "name": "stderr",
     "output_type": "stream",
     "text": [
      "Total number of parameters = 109514298\n"
     ]
    }
   ],
   "source": [
    "config = BertConfig()"
   ]
  },
  {
   "cell_type": "markdown",
   "id": "f4cd87e2-1816-41bf-bc56-9983391164bc",
   "metadata": {},
   "source": [
    "##### Download vocab for original BERT base uncased to local"
   ]
  },
  {
   "cell_type": "code",
   "execution_count": null,
   "id": "399ab092-8b0c-4693-8ab9-4bf8fb55e61b",
   "metadata": {},
   "outputs": [],
   "source": [
    "%%capture\n",
    "\n",
    "!wget -q https://s3.amazonaws.com/models.huggingface.co/bert/bert-base-uncased-vocab.txt -O ./vocab/vocab.txt"
   ]
  },
  {
   "cell_type": "markdown",
   "id": "274c84fc-af9d-4f2f-9c71-f9e6957d5500",
   "metadata": {},
   "source": [
    "#### Re-create BERT MLM "
   ]
  },
  {
   "cell_type": "code",
   "execution_count": null,
   "id": "26f55e7b-47d6-4098-85e7-8e96c8d4ef40",
   "metadata": {},
   "outputs": [],
   "source": [
    "default_model = BertForMaskedLM(config=config)\n",
    "logger.info(f'Total number of parameters = {default_model.num_parameters()}')"
   ]
  },
  {
   "cell_type": "markdown",
   "id": "17f23a64-04c8-45b0-bffc-d9cf207b6317",
   "metadata": {},
   "source": [
    "#### Re-create default BERT tokenizer "
   ]
  },
  {
   "cell_type": "code",
   "execution_count": null,
   "id": "9088d55c-e127-4074-9ee6-63958774c444",
   "metadata": {},
   "outputs": [],
   "source": [
    "default_tokenizer = BertTokenizerFast.from_pretrained('./vocab', config=config)\n",
    "default_tokenizer.model_max_length = 512\n",
    "default_tokenizer.init_kwargs['model_max_length'] = 512\n",
    "default_tokenizer"
   ]
  },
  {
   "cell_type": "code",
   "execution_count": null,
   "id": "1382b7a7-9b9c-4307-80fa-fea3d90ae7c6",
   "metadata": {},
   "outputs": [],
   "source": [
    "##### Verify tokenizer"
   ]
  },
  {
   "cell_type": "code",
   "execution_count": null,
   "id": "c6b312a5-384c-4ef0-9915-13b5fa437d32",
   "metadata": {},
   "outputs": [],
   "source": [
    "MASK_TOKEN = default_tokenizer.mask_token\n",
    "MASK_TOKEN"
   ]
  },
  {
   "cell_type": "code",
   "execution_count": null,
   "id": "0876d12d-4aa6-4879-89ce-0e36f63375fb",
   "metadata": {},
   "outputs": [],
   "source": [
    "default_tokenizer.special_tokens_map"
   ]
  },
  {
   "cell_type": "markdown",
   "id": "0fba4354-845d-43d3-8e2b-d506d5a41d5e",
   "metadata": {},
   "source": [
    "#### Create HuggingFace Pipeline for `fill mask` task"
   ]
  },
  {
   "cell_type": "code",
   "execution_count": null,
   "id": "2475998c-ec01-444e-aa70-a929d99d4eaf",
   "metadata": {},
   "outputs": [],
   "source": [
    "fill_mask = pipeline('fill-mask', model=default_model, tokenizer=default_tokenizer)"
   ]
  },
  {
   "cell_type": "markdown",
   "id": "e464c2a2-abd3-4d6a-a30c-bfaf3b5ac0ac",
   "metadata": {},
   "source": [
    "#### Test original BERT MLM for `fill mask` task"
   ]
  },
  {
   "cell_type": "code",
   "execution_count": null,
   "id": "bd615350-5a73-4603-90e7-96667cdecac3",
   "metadata": {},
   "outputs": [],
   "source": [
    "df = pd.read_csv('./data/eval_mlm.csv')\n",
    "\n",
    "for gt, masked_sentence in zip(df.ground_truth.tolist(), df.masked.tolist()):\n",
    "    print(f'Ground Truth    : {gt}')\n",
    "    print(f'Masked sentence : {masked_sentence}')\n",
    "    predictions = fill_mask(masked_sentence, top_k=3)\n",
    "    for i, prediction in enumerate(predictions):\n",
    "        print(f'Rank: {i+1} | {(prediction[\"score\"] * 100):.2f} % | {[prediction[\"token_str\"]]}')\n",
    "    print('-' * 100)"
   ]
  }
 ],
 "metadata": {
  "instance_type": "ml.g4dn.xlarge",
  "kernelspec": {
   "display_name": "Python 3 (PyTorch 1.8 Python 3.6 GPU Optimized)",
   "language": "python",
   "name": "python3__SAGEMAKER_INTERNAL__arn:aws:sagemaker:us-east-1:081325390199:image/pytorch-1.8-gpu-py36"
  },
  "language_info": {
   "codemirror_mode": {
    "name": "ipython",
    "version": 3
   },
   "file_extension": ".py",
   "mimetype": "text/x-python",
   "name": "python",
   "nbconvert_exporter": "python",
   "pygments_lexer": "ipython3",
   "version": "3.6.13"
  }
 },
 "nbformat": 4,
 "nbformat_minor": 5
}
