{
 "cells": [
  {
   "cell_type": "markdown",
   "id": "84b750a4-47b4-43c4-9c96-edb9ed6bb395",
   "metadata": {},
   "source": [
    "### Use `original` BERT to take `fill mask` test without fine-tuning it on our COVID articles"
   ]
  },
  {
   "cell_type": "markdown",
   "id": "910f44ce-06ff-4013-9115-1d8f80a24dbd",
   "metadata": {},
   "source": [
    "#### Prerequisites"
   ]
  },
  {
   "cell_type": "code",
   "execution_count": null,
   "id": "e5522f93-2789-4249-bbbd-b8784d7a0e5c",
   "metadata": {},
   "outputs": [],
   "source": [
    "%%capture \n",
    "\n",
    "!pip install transformers==4.17.0"
   ]
  },
  {
   "cell_type": "markdown",
   "id": "5bb43fe3-fa48-429a-a7ab-df1e22f97f97",
   "metadata": {},
   "source": [
    "#### Imports "
   ]
  },
  {
   "cell_type": "code",
   "execution_count": 16,
   "id": "531b3cb9-f4d9-408e-afe1-4f8d0f171d60",
   "metadata": {},
   "outputs": [],
   "source": [
    "from transformers import BertTokenizerFast\n",
    "import pandas as pd\n",
    "from transformers import BertForMaskedLM\n",
    "from transformers import BertConfig\n",
    "from transformers import pipeline\n",
    "import transformers \n",
    "import logging"
   ]
  },
  {
   "cell_type": "markdown",
   "id": "b9b65926-2ddd-4f5f-89ec-a8a004a90fa6",
   "metadata": {},
   "source": [
    "##### Setup logging"
   ]
  },
  {
   "cell_type": "code",
   "execution_count": 3,
   "id": "860c8674-7026-4c18-8698-1f19b73d9da2",
   "metadata": {},
   "outputs": [],
   "source": [
    "logger = logging.getLogger('sagemaker')\n",
    "logger.setLevel(logging.DEBUG)\n",
    "logger.addHandler(logging.StreamHandler())"
   ]
  },
  {
   "cell_type": "markdown",
   "id": "049f8b85-a6ae-4d99-811e-bca8b9c82d99",
   "metadata": {},
   "source": [
    "##### Log versions of dependencies"
   ]
  },
  {
   "cell_type": "code",
   "execution_count": 4,
   "id": "b9621268-ccde-4808-92fb-3e2a40a57b76",
   "metadata": {},
   "outputs": [
    {
     "name": "stderr",
     "output_type": "stream",
     "text": [
      "[Using transformers: 4.17.0]\n"
     ]
    }
   ],
   "source": [
    "logger.info(f'[Using transformers: {transformers.__version__}]')"
   ]
  },
  {
   "cell_type": "markdown",
   "id": "ee6b40d1-6159-460a-91ba-bb25f89ee8e8",
   "metadata": {},
   "source": [
    "#### Essentials"
   ]
  },
  {
   "cell_type": "code",
   "execution_count": 5,
   "id": "c6478471-322f-45f7-9b8b-a02c2ee0b6d0",
   "metadata": {},
   "outputs": [
    {
     "data": {
      "text/plain": [
       "109514298"
      ]
     },
     "execution_count": 5,
     "metadata": {},
     "output_type": "execute_result"
    }
   ],
   "source": [
    "config = BertConfig()\n",
    "default_model = BertForMaskedLM(config=config)\n",
    "default_model.num_parameters()"
   ]
  },
  {
   "cell_type": "code",
   "execution_count": 9,
   "id": "399ab092-8b0c-4693-8ab9-4bf8fb55e61b",
   "metadata": {},
   "outputs": [],
   "source": [
    "%%capture\n",
    "\n",
    "!wget -q https://s3.amazonaws.com/models.huggingface.co/bert/bert-base-uncased-vocab.txt -O ./vocab/vocab.txt"
   ]
  },
  {
   "cell_type": "code",
   "execution_count": 10,
   "id": "22e6ce3b-96f5-4e09-9fc0-5372b3c57930",
   "metadata": {},
   "outputs": [],
   "source": [
    "config = BertConfig()"
   ]
  },
  {
   "cell_type": "code",
   "execution_count": 11,
   "id": "9088d55c-e127-4074-9ee6-63958774c444",
   "metadata": {},
   "outputs": [
    {
     "data": {
      "text/plain": [
       "PreTrainedTokenizerFast(name_or_path='./vocab', vocab_size=30522, model_max_len=512, is_fast=True, padding_side='right', truncation_side='right', special_tokens={'unk_token': '[UNK]', 'sep_token': '[SEP]', 'pad_token': '[PAD]', 'cls_token': '[CLS]', 'mask_token': '[MASK]'})"
      ]
     },
     "execution_count": 11,
     "metadata": {},
     "output_type": "execute_result"
    }
   ],
   "source": [
    "default_tokenizer = BertTokenizerFast.from_pretrained('./vocab', config=config)\n",
    "default_tokenizer.model_max_length = 512\n",
    "default_tokenizer.init_kwargs['model_max_length'] = 512\n",
    "default_tokenizer"
   ]
  },
  {
   "cell_type": "markdown",
   "id": "382d3d6a-c7d1-4e13-85f3-383f0940c28e",
   "metadata": {},
   "source": []
  },
  {
   "cell_type": "code",
   "execution_count": 12,
   "id": "c6b312a5-384c-4ef0-9915-13b5fa437d32",
   "metadata": {},
   "outputs": [
    {
     "data": {
      "text/plain": [
       "'[MASK]'"
      ]
     },
     "execution_count": 12,
     "metadata": {},
     "output_type": "execute_result"
    }
   ],
   "source": [
    "MASK_TOKEN = default_tokenizer.mask_token\n",
    "MASK_TOKEN"
   ]
  },
  {
   "cell_type": "code",
   "execution_count": 13,
   "id": "0876d12d-4aa6-4879-89ce-0e36f63375fb",
   "metadata": {},
   "outputs": [
    {
     "data": {
      "text/plain": [
       "{'unk_token': '[UNK]',\n",
       " 'sep_token': '[SEP]',\n",
       " 'pad_token': '[PAD]',\n",
       " 'cls_token': '[CLS]',\n",
       " 'mask_token': '[MASK]'}"
      ]
     },
     "execution_count": 13,
     "metadata": {},
     "output_type": "execute_result"
    }
   ],
   "source": [
    "default_tokenizer.special_tokens_map"
   ]
  },
  {
   "cell_type": "code",
   "execution_count": 14,
   "id": "2475998c-ec01-444e-aa70-a929d99d4eaf",
   "metadata": {},
   "outputs": [],
   "source": [
    "fill_mask = pipeline('fill-mask', model=default_model, tokenizer=default_tokenizer)"
   ]
  },
  {
   "cell_type": "code",
   "execution_count": 21,
   "id": "bd615350-5a73-4603-90e7-96667cdecac3",
   "metadata": {},
   "outputs": [
    {
     "name": "stdout",
     "output_type": "stream",
     "text": [
      "Ground Truth    : A number of firms have been reassessing spending plans in light of the covid-19 outbreak and reduced oil price.\n",
      "Masked sentence : A number of firms have been reassessing spending plans in light of the covid-19 [MASK] and reduced oil price.\n",
      "Rank: 1 | 0.03 % | ['lava']\n",
      "Rank: 2 | 0.02 % | ['frantic']\n",
      "Rank: 3 | 0.02 % | ['edit']\n",
      "----------------------------------------------------------------------------------------------------\n",
      "Ground Truth    : Globally, airlines are closing down and the covid-19 coronavirus has accelerated some of these closures.\n",
      "Masked sentence : Globally, airlines are closing down and the covid-19 [MASK] has accelerated some of these closures.\n",
      "Rank: 1 | 0.03 % | ['##aries']\n",
      "Rank: 2 | 0.03 % | ['credibility']\n",
      "Rank: 3 | 0.02 % | ['believers']\n",
      "----------------------------------------------------------------------------------------------------\n",
      "Ground Truth    : The first human challenge trial for covid has given some helpful insights into how infection progresses.\n",
      "Masked sentence : The first human challenge trial for covid has given some helpful insights into how [MASK] progresses.\n",
      "Rank: 1 | 0.04 % | ['##mic']\n",
      "Rank: 2 | 0.03 % | ['##gt']\n",
      "Rank: 3 | 0.02 % | ['##maker']\n",
      "----------------------------------------------------------------------------------------------------\n",
      "Ground Truth    : The question of whether masks will reduce transmission of covid-19 in the general public is contested.\n",
      "Masked sentence : The question of whether [MASK] will reduce transmission of covid-19 in the general public is contested.\n",
      "Rank: 1 | 0.02 % | ['vanuatu']\n",
      "Rank: 2 | 0.02 % | ['deliberate']\n",
      "Rank: 3 | 0.02 % | ['donaldson']\n",
      "----------------------------------------------------------------------------------------------------\n",
      "Ground Truth    : CDC estimates more than 9,200 health care workers have been infected with covid-19\n",
      "Masked sentence : [MASK] estimates more than 9,200 health care workers have been infected with covid-19\n",
      "Rank: 1 | 0.02 % | ['subconscious']\n",
      "Rank: 2 | 0.02 % | ['transportation']\n",
      "Rank: 3 | 0.02 % | ['##bright']\n",
      "----------------------------------------------------------------------------------------------------\n",
      "Ground Truth    : A drug called remdesivir appears to actually work against the coronavirus that causes covid-19.\n",
      "Masked sentence : A drug called [MASK] appears to actually work against the coronavirus that causes covid-19.\n",
      "Rank: 1 | 0.03 % | ['sleeping']\n",
      "Rank: 2 | 0.02 % | ['edit']\n",
      "Rank: 3 | 0.02 % | ['byrne']\n",
      "----------------------------------------------------------------------------------------------------\n",
      "Ground Truth    : Israel has data showing 64% effectiveness of full vaccination with Pfizer vaccine against infection with covid ( delta variant).\n",
      "Masked sentence : Israel has data showing 64% effectiveness of full vaccination with [MASK] vaccine against infection with covid ( delta variant).\n",
      "Rank: 1 | 0.03 % | ['##ennial']\n",
      "Rank: 2 | 0.02 % | ['##х']\n",
      "Rank: 3 | 0.02 % | ['flawed']\n",
      "----------------------------------------------------------------------------------------------------\n",
      "Ground Truth    : A rising number of cases of the omicron variant in India have policymakers preparing for another potential covid-19 battle.\n",
      "Masked sentence : A rising number of cases of the [MASK] variant in India have policymakers preparing for another potential covid-19 battle.\n",
      "Rank: 1 | 0.02 % | ['##ennial']\n",
      "Rank: 2 | 0.02 % | ['kangaroo']\n",
      "Rank: 3 | 0.02 % | ['infringement']\n",
      "----------------------------------------------------------------------------------------------------\n",
      "Ground Truth    : Africa suffers worst surge in Covid cases as delta variant spurs third wave of pandemic\n",
      "Masked sentence : Africa suffers worst surge in Covid cases as [MASK] variant spurs third wave of pandemic\n",
      "Rank: 1 | 0.02 % | ['##sin']\n",
      "Rank: 2 | 0.02 % | ['bethany']\n",
      "Rank: 3 | 0.02 % | ['[unused246]']\n",
      "----------------------------------------------------------------------------------------------------\n",
      "Ground Truth    : The ongoing coronavirus pandemic and spread of the highly transmissible delta Covid-19 variant has rattled investor sentiment lately.\n",
      "Masked sentence : The ongoing coronavirus pandemic and spread of the highly transmissible [MASK] Covid-19 variant has rattled investor sentiment lately.\n",
      "Rank: 1 | 0.03 % | ['##waite']\n",
      "Rank: 2 | 0.02 % | ['methodology']\n",
      "Rank: 3 | 0.02 % | ['buff']\n",
      "----------------------------------------------------------------------------------------------------\n",
      "Ground Truth    : WHO says omicron variant could change the course of the Covid pandemic\n",
      "Masked sentence : WHO says omicron [MASK] could change the course of the Covid pandemic\n",
      "Rank: 1 | 0.02 % | ['##gt']\n",
      "Rank: 2 | 0.02 % | ['artificial']\n",
      "Rank: 3 | 0.02 % | ['sensual']\n",
      "----------------------------------------------------------------------------------------------------\n",
      "Ground Truth    : The Delta coronavirus variant has made Covid-19 cases in children more common than during the onset of the pandemic.\n",
      "Masked sentence : The Delta [MASK] variant has made Covid-19 cases in children more common than during the onset of the pandemic.\n",
      "Rank: 1 | 0.02 % | ['traditional']\n",
      "Rank: 2 | 0.02 % | ['阝']\n",
      "Rank: 3 | 0.02 % | ['##jiang']\n",
      "----------------------------------------------------------------------------------------------------\n",
      "Ground Truth    : The BA.2 variant is forcing substantial shifts in how the U.S. is trying to control the pandemic.\n",
      "Masked sentence : The [MASK] variant is forcing substantial shifts in how the U.S. is trying to control the pandemic.\n",
      "Rank: 1 | 0.03 % | ['##room']\n",
      "Rank: 2 | 0.03 % | ['oversized']\n",
      "Rank: 3 | 0.02 % | ['nicola']\n",
      "----------------------------------------------------------------------------------------------------\n",
      "Ground Truth    : In fact, the BA.2 variant now accounts for 72% of new cases in the U.S.\n",
      "Masked sentence : In fact, the [MASK] variant now accounts for 72% of new cases in the U.S.\n",
      "Rank: 1 | 0.03 % | ['mandy']\n",
      "Rank: 2 | 0.02 % | ['##eal']\n",
      "Rank: 3 | 0.02 % | ['sequel']\n",
      "----------------------------------------------------------------------------------------------------\n",
      "Ground Truth    : Pfizer and Moderna are both testing new formulations of their vaccine tailored to the omicron variant.\n",
      "Masked sentence : Pfizer and [MASK] are both testing new formulations of their vaccine tailored to the omicron variant.\n",
      "Rank: 1 | 0.03 % | ['edit']\n",
      "Rank: 2 | 0.02 % | ['##vos']\n",
      "Rank: 3 | 0.02 % | ['208']\n",
      "----------------------------------------------------------------------------------------------------\n"
     ]
    }
   ],
   "source": [
    "df = pd.read_csv('./data/eval_mlm.csv')\n",
    "\n",
    "for gt, masked_sentence in zip(df.ground_truth.tolist(), df.masked.tolist()):\n",
    "    print(f'Ground Truth    : {gt}')\n",
    "    print(f'Masked sentence : {masked_sentence}')\n",
    "    predictions = fill_mask(masked_sentence, top_k=3)\n",
    "    for i, prediction in enumerate(predictions):\n",
    "        print(f'Rank: {i+1} | {(prediction[\"score\"] * 100):.2f} % | {[prediction[\"token_str\"]]}')\n",
    "    print('-' * 100)"
   ]
  },
  {
   "cell_type": "code",
   "execution_count": null,
   "id": "7516dec1-b160-40ee-9b78-1c3f3f53cf22",
   "metadata": {},
   "outputs": [],
   "source": []
  }
 ],
 "metadata": {
  "instance_type": "ml.g4dn.xlarge",
  "kernelspec": {
   "display_name": "Python 3 (PyTorch 1.8 Python 3.6 GPU Optimized)",
   "language": "python",
   "name": "python3__SAGEMAKER_INTERNAL__arn:aws:sagemaker:us-east-1:081325390199:image/pytorch-1.8-gpu-py36"
  },
  "language_info": {
   "codemirror_mode": {
    "name": "ipython",
    "version": 3
   },
   "file_extension": ".py",
   "mimetype": "text/x-python",
   "name": "python",
   "nbconvert_exporter": "python",
   "pygments_lexer": "ipython3",
   "version": "3.6.13"
  }
 },
 "nbformat": 4,
 "nbformat_minor": 5
}
