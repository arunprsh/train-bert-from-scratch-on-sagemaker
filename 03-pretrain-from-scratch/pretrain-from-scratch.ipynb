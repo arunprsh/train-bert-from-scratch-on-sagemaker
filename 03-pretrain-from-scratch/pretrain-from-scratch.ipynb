{
 "cells": [
  {
   "cell_type": "markdown",
   "id": "bbe513c3-b3e7-4bcb-997a-4e2f4af1000f",
   "metadata": {},
   "source": [
    "#### Prerequisites "
   ]
  },
  {
   "cell_type": "code",
   "execution_count": null,
   "id": "930c1331-a6f3-4dc4-9d83-2c73e58210b7",
   "metadata": {},
   "outputs": [],
   "source": [
    "%%capture \n",
    "\n",
    "!pip install sagemake==2.100.0\n",
    "!pip install jedi==0.17  # this is a requirement for pygmentize to work"
   ]
  },
  {
   "cell_type": "markdown",
   "id": "86bc60fb-7421-4514-9e5d-c4a6462dda46",
   "metadata": {},
   "source": [
    "#### Imports  "
   ]
  },
  {
   "cell_type": "code",
   "execution_count": null,
   "id": "3bd341ee-6cac-4b64-9937-f9df11b245f1",
   "metadata": {},
   "outputs": [],
   "source": [
    "from sagemaker import get_execution_role, Session\n",
    "from sagemaker.huggingface import HuggingFace\n",
    "from datasets import Dataset\n",
    "import pandas as pd\n",
    "import transformers \n",
    "import sagemaker\n",
    "import datasets\n",
    "import logging\n",
    "import torch"
   ]
  },
  {
   "cell_type": "markdown",
   "id": "d16910da-df2f-44c6-bb15-c8b1af14f8c6",
   "metadata": {},
   "source": [
    "##### Setup logging"
   ]
  },
  {
   "cell_type": "code",
   "execution_count": null,
   "id": "80d78c31-cfc9-4215-a0fc-95151638becf",
   "metadata": {},
   "outputs": [],
   "source": [
    "logger = logging.getLogger('sagemaker')\n",
    "logger.setLevel(logging.DEBUG)\n",
    "logger.addHandler(logging.StreamHandler())"
   ]
  },
  {
   "cell_type": "code",
   "execution_count": null,
   "id": "7dd797da-165e-4ac9-8c6f-62ee2e15d218",
   "metadata": {},
   "outputs": [],
   "source": [
    "logger.info(f'[Using SageMaker: {sagemaker.__version__}]')\n",
    "logger.info(f'[Using Transformers: {transformers.__version__}]')\n",
    "logger.info(f'[Using Datasets: {datasets.__version__}]')\n",
    "logger.info(f'[Using Torch: {torch.__version__}]')"
   ]
  },
  {
   "cell_type": "markdown",
   "id": "9b3c086b-22ef-494c-9620-c02b11f1b060",
   "metadata": {},
   "source": [
    "#### Essentials "
   ]
  },
  {
   "cell_type": "code",
   "execution_count": null,
   "id": "d52847b7-2144-4bb6-9b6d-da76bec55993",
   "metadata": {},
   "outputs": [],
   "source": [
    "session = Session()\n",
    "role = get_execution_role()\n",
    "bucket = session.default_bucket()\n",
    "logger.info(f'Default bucket = {bucket}')"
   ]
  },
  {
   "cell_type": "code",
   "execution_count": null,
   "id": "a98c8851-febe-4d35-b024-64d82e2677e1",
   "metadata": {},
   "outputs": [],
   "source": [
    "#### View training script"
   ]
  },
  {
   "cell_type": "markdown",
   "id": "ffff0505-2701-4537-a7ac-403d8f572b81",
   "metadata": {},
   "source": [
    "#### Create the estimator \n",
    "\n",
    "https://sagemaker.readthedocs.io/en/stable/frameworks/huggingface/sagemaker.huggingface.html"
   ]
  },
  {
   "cell_type": "code",
   "execution_count": null,
   "id": "e91f3385-b807-4a04-9237-44486fec8a88",
   "metadata": {},
   "outputs": [],
   "source": [
    "data = {'train': 's3://sagemaker-us-east-1-119174016168/corpus'}\n",
    "hyperparameters = {'output_path': 's3://sagemaker-us-east-1-119174016168/model'}\n",
    "distribution = {'smdistributed':{'dataparallel':{ 'enabled': True }}}"
   ]
  },
  {
   "cell_type": "code",
   "execution_count": null,
   "id": "96341f8c-cd18-4a29-b740-d1543916aabb",
   "metadata": {},
   "outputs": [],
   "source": [
    "huggingface_estimator = HuggingFace(entry_point='training.py', \n",
    "                                    source_dir='./scripts', \n",
    "                                    instance_type='ml.p3.16xlarge', \n",
    "                                    hyperparameters=hyperparameters,\n",
    "                                    instance_count=4,\n",
    "                                    role=role, \n",
    "                                    distribution=distribution,\n",
    "                                    volume_size=1000,\n",
    "                                    transformers_version='4.17.0', \n",
    "                                    pytorch_version='1.10.2', \n",
    "                                    py_version='py38')"
   ]
  },
  {
   "cell_type": "code",
   "execution_count": null,
   "id": "b98aac31-3ddb-4142-ba42-811947320a71",
   "metadata": {},
   "outputs": [],
   "source": [
    "%%time\n",
    "\n",
    "huggingface_estimator.fit(data)"
   ]
  },
  {
   "cell_type": "code",
   "execution_count": null,
   "id": "34698fc4-4846-43c6-b006-a737d0e8c749",
   "metadata": {},
   "outputs": [],
   "source": []
  },
  {
   "cell_type": "code",
   "execution_count": null,
   "id": "ad713a0b-8532-4ff2-ac58-3a3ca96763dc",
   "metadata": {},
   "outputs": [],
   "source": []
  }
 ],
 "metadata": {
  "instance_type": "ml.g4dn.xlarge",
  "kernelspec": {
   "display_name": "Python 3 (PyTorch 1.8 Python 3.6 GPU Optimized)",
   "language": "python",
   "name": "python3__SAGEMAKER_INTERNAL__arn:aws:sagemaker:us-east-1:081325390199:image/pytorch-1.8-gpu-py36"
  },
  "language_info": {
   "codemirror_mode": {
    "name": "ipython",
    "version": 3
   },
   "file_extension": ".py",
   "mimetype": "text/x-python",
   "name": "python",
   "nbconvert_exporter": "python",
   "pygments_lexer": "ipython3",
   "version": "3.6.13"
  }
 },
 "nbformat": 4,
 "nbformat_minor": 5
}
