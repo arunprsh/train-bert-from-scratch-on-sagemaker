{
 "cells": [
  {
   "cell_type": "markdown",
   "id": "baabbc29-4cff-4f3b-9c14-b9d9cef80179",
   "metadata": {},
   "source": [
    "#### Prerequisites"
   ]
  },
  {
   "cell_type": "code",
   "execution_count": 2,
   "id": "38fba01f-3b44-456a-8a69-b18546d0249d",
   "metadata": {},
   "outputs": [],
   "source": [
    "%%capture \n",
    "\n",
    "!pip install sagemake==2.100.0\n",
    "!pip install jedi==0.17  # This is a requirement for pygmentize to work"
   ]
  },
  {
   "cell_type": "markdown",
   "id": "ea2883b3-a469-44e8-aa4c-0e5cb9961a83",
   "metadata": {},
   "source": [
    "#### Imports "
   ]
  },
  {
   "cell_type": "code",
   "execution_count": 3,
   "id": "93245a43-db50-441f-98c1-179d577fe0d5",
   "metadata": {},
   "outputs": [],
   "source": [
    "from sagemaker.huggingface import HuggingFaceProcessor\n",
    "from sagemaker.processing import ProcessingOutput\n",
    "from sagemaker.processing import ProcessingInput\n",
    "from sagemaker import get_execution_role\n",
    "from sagemaker import Session\n",
    "import sagemaker\n",
    "import logging"
   ]
  },
  {
   "cell_type": "markdown",
   "id": "a8942f5c-7313-4407-9903-ab704776392c",
   "metadata": {},
   "source": [
    "##### Setup logging"
   ]
  },
  {
   "cell_type": "code",
   "execution_count": 4,
   "id": "5a45ae71-5595-453a-97b6-589a14a0a9ba",
   "metadata": {},
   "outputs": [],
   "source": [
    "logger = logging.getLogger('sagemaker')\n",
    "logger.setLevel(logging.DEBUG)\n",
    "logger.addHandler(logging.StreamHandler())"
   ]
  },
  {
   "cell_type": "markdown",
   "id": "9d2bc598-894d-49ef-80af-6bd6e860fd8a",
   "metadata": {},
   "source": [
    "##### Log versions of dependencies"
   ]
  },
  {
   "cell_type": "code",
   "execution_count": 5,
   "id": "85344b43-1026-451b-adf9-6211c0f4bf55",
   "metadata": {},
   "outputs": [
    {
     "name": "stderr",
     "output_type": "stream",
     "text": [
      "[Using SageMaker version: 2.100.0]\n"
     ]
    }
   ],
   "source": [
    "logger.info(f'[Using SageMaker version: {sagemaker.__version__}]')"
   ]
  },
  {
   "cell_type": "markdown",
   "id": "7e19092e-0ab7-4fa1-82c2-97a85efd3742",
   "metadata": {},
   "source": [
    "#### Essentials "
   ]
  },
  {
   "cell_type": "code",
   "execution_count": 6,
   "id": "888e5e28-d923-41cb-beac-11c252e17df9",
   "metadata": {},
   "outputs": [
    {
     "name": "stderr",
     "output_type": "stream",
     "text": [
      "S3 bucket = sagemaker-us-east-1-119174016168\n"
     ]
    }
   ],
   "source": [
    "session = Session()\n",
    "S3_BUCKET = session.default_bucket()\n",
    "logger.info(f'S3 bucket = {S3_BUCKET}')\n",
    "ROLE = get_execution_role()\n",
    "\n",
    "S3_INPUT = 'data/covid_articles.txt'\n",
    "S3_OUTPUT = 'data/processed'\n",
    "INSTANCE_TYPE = 'ml.g4dn.xlarge'\n",
    "INSTANCE_COUNT = 1\n",
    "PYTHON_VERSION = '1.6.0'\n",
    "TRANSFORMERS_VERSION = '4.4.2'\n",
    "BASE_JOB_NAME = 'hf-sagemaker-processor'\n",
    "SOURCE_DIR = './src'\n",
    "CODE = 'preprocess_data.py'"
   ]
  },
  {
   "cell_type": "markdown",
   "id": "047c8718-4820-4d48-bd6b-abab58a5a6e6",
   "metadata": {},
   "source": [
    "#### View processing script"
   ]
  },
  {
   "cell_type": "code",
   "execution_count": 7,
   "id": "4946bd0c-9278-4486-b11d-1cf0abda7ee3",
   "metadata": {},
   "outputs": [
    {
     "name": "stdout",
     "output_type": "stream",
     "text": [
      "\u001b[34mfrom\u001b[39;49;00m \u001b[04m\u001b[36mtokenizers\u001b[39;49;00m \u001b[34mimport\u001b[39;49;00m BertWordPieceTokenizer\n",
      "\u001b[34mfrom\u001b[39;49;00m \u001b[04m\u001b[36mpathlib\u001b[39;49;00m \u001b[34mimport\u001b[39;49;00m Path\n",
      "\u001b[34mimport\u001b[39;49;00m \u001b[04m\u001b[36mtransformers\u001b[39;49;00m \n",
      "\u001b[34mimport\u001b[39;49;00m \u001b[04m\u001b[36mtokenizers\u001b[39;49;00m\n",
      "\u001b[34mimport\u001b[39;49;00m \u001b[04m\u001b[36mlogging\u001b[39;49;00m\n",
      "\u001b[34mimport\u001b[39;49;00m \u001b[04m\u001b[36msys\u001b[39;49;00m\n",
      "\u001b[34mimport\u001b[39;49;00m \u001b[04m\u001b[36mos\u001b[39;49;00m\n",
      "\n",
      "\u001b[37m# Setup logging\u001b[39;49;00m\n",
      "logger = logging.getLogger(\u001b[31m__name__\u001b[39;49;00m)\n",
      "logging.basicConfig(level=logging.getLevelName(\u001b[33m'\u001b[39;49;00m\u001b[33mINFO\u001b[39;49;00m\u001b[33m'\u001b[39;49;00m), \n",
      "                    handlers=[logging.StreamHandler(sys.stdout)], \n",
      "                    \u001b[36mformat\u001b[39;49;00m=\u001b[33m'\u001b[39;49;00m\u001b[33m%(asctime)s\u001b[39;49;00m\u001b[33m - \u001b[39;49;00m\u001b[33m%(name)s\u001b[39;49;00m\u001b[33m - \u001b[39;49;00m\u001b[33m%(levelname)s\u001b[39;49;00m\u001b[33m - \u001b[39;49;00m\u001b[33m%(message)s\u001b[39;49;00m\u001b[33m'\u001b[39;49;00m)\n",
      "\n",
      "\u001b[37m# Log versions of dependencies\u001b[39;49;00m\n",
      "logger.info(\u001b[33mf\u001b[39;49;00m\u001b[33m'\u001b[39;49;00m\u001b[33m[Using Transformers: \u001b[39;49;00m\u001b[33m{transformers.__version__}\u001b[39;49;00m\u001b[33m]\u001b[39;49;00m\u001b[33m'\u001b[39;49;00m)\n",
      "logger.info(\u001b[33mf\u001b[39;49;00m\u001b[33m'\u001b[39;49;00m\u001b[33m[Using Tokenizers: \u001b[39;49;00m\u001b[33m{tokenizers.__version__}\u001b[39;49;00m\u001b[33m]\u001b[39;49;00m\u001b[33m'\u001b[39;49;00m)\n",
      "\n",
      "\u001b[37m# Essentials\u001b[39;49;00m\n",
      "\u001b[37m# LOCAL_INPUT_PATH is mapped to S3 input location for covid articles \u001b[39;49;00m\n",
      "LOCAL_INPUT_PATH = \u001b[33m'\u001b[39;49;00m\u001b[33m/opt/ml/processing/input\u001b[39;49;00m\u001b[33m'\u001b[39;49;00m \n",
      "\u001b[37m# LOCAL_OUTPUT_PATH is mapped to S3 output location where we want to save the processed input data (COVID articles)\u001b[39;49;00m\n",
      "LOCAL_OUTPUT_PATH = \u001b[33m'\u001b[39;49;00m\u001b[33m/opt/ml/processing/output\u001b[39;49;00m\u001b[33m'\u001b[39;49;00m\n",
      "\n",
      "\u001b[37m# Re-create BERT WordPiece tokenizer using the saved custom vocabulary from the previous job\u001b[39;49;00m\n",
      "logger.info(\u001b[33mf\u001b[39;49;00m\u001b[33m'\u001b[39;49;00m\u001b[33mRe-creating BERT tokenizer using custom vocabulary from [\u001b[39;49;00m\u001b[33m{LOCAL_INPUT_PATH}\u001b[39;49;00m\u001b[33m/vocab/]\u001b[39;49;00m\u001b[33m'\u001b[39;49;00m)\n",
      "tokenizer = BertTokenizerFast.from_pretrained(\u001b[33mf\u001b[39;49;00m\u001b[33m'\u001b[39;49;00m\u001b[33m{args.input_dir}\u001b[39;49;00m\u001b[33m/vocab/\u001b[39;49;00m\u001b[33m'\u001b[39;49;00m, config=config)\n",
      "tokenizer.model_max_length = MAX_LENGTH\n",
      "tokenizer.init_kwargs[\u001b[33m'\u001b[39;49;00m\u001b[33mmodel_max_length\u001b[39;49;00m\u001b[33m'\u001b[39;49;00m] = MAX_LENGTH\n",
      "logger.info(\u001b[33mf\u001b[39;49;00m\u001b[33m'\u001b[39;49;00m\u001b[33mTokenizer: \u001b[39;49;00m\u001b[33m{tokenizer}\u001b[39;49;00m\u001b[33m'\u001b[39;49;00m)\n",
      "\n",
      "\u001b[37m# Read dataset and collate to create the mini batches for Masked Language Model (MLM) training\u001b[39;49;00m\n",
      "logger.info(\u001b[33m'\u001b[39;49;00m\u001b[33mReading and collating input data to create mini batches for Masked Language Model (MLM) training\u001b[39;49;00m\u001b[33m'\u001b[39;49;00m)\n",
      "dataset = load_dataset(\u001b[33m'\u001b[39;49;00m\u001b[33mtext\u001b[39;49;00m\u001b[33m'\u001b[39;49;00m, data_files=\u001b[33mf\u001b[39;49;00m\u001b[33m'\u001b[39;49;00m\u001b[33m{args.train}\u001b[39;49;00m\u001b[33m/covid_articles.txt\u001b[39;49;00m\u001b[33m'\u001b[39;49;00m, split=\u001b[33m'\u001b[39;49;00m\u001b[33mtrain\u001b[39;49;00m\u001b[33m'\u001b[39;49;00m, cache_dir=\u001b[33m'\u001b[39;49;00m\u001b[33m/tmp/cache\u001b[39;49;00m\u001b[33m'\u001b[39;49;00m)\n",
      "logger.info(\u001b[33mf\u001b[39;49;00m\u001b[33m'\u001b[39;49;00m\u001b[33mDataset: \u001b[39;49;00m\u001b[33m{dataset}\u001b[39;49;00m\u001b[33m'\u001b[39;49;00m)\n",
      "\n",
      "\u001b[37m# Split dataset into train and validation splits \u001b[39;49;00m\n",
      "logger.info(\u001b[33m'\u001b[39;49;00m\u001b[33mSplitting dataset into train and validation splits\u001b[39;49;00m\u001b[33m'\u001b[39;49;00m)\n",
      "train_test_splits = dataset.train_test_split(shuffle=\u001b[34mTrue\u001b[39;49;00m, seed=\u001b[34m123\u001b[39;49;00m, test_size=\u001b[34m0.1\u001b[39;49;00m)\n",
      "data_splits = DatasetDict({\u001b[33m'\u001b[39;49;00m\u001b[33mtrain\u001b[39;49;00m\u001b[33m'\u001b[39;49;00m: train_test_splits[\u001b[33m'\u001b[39;49;00m\u001b[33mtrain\u001b[39;49;00m\u001b[33m'\u001b[39;49;00m], \n",
      "                           \u001b[33m'\u001b[39;49;00m\u001b[33mvalidation\u001b[39;49;00m\u001b[33m'\u001b[39;49;00m: train_test_splits[\u001b[33m'\u001b[39;49;00m\u001b[33mtest\u001b[39;49;00m\u001b[33m'\u001b[39;49;00m]})\n",
      "logger.info(\u001b[33mf\u001b[39;49;00m\u001b[33m'\u001b[39;49;00m\u001b[33mData splits: \u001b[39;49;00m\u001b[33m{data_splits}\u001b[39;49;00m\u001b[33m'\u001b[39;49;00m)\n",
      "    \n",
      "    \n",
      "    \u001b[37m# Tokenize dataset\u001b[39;49;00m\n",
      "    \u001b[34mdef\u001b[39;49;00m \u001b[32mtokenize\u001b[39;49;00m(article):\n",
      "        tokenized_article = tokenizer(article[\u001b[33m'\u001b[39;49;00m\u001b[33mtext\u001b[39;49;00m\u001b[33m'\u001b[39;49;00m])\n",
      "        \u001b[34mif\u001b[39;49;00m tokenizer.is_fast:\n",
      "            tokenized_article[\u001b[33m'\u001b[39;49;00m\u001b[33mword_ids\u001b[39;49;00m\u001b[33m'\u001b[39;49;00m] = [tokenized_article.word_ids(i) \u001b[34mfor\u001b[39;49;00m i \u001b[35min\u001b[39;49;00m \u001b[36mrange\u001b[39;49;00m(\u001b[36mlen\u001b[39;49;00m(tokenized_article[\u001b[33m'\u001b[39;49;00m\u001b[33minput_ids\u001b[39;49;00m\u001b[33m'\u001b[39;49;00m]))]\n",
      "        \u001b[34mreturn\u001b[39;49;00m tokenized_article\n",
      "\n",
      "    \n",
      "    logger.info(\u001b[33m'\u001b[39;49;00m\u001b[33mTokenizing dataset splits\u001b[39;49;00m\u001b[33m'\u001b[39;49;00m)\n",
      "    num_proc = \u001b[36mint\u001b[39;49;00m(os.cpu_count()/num_gpus)\n",
      "    tokenized_datasets = data_splits.map(tokenize, batched=\u001b[34mTrue\u001b[39;49;00m, num_proc=num_proc, remove_columns=[\u001b[33m'\u001b[39;49;00m\u001b[33mtext\u001b[39;49;00m\u001b[33m'\u001b[39;49;00m])\n",
      "    logger.info(\u001b[33mf\u001b[39;49;00m\u001b[33m'\u001b[39;49;00m\u001b[33mTokenized datasets: \u001b[39;49;00m\u001b[33m{tokenized_datasets}\u001b[39;49;00m\u001b[33m'\u001b[39;49;00m)\n",
      "\n",
      "    \n",
      "    \u001b[37m# Concat and chunk dataset \u001b[39;49;00m\n",
      "    \u001b[34mdef\u001b[39;49;00m \u001b[32mconcat_and_chunk\u001b[39;49;00m(articles):\n",
      "        \u001b[37m# Concatenate all texts\u001b[39;49;00m\n",
      "        concatenated_examples = {key: \u001b[36msum\u001b[39;49;00m(articles[key], []) \u001b[34mfor\u001b[39;49;00m key \u001b[35min\u001b[39;49;00m articles.keys()}\n",
      "        \u001b[37m# Compute length of concatenated texts\u001b[39;49;00m\n",
      "        total_length = \u001b[36mlen\u001b[39;49;00m(concatenated_examples[\u001b[36mlist\u001b[39;49;00m(articles.keys())[\u001b[34m0\u001b[39;49;00m]])\n",
      "        \u001b[37m# We drop the last chunk if it's smaller than chunk_size\u001b[39;49;00m\n",
      "        total_length = (total_length//CHUNK_SIZE) * CHUNK_SIZE\n",
      "        \u001b[37m# Split by chunks of max_len\u001b[39;49;00m\n",
      "        chunked_articles = {key: [text[i : i+CHUNK_SIZE] \u001b[34mfor\u001b[39;49;00m i \u001b[35min\u001b[39;49;00m \u001b[36mrange\u001b[39;49;00m(\u001b[34m0\u001b[39;49;00m, total_length, CHUNK_SIZE)] \u001b[34mfor\u001b[39;49;00m key, text \u001b[35min\u001b[39;49;00m concatenated_examples.items()}\n",
      "        \u001b[37m# Create a new labels column\u001b[39;49;00m\n",
      "        chunked_articles[\u001b[33m'\u001b[39;49;00m\u001b[33mlabels\u001b[39;49;00m\u001b[33m'\u001b[39;49;00m] = chunked_articles[\u001b[33m'\u001b[39;49;00m\u001b[33minput_ids\u001b[39;49;00m\u001b[33m'\u001b[39;49;00m].copy()\n",
      "        \u001b[34mreturn\u001b[39;49;00m chunked_articles\n",
      "    \n",
      "    logger.info(\u001b[33m'\u001b[39;49;00m\u001b[33mConcatenating and chunking the datasets to a fixed length\u001b[39;49;00m\u001b[33m'\u001b[39;49;00m)\n",
      "    chunked_datasets = tokenized_datasets.map(concat_and_chunk, batched=\u001b[34mTrue\u001b[39;49;00m, num_proc=num_proc)\n"
     ]
    }
   ],
   "source": [
    "!pygmentize -v ./src/preprocess_data.py"
   ]
  },
  {
   "cell_type": "code",
   "execution_count": null,
   "id": "b8810dfc-b589-42ed-a94c-e79d4c69b144",
   "metadata": {},
   "outputs": [],
   "source": []
  }
 ],
 "metadata": {
  "instance_type": "ml.t3.medium",
  "kernelspec": {
   "display_name": "Python 3 (Data Science)",
   "language": "python",
   "name": "python3__SAGEMAKER_INTERNAL__arn:aws:sagemaker:us-east-1:081325390199:image/datascience-1.0"
  },
  "language_info": {
   "codemirror_mode": {
    "name": "ipython",
    "version": 3
   },
   "file_extension": ".py",
   "mimetype": "text/x-python",
   "name": "python",
   "nbconvert_exporter": "python",
   "pygments_lexer": "ipython3",
   "version": "3.7.10"
  }
 },
 "nbformat": 4,
 "nbformat_minor": 5
}
