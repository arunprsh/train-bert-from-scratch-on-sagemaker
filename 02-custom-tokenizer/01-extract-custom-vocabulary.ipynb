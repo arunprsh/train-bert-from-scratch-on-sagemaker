{
 "cells": [
  {
   "cell_type": "markdown",
   "id": "9c2aba35-aba6-4f58-9842-b4b5b86a0c2c",
   "metadata": {},
   "source": [
    "#### Prerequisites "
   ]
  },
  {
   "cell_type": "code",
   "execution_count": 2,
   "id": "e86f3dfb-48fe-4ad2-b162-94e71d5a6eaa",
   "metadata": {},
   "outputs": [],
   "source": [
    "%%capture \n",
    "\n",
    "!pip install sagemake==2.100.0\n",
    "!pip install jedi==0.17  # This is a requirement for pygmentize to work"
   ]
  },
  {
   "cell_type": "markdown",
   "id": "b36e7735-e3d5-4511-b017-9ec68c088e5f",
   "metadata": {},
   "source": [
    "#### Imports "
   ]
  },
  {
   "cell_type": "code",
   "execution_count": 3,
   "id": "0b1ab692-abcf-439c-a674-37707eacb1c7",
   "metadata": {},
   "outputs": [],
   "source": [
    "from sagemaker.huggingface import HuggingFaceProcessor\n",
    "from sagemaker.processing import ProcessingOutput\n",
    "from sagemaker.processing import ProcessingInput\n",
    "from sagemaker import get_execution_role\n",
    "from sagemaker import Session\n",
    "import sagemaker\n",
    "import logging"
   ]
  },
  {
   "cell_type": "markdown",
   "id": "971716f5-bb75-4881-93c2-9ae077964dff",
   "metadata": {},
   "source": [
    "##### Setup logging"
   ]
  },
  {
   "cell_type": "code",
   "execution_count": 4,
   "id": "e8568de2-de48-4be6-a413-d5c01acbd108",
   "metadata": {},
   "outputs": [],
   "source": [
    "logger = logging.getLogger('sagemaker')\n",
    "logger.setLevel(logging.DEBUG)\n",
    "logger.addHandler(logging.StreamHandler())"
   ]
  },
  {
   "cell_type": "markdown",
   "id": "29ce5c6d-157a-4326-b81b-8175c981a7a8",
   "metadata": {},
   "source": [
    "##### Log versions of dependencies"
   ]
  },
  {
   "cell_type": "code",
   "execution_count": 5,
   "id": "0d9545d0-aad8-4499-ae2b-18653b73be30",
   "metadata": {},
   "outputs": [
    {
     "name": "stderr",
     "output_type": "stream",
     "text": [
      "[Using SageMaker version: 2.95.0]\n"
     ]
    }
   ],
   "source": [
    "logger.info(f'[Using SageMaker version: {sagemaker.__version__}]')"
   ]
  },
  {
   "cell_type": "markdown",
   "id": "1b5e67d4-0e0a-44e9-94d9-8be0c0756012",
   "metadata": {},
   "source": [
    "#### Essentials "
   ]
  },
  {
   "cell_type": "code",
   "execution_count": 6,
   "id": "d373f22a-5a96-4bb0-afe4-ae4fcd8fda11",
   "metadata": {},
   "outputs": [
    {
     "name": "stderr",
     "output_type": "stream",
     "text": [
      "S3 bucket = sagemaker-us-east-1-119174016168\n"
     ]
    }
   ],
   "source": [
    "session = Session()\n",
    "S3_BUCKET = session.default_bucket()\n",
    "logger.info(f'S3 bucket = {S3_BUCKET}')\n",
    "ROLE = get_execution_role()\n",
    "\n",
    "S3_INPUT = 'data/covid_articles.txt'\n",
    "S3_OUTPUT = 'data/vocab'\n",
    "INSTANCE_TYPE = 'ml.g4dn.xlarge'\n",
    "INSTANCE_COUNT = 1\n",
    "PYTHON_VERSION = '1.6.0'\n",
    "TRANSFORMERS_VERSION = '4.4.2'\n",
    "BASE_JOB_NAME = 'hf-sagemaker-processor'\n",
    "SOURCE_DIR = './src'\n",
    "CODE = 'process.py'"
   ]
  },
  {
   "cell_type": "markdown",
   "id": "12a9bf82-bbb7-4934-9f0d-9f0e531329ee",
   "metadata": {},
   "source": [
    "#### View processing script"
   ]
  },
  {
   "cell_type": "code",
   "execution_count": 7,
   "id": "a3523cde-150e-4a1d-8c52-f20f110f0655",
   "metadata": {},
   "outputs": [
    {
     "name": "stdout",
     "output_type": "stream",
     "text": [
      "\u001b[34mfrom\u001b[39;49;00m \u001b[04m\u001b[36mtokenizers\u001b[39;49;00m \u001b[34mimport\u001b[39;49;00m BertWordPieceTokenizer\n",
      "\u001b[34mfrom\u001b[39;49;00m \u001b[04m\u001b[36mpathlib\u001b[39;49;00m \u001b[34mimport\u001b[39;49;00m Path\n",
      "\u001b[34mimport\u001b[39;49;00m \u001b[04m\u001b[36mtransformers\u001b[39;49;00m \n",
      "\u001b[34mimport\u001b[39;49;00m \u001b[04m\u001b[36mtokenizers\u001b[39;49;00m\n",
      "\u001b[34mimport\u001b[39;49;00m \u001b[04m\u001b[36mlogging\u001b[39;49;00m\n",
      "\u001b[34mimport\u001b[39;49;00m \u001b[04m\u001b[36msys\u001b[39;49;00m\n",
      "\u001b[34mimport\u001b[39;49;00m \u001b[04m\u001b[36mos\u001b[39;49;00m\n",
      "\n",
      "\u001b[37m# Setup logging\u001b[39;49;00m\n",
      "logger = logging.getLogger(\u001b[31m__name__\u001b[39;49;00m)\n",
      "logging.basicConfig(level=logging.getLevelName(\u001b[33m'\u001b[39;49;00m\u001b[33mINFO\u001b[39;49;00m\u001b[33m'\u001b[39;49;00m), \n",
      "                    handlers=[logging.StreamHandler(sys.stdout)], \n",
      "                    \u001b[36mformat\u001b[39;49;00m=\u001b[33m'\u001b[39;49;00m\u001b[33m%(asctime)s\u001b[39;49;00m\u001b[33m - \u001b[39;49;00m\u001b[33m%(name)s\u001b[39;49;00m\u001b[33m - \u001b[39;49;00m\u001b[33m%(levelname)s\u001b[39;49;00m\u001b[33m - \u001b[39;49;00m\u001b[33m%(message)s\u001b[39;49;00m\u001b[33m'\u001b[39;49;00m)\n",
      "\n",
      "\u001b[37m# Log versions of dependencies\u001b[39;49;00m\n",
      "logger.info(\u001b[33mf\u001b[39;49;00m\u001b[33m'\u001b[39;49;00m\u001b[33m[Using Transformers: \u001b[39;49;00m\u001b[33m{transformers.__version__}\u001b[39;49;00m\u001b[33m]\u001b[39;49;00m\u001b[33m'\u001b[39;49;00m)\n",
      "logger.info(\u001b[33mf\u001b[39;49;00m\u001b[33m'\u001b[39;49;00m\u001b[33m[Using Tokenizers: \u001b[39;49;00m\u001b[33m{tokenizers.__version__}\u001b[39;49;00m\u001b[33m]\u001b[39;49;00m\u001b[33m'\u001b[39;49;00m)\n",
      "\n",
      "\u001b[37m# Essentials\u001b[39;49;00m\n",
      "\u001b[37m# is mapped to S3 input location for covid articles \u001b[39;49;00m\n",
      "LOCAL_INPUT_PATH = \u001b[33m'\u001b[39;49;00m\u001b[33m/opt/ml/processing/input\u001b[39;49;00m\u001b[33m'\u001b[39;49;00m \n",
      "\u001b[37m# is mapped to S3 output location where we want to save the custom vocabulary from the trained tokenizer\u001b[39;49;00m\n",
      "LOCAL_OUTPUT_PATH = \u001b[33m'\u001b[39;49;00m\u001b[33m/opt/ml/processing/output\u001b[39;49;00m\u001b[33m'\u001b[39;49;00m\n",
      "VOCAB_SIZE = \u001b[34m30522\u001b[39;49;00m\n",
      "\n",
      "\u001b[37m# Read input files from local input path \u001b[39;49;00m\n",
      "logger.info(\u001b[33mf\u001b[39;49;00m\u001b[33m'\u001b[39;49;00m\u001b[33mReading input files from \u001b[39;49;00m\u001b[33m{LOCAL_INPUT_PATH}\u001b[39;49;00m\u001b[33m'\u001b[39;49;00m)\n",
      "paths = [\u001b[36mstr\u001b[39;49;00m(x) \u001b[34mfor\u001b[39;49;00m x \u001b[35min\u001b[39;49;00m Path(LOCAL_INPUT_PATH).glob(\u001b[33m'\u001b[39;49;00m\u001b[33m*.txt\u001b[39;49;00m\u001b[33m'\u001b[39;49;00m)]\n",
      "\n",
      "\u001b[37m# Train custom BertWordPiece tokenizer\u001b[39;49;00m\n",
      "logger.info(\u001b[33mf\u001b[39;49;00m\u001b[33m'\u001b[39;49;00m\u001b[33mTraining BertWordPiece custom tokenizer using files in \u001b[39;49;00m\u001b[33m{paths}\u001b[39;49;00m\u001b[33m'\u001b[39;49;00m)\n",
      "tokenizer = BertWordPieceTokenizer()\n",
      "tokenizer.train(files=paths, vocab_size=VOCAB_SIZE)\n",
      "\n",
      "\u001b[37m# Save trained custom tokenizer to local output path\u001b[39;49;00m\n",
      "logger.info(\u001b[33mf\u001b[39;49;00m\u001b[33m'\u001b[39;49;00m\u001b[33mSaving extracted custom vocabulary to \u001b[39;49;00m\u001b[33m{LOCAL_OUTPUT_PATH}\u001b[39;49;00m\u001b[33m'\u001b[39;49;00m)\n",
      "tokenizer.save_model(LOCAL_OUTPUT_PATH)\n",
      "\n",
      "\u001b[37m# Re-create custom tokenizer using vocab from local output path\u001b[39;49;00m\n",
      "logger.info(\u001b[33mf\u001b[39;49;00m\u001b[33m'\u001b[39;49;00m\u001b[33mRe-create BertWordPiece custom tokenizer using extracted custom vocab in \u001b[39;49;00m\u001b[33m{LOCAL_OUTPUT_PATH}\u001b[39;49;00m\u001b[33m'\u001b[39;49;00m)\n",
      "tokenizer = BertWordPieceTokenizer(\u001b[33mf\u001b[39;49;00m\u001b[33m'\u001b[39;49;00m\u001b[33m{LOCAL_OUTPUT_PATH}\u001b[39;49;00m\u001b[33m/vocab.txt\u001b[39;49;00m\u001b[33m'\u001b[39;49;00m)\n",
      "\n",
      "\u001b[37m# Evaluating custom tokenizer \u001b[39;49;00m\n",
      "logger.info(\u001b[33m'\u001b[39;49;00m\u001b[33mEvaluating custom tokenizer\u001b[39;49;00m\u001b[33m'\u001b[39;49;00m)\n",
      "test_sentence = \u001b[33m'\u001b[39;49;00m\u001b[33mcovid19 is a virus\u001b[39;49;00m\u001b[33m'\u001b[39;49;00m\n",
      "logger.info(\u001b[33mf\u001b[39;49;00m\u001b[33m'\u001b[39;49;00m\u001b[33mTest sentence = \u001b[39;49;00m\u001b[33m{test_sentence}\u001b[39;49;00m\u001b[33m'\u001b[39;49;00m)\n",
      "tokens = tokenizer.encode(test_sentence).tokens\n",
      "logger.info(\u001b[33m'\u001b[39;49;00m\u001b[33mEncoded sentence = \u001b[39;49;00m\u001b[33m{tokens}\u001b[39;49;00m\u001b[33m'\u001b[39;49;00m)\n",
      "token_id = tokenizer.token_to_id(\u001b[33m'\u001b[39;49;00m\u001b[33mcovid19\u001b[39;49;00m\u001b[33m'\u001b[39;49;00m)\n",
      "logger.info(\u001b[33mf\u001b[39;49;00m\u001b[33m'\u001b[39;49;00m\u001b[33mToken ID for token (covid19) = \u001b[39;49;00m\u001b[33m{token_id}\u001b[39;49;00m\u001b[33m'\u001b[39;49;00m)\n",
      "vocab_size = tokenizer.get_vocab_size()\n",
      "logger.info(\u001b[33mf\u001b[39;49;00m\u001b[33m'\u001b[39;49;00m\u001b[33mVocabulary size = \u001b[39;49;00m\u001b[33m{vocab_size}\u001b[39;49;00m\u001b[33m'\u001b[39;49;00m)\n"
     ]
    }
   ],
   "source": [
    "!pygmentize -v ./src/process.py"
   ]
  },
  {
   "cell_type": "markdown",
   "id": "008c4382-92ff-4962-9492-0c72cda871eb",
   "metadata": {},
   "source": [
    "#### Create HuggingFace Processor"
   ]
  },
  {
   "cell_type": "code",
   "execution_count": 8,
   "id": "db3fb6db-b328-48a4-a340-886418d68fea",
   "metadata": {},
   "outputs": [],
   "source": [
    "processor = HuggingFaceProcessor(role=ROLE, \n",
    "                                 instance_type=INSTANCE_TYPE, \n",
    "                                 instance_count=INSTANCE_COUNT, \n",
    "                                 transformers_version=TRANSFORMERS_VERSION, \n",
    "                                 pytorch_version=PYTHON_VERSION, \n",
    "                                 base_job_name=BASE_JOB_NAME)"
   ]
  },
  {
   "cell_type": "markdown",
   "id": "8ba988f8-e04a-472c-9b47-631f75247923",
   "metadata": {},
   "source": [
    "#### Run SageMaker Processing Job"
   ]
  },
  {
   "cell_type": "code",
   "execution_count": 9,
   "id": "c24b366f-696f-47f8-ad07-54cdfd83d23b",
   "metadata": {},
   "outputs": [
    {
     "name": "stderr",
     "output_type": "stream",
     "text": [
      "Uploaded ./src to s3://sagemaker-us-east-1-119174016168/hf-sagemaker-processor-2022-08-03-14-09-42-721/source/sourcedir.tar.gz\n",
      "runproc.sh uploaded to s3://sagemaker-us-east-1-119174016168/hf-sagemaker-processor-2022-08-03-14-09-42-721/source/runproc.sh\n",
      "Creating processing-job with name hf-sagemaker-processor-2022-08-03-14-09-42-721\n",
      "process request: {\n",
      "    \"ProcessingJobName\": \"hf-sagemaker-processor-2022-08-03-14-09-42-721\",\n",
      "    \"ProcessingResources\": {\n",
      "        \"ClusterConfig\": {\n",
      "            \"InstanceType\": \"ml.g4dn.xlarge\",\n",
      "            \"InstanceCount\": 1,\n",
      "            \"VolumeSizeInGB\": 30\n",
      "        }\n",
      "    },\n",
      "    \"AppSpecification\": {\n",
      "        \"ImageUri\": \"763104351884.dkr.ecr.us-east-1.amazonaws.com/huggingface-pytorch-training:1.6.0-transformers4.4.2-gpu-py36-cu110-ubuntu18.04\",\n",
      "        \"ContainerEntrypoint\": [\n",
      "            \"/bin/bash\",\n",
      "            \"/opt/ml/processing/input/entrypoint/runproc.sh\"\n",
      "        ]\n",
      "    },\n",
      "    \"RoleArn\": \"arn:aws:iam::119174016168:role/service-role/AmazonSageMaker-ExecutionRole-20211014T093628\",\n",
      "    \"ProcessingInputs\": [\n",
      "        {\n",
      "            \"InputName\": \"articles\",\n",
      "            \"AppManaged\": false,\n",
      "            \"S3Input\": {\n",
      "                \"S3Uri\": \"s3://sagemaker-us-east-1-119174016168/data/covid_articles.txt\",\n",
      "                \"LocalPath\": \"/opt/ml/processing/input\",\n",
      "                \"S3DataType\": \"S3Prefix\",\n",
      "                \"S3InputMode\": \"File\",\n",
      "                \"S3DataDistributionType\": \"FullyReplicated\",\n",
      "                \"S3CompressionType\": \"None\"\n",
      "            }\n",
      "        },\n",
      "        {\n",
      "            \"InputName\": \"code\",\n",
      "            \"AppManaged\": false,\n",
      "            \"S3Input\": {\n",
      "                \"S3Uri\": \"s3://sagemaker-us-east-1-119174016168/hf-sagemaker-processor-2022-08-03-14-09-42-721/source/sourcedir.tar.gz\",\n",
      "                \"LocalPath\": \"/opt/ml/processing/input/code/\",\n",
      "                \"S3DataType\": \"S3Prefix\",\n",
      "                \"S3InputMode\": \"File\",\n",
      "                \"S3DataDistributionType\": \"FullyReplicated\",\n",
      "                \"S3CompressionType\": \"None\"\n",
      "            }\n",
      "        },\n",
      "        {\n",
      "            \"InputName\": \"entrypoint\",\n",
      "            \"AppManaged\": false,\n",
      "            \"S3Input\": {\n",
      "                \"S3Uri\": \"s3://sagemaker-us-east-1-119174016168/hf-sagemaker-processor-2022-08-03-14-09-42-721/source/runproc.sh\",\n",
      "                \"LocalPath\": \"/opt/ml/processing/input/entrypoint\",\n",
      "                \"S3DataType\": \"S3Prefix\",\n",
      "                \"S3InputMode\": \"File\",\n",
      "                \"S3DataDistributionType\": \"FullyReplicated\",\n",
      "                \"S3CompressionType\": \"None\"\n",
      "            }\n",
      "        }\n",
      "    ],\n",
      "    \"ProcessingOutputConfig\": {\n",
      "        \"Outputs\": [\n",
      "            {\n",
      "                \"OutputName\": \"custom vocab\",\n",
      "                \"AppManaged\": false,\n",
      "                \"S3Output\": {\n",
      "                    \"S3Uri\": \"s3://sagemaker-us-east-1-119174016168/data/vocab\",\n",
      "                    \"LocalPath\": \"/opt/ml/processing/output\",\n",
      "                    \"S3UploadMode\": \"EndOfJob\"\n",
      "                }\n",
      "            }\n",
      "        ]\n",
      "    }\n",
      "}\n"
     ]
    },
    {
     "name": "stdout",
     "output_type": "stream",
     "text": [
      "\n",
      "Job Name:  hf-sagemaker-processor-2022-08-03-14-09-42-721\n",
      "Inputs:  [{'InputName': 'articles', 'AppManaged': False, 'S3Input': {'S3Uri': 's3://sagemaker-us-east-1-119174016168/data/covid_articles.txt', 'LocalPath': '/opt/ml/processing/input', 'S3DataType': 'S3Prefix', 'S3InputMode': 'File', 'S3DataDistributionType': 'FullyReplicated', 'S3CompressionType': 'None'}}, {'InputName': 'code', 'AppManaged': False, 'S3Input': {'S3Uri': 's3://sagemaker-us-east-1-119174016168/hf-sagemaker-processor-2022-08-03-14-09-42-721/source/sourcedir.tar.gz', 'LocalPath': '/opt/ml/processing/input/code/', 'S3DataType': 'S3Prefix', 'S3InputMode': 'File', 'S3DataDistributionType': 'FullyReplicated', 'S3CompressionType': 'None'}}, {'InputName': 'entrypoint', 'AppManaged': False, 'S3Input': {'S3Uri': 's3://sagemaker-us-east-1-119174016168/hf-sagemaker-processor-2022-08-03-14-09-42-721/source/runproc.sh', 'LocalPath': '/opt/ml/processing/input/entrypoint', 'S3DataType': 'S3Prefix', 'S3InputMode': 'File', 'S3DataDistributionType': 'FullyReplicated', 'S3CompressionType': 'None'}}]\n",
      "Outputs:  [{'OutputName': 'custom vocab', 'AppManaged': False, 'S3Output': {'S3Uri': 's3://sagemaker-us-east-1-119174016168/data/vocab', 'LocalPath': '/opt/ml/processing/output', 'S3UploadMode': 'EndOfJob'}}]\n",
      ".................................\u001b[34mWARNING: Skipping typing as it is not installed.\u001b[0m\n",
      "\u001b[34mRequirement already satisfied: transformers==4.4.2 in /opt/conda/lib/python3.6/site-packages (from -r requirements.txt (line 1)) (4.4.2)\u001b[0m\n",
      "\u001b[34mRequirement already satisfied: tokenizers==0.10.1 in /opt/conda/lib/python3.6/site-packages (from -r requirements.txt (line 2)) (0.10.1)\u001b[0m\n",
      "\u001b[34mRequirement already satisfied: importlib-metadata in /opt/conda/lib/python3.6/site-packages (from transformers==4.4.2->-r requirements.txt (line 1)) (3.5.0)\u001b[0m\n",
      "\u001b[34mRequirement already satisfied: regex!=2019.12.17 in /opt/conda/lib/python3.6/site-packages (from transformers==4.4.2->-r requirements.txt (line 1)) (2021.3.17)\u001b[0m\n",
      "\u001b[34mRequirement already satisfied: tqdm>=4.27 in /opt/conda/lib/python3.6/site-packages (from transformers==4.4.2->-r requirements.txt (line 1)) (4.49.0)\u001b[0m\n",
      "\u001b[34mRequirement already satisfied: numpy>=1.17 in /opt/conda/lib/python3.6/site-packages (from transformers==4.4.2->-r requirements.txt (line 1)) (1.19.1)\u001b[0m\n",
      "\u001b[34mRequirement already satisfied: filelock in /opt/conda/lib/python3.6/site-packages (from transformers==4.4.2->-r requirements.txt (line 1)) (3.0.12)\u001b[0m\n",
      "\u001b[34mRequirement already satisfied: requests in /opt/conda/lib/python3.6/site-packages (from transformers==4.4.2->-r requirements.txt (line 1)) (2.25.1)\u001b[0m\n",
      "\u001b[34mRequirement already satisfied: packaging in /opt/conda/lib/python3.6/site-packages (from transformers==4.4.2->-r requirements.txt (line 1)) (20.9)\u001b[0m\n",
      "\u001b[34mRequirement already satisfied: dataclasses in /opt/conda/lib/python3.6/site-packages (from transformers==4.4.2->-r requirements.txt (line 1)) (0.8)\u001b[0m\n",
      "\u001b[34mRequirement already satisfied: sacremoses in /opt/conda/lib/python3.6/site-packages (from transformers==4.4.2->-r requirements.txt (line 1)) (0.0.43)\u001b[0m\n",
      "\u001b[34mRequirement already satisfied: zipp>=0.5 in /opt/conda/lib/python3.6/site-packages (from importlib-metadata->transformers==4.4.2->-r requirements.txt (line 1)) (3.4.0)\u001b[0m\n",
      "\u001b[34mRequirement already satisfied: typing-extensions>=3.6.4 in /opt/conda/lib/python3.6/site-packages (from importlib-metadata->transformers==4.4.2->-r requirements.txt (line 1)) (3.7.4.3)\u001b[0m\n",
      "\u001b[34mRequirement already satisfied: pyparsing>=2.0.2 in /opt/conda/lib/python3.6/site-packages (from packaging->transformers==4.4.2->-r requirements.txt (line 1)) (2.4.7)\u001b[0m\n",
      "\u001b[34mRequirement already satisfied: urllib3<1.27,>=1.21.1 in /opt/conda/lib/python3.6/site-packages (from requests->transformers==4.4.2->-r requirements.txt (line 1)) (1.25.11)\u001b[0m\n",
      "\u001b[34mRequirement already satisfied: chardet<5,>=3.0.2 in /opt/conda/lib/python3.6/site-packages (from requests->transformers==4.4.2->-r requirements.txt (line 1)) (3.0.4)\u001b[0m\n",
      "\u001b[34mRequirement already satisfied: certifi>=2017.4.17 in /opt/conda/lib/python3.6/site-packages (from requests->transformers==4.4.2->-r requirements.txt (line 1)) (2020.12.5)\u001b[0m\n",
      "\u001b[34mRequirement already satisfied: idna<3,>=2.5 in /opt/conda/lib/python3.6/site-packages (from requests->transformers==4.4.2->-r requirements.txt (line 1)) (2.10)\u001b[0m\n",
      "\u001b[34mRequirement already satisfied: click in /opt/conda/lib/python3.6/site-packages (from sacremoses->transformers==4.4.2->-r requirements.txt (line 1)) (7.1.2)\u001b[0m\n",
      "\u001b[34mRequirement already satisfied: joblib in /opt/conda/lib/python3.6/site-packages (from sacremoses->transformers==4.4.2->-r requirements.txt (line 1)) (1.0.1)\u001b[0m\n",
      "\u001b[34mRequirement already satisfied: six in /opt/conda/lib/python3.6/site-packages (from sacremoses->transformers==4.4.2->-r requirements.txt (line 1)) (1.15.0)\u001b[0m\n",
      "\u001b[34m2022-08-03 14:15:02,573 - __main__ - INFO - [Using Transformers: 4.4.2]\u001b[0m\n",
      "\u001b[34m2022-08-03 14:15:02,573 - __main__ - INFO - [Using Tokenizers: 0.10.1]\u001b[0m\n",
      "\u001b[34m2022-08-03 14:15:02,573 - __main__ - INFO - Reading input files from /opt/ml/processing/input\u001b[0m\n",
      "\u001b[34m2022-08-03 14:15:02,574 - __main__ - INFO - Training BertWordPiece custom tokenizer using files in ['/opt/ml/processing/input/covid_articles.txt']\u001b[0m\n",
      "\u001b[34m2022-08-03 14:24:55,655 - __main__ - INFO - Saving extracted custom vocabulary to /opt/ml/processing/output\u001b[0m\n",
      "\u001b[34m2022-08-03 14:24:55,664 - __main__ - INFO - Re-create BertWordPiece custom tokenizer using extracted custom vocab in /opt/ml/processing/output\u001b[0m\n",
      "\u001b[34m2022-08-03 14:24:55,683 - __main__ - INFO - Evaluating custom tokenizer\u001b[0m\n",
      "\u001b[34m2022-08-03 14:24:55,684 - __main__ - INFO - Test sentence = covid19 is a virus\u001b[0m\n",
      "\u001b[34m2022-08-03 14:24:55,684 - __main__ - INFO - Encoded sentence = {tokens}\u001b[0m\n",
      "\u001b[34m2022-08-03 14:24:55,684 - __main__ - INFO - Token ID for token (covid19) = 11556\u001b[0m\n",
      "\u001b[34m2022-08-03 14:24:55,684 - __main__ - INFO - Vocabulary size = 30522\u001b[0m\n",
      "\n",
      "CPU times: user 1.74 s, sys: 77.5 ms, total: 1.82 s\n",
      "Wall time: 16min 2s\n"
     ]
    }
   ],
   "source": [
    "%%time\n",
    "\n",
    "processor.run(code=CODE, \n",
    "              source_dir=SOURCE_DIR,\n",
    "              inputs=[ProcessingInput(input_name='articles', \n",
    "                                      source=f's3://{S3_BUCKET}/{S3_INPUT}', \n",
    "                                      destination='/opt/ml/processing/input')],\n",
    "              outputs=[ProcessingOutput(output_name='custom vocab', \n",
    "                                        source='/opt/ml/processing/output', \n",
    "                                        destination=f's3://{S3_BUCKET}/{S3_OUTPUT}')])"
   ]
  },
  {
   "cell_type": "code",
   "execution_count": null,
   "id": "3ed8e80c-70b1-4880-b3f8-906ad358bb29",
   "metadata": {},
   "outputs": [],
   "source": []
  }
 ],
 "metadata": {
  "instance_type": "ml.g4dn.xlarge",
  "kernelspec": {
   "display_name": "Python 3 (Data Science)",
   "language": "python",
   "name": "python3__SAGEMAKER_INTERNAL__arn:aws:sagemaker:us-east-1:081325390199:image/datascience-1.0"
  },
  "language_info": {
   "codemirror_mode": {
    "name": "ipython",
    "version": 3
   },
   "file_extension": ".py",
   "mimetype": "text/x-python",
   "name": "python",
   "nbconvert_exporter": "python",
   "pygments_lexer": "ipython3",
   "version": "3.7.10"
  }
 },
 "nbformat": 4,
 "nbformat_minor": 5
}
