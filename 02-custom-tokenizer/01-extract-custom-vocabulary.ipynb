{
 "cells": [
  {
   "cell_type": "markdown",
   "id": "9c2aba35-aba6-4f58-9842-b4b5b86a0c2c",
   "metadata": {},
   "source": [
    "#### Prerequisites "
   ]
  },
  {
   "cell_type": "code",
   "execution_count": null,
   "id": "e86f3dfb-48fe-4ad2-b162-94e71d5a6eaa",
   "metadata": {},
   "outputs": [],
   "source": [
    "%%capture \n",
    "\n",
    "!pip install sagemake==2.100.0\n",
    "!pip install jedi==0.17  # this is a requirement for pygmentize to work"
   ]
  },
  {
   "cell_type": "markdown",
   "id": "b36e7735-e3d5-4511-b017-9ec68c088e5f",
   "metadata": {},
   "source": [
    "#### Imports "
   ]
  },
  {
   "cell_type": "code",
   "execution_count": null,
   "id": "0b1ab692-abcf-439c-a674-37707eacb1c7",
   "metadata": {},
   "outputs": [],
   "source": [
    "from sagemaker.processing import ProcessingInput, ProcessingOutput\n",
    "from sagemaker.huggingface import HuggingFaceProcessor\n",
    "from sagemaker import get_execution_role\n",
    "import sagemaker\n",
    "import logging"
   ]
  },
  {
   "cell_type": "code",
   "execution_count": null,
   "id": "e8568de2-de48-4be6-a413-d5c01acbd108",
   "metadata": {},
   "outputs": [],
   "source": [
    "logger = logging.getLogger('sagemaker')\n",
    "logger.setLevel(logging.DEBUG)\n",
    "logger.addHandler(logging.StreamHandler())"
   ]
  },
  {
   "cell_type": "code",
   "execution_count": null,
   "id": "0d9545d0-aad8-4499-ae2b-18653b73be30",
   "metadata": {},
   "outputs": [],
   "source": [
    "logger.info(f'[Using SageMaker version: {sagemaker.__version__}]')"
   ]
  },
  {
   "cell_type": "markdown",
   "id": "1b5e67d4-0e0a-44e9-94d9-8be0c0756012",
   "metadata": {},
   "source": [
    "#### Essentials "
   ]
  },
  {
   "cell_type": "code",
   "execution_count": null,
   "id": "d373f22a-5a96-4bb0-afe4-ae4fcd8fda11",
   "metadata": {},
   "outputs": [],
   "source": [
    "ROLE = get_execution_role()\n",
    "BUCKET = 'sagemaker-us-east-1-119174016168'\n",
    "S3_INPUT_PATH = 'corpus'\n",
    "S3_OUTPUT_PATH = 'tokenizer'"
   ]
  },
  {
   "cell_type": "markdown",
   "id": "12a9bf82-bbb7-4934-9f0d-9f0e531329ee",
   "metadata": {},
   "source": [
    "#### View processing script"
   ]
  },
  {
   "cell_type": "code",
   "execution_count": null,
   "id": "a3523cde-150e-4a1d-8c52-f20f110f0655",
   "metadata": {},
   "outputs": [],
   "source": [
    "!pygmentize -v ./src/extract_custom_vocabulary.py"
   ]
  },
  {
   "cell_type": "markdown",
   "id": "008c4382-92ff-4962-9492-0c72cda871eb",
   "metadata": {},
   "source": [
    "#### Create HuggingFace Processor"
   ]
  },
  {
   "cell_type": "code",
   "execution_count": null,
   "id": "db3fb6db-b328-48a4-a340-886418d68fea",
   "metadata": {},
   "outputs": [],
   "source": [
    "processor = HuggingFaceProcessor(role=ROLE, \n",
    "                                 instance_count=1, \n",
    "                                 instance_type='ml.g4dn.xlarge', \n",
    "                                 transformers_version='4.4.2', \n",
    "                                 pytorch_version='1.6.0', \n",
    "                                 base_job_name='hf-processor')"
   ]
  },
  {
   "cell_type": "markdown",
   "id": "8ba988f8-e04a-472c-9b47-631f75247923",
   "metadata": {},
   "source": [
    "#### Run SageMaker Processing Job"
   ]
  },
  {
   "cell_type": "code",
   "execution_count": null,
   "id": "c24b366f-696f-47f8-ad07-54cdfd83d23b",
   "metadata": {},
   "outputs": [],
   "source": [
    "processor.run(code='extract_custom_vocabulary.py', \n",
    "              source_dir='src',\n",
    "              inputs=[ProcessingInput(input_name='data', \n",
    "                                      source=f's3://{BUCKET}/{S3_INPUT_PATH}', \n",
    "                                      destination='/opt/ml/processing/input')],\n",
    "              outputs=[ProcessingOutput(output_name='tokenizer', source='/opt/ml/processing/output/tokenizer', \n",
    "                                        destination=f's3://{BUCKET}/{S3_OUTPUT_PATH}')])"
   ]
  },
  {
   "cell_type": "code",
   "execution_count": null,
   "id": "75efdada-e160-4133-bb4d-8ac46a5745a9",
   "metadata": {},
   "outputs": [],
   "source": []
  },
  {
   "cell_type": "code",
   "execution_count": null,
   "id": "3ed8e80c-70b1-4880-b3f8-906ad358bb29",
   "metadata": {},
   "outputs": [],
   "source": []
  }
 ],
 "metadata": {
  "instance_type": "ml.g4dn.xlarge",
  "kernelspec": {
   "display_name": "Python 3 (PyTorch 1.8 Python 3.6 GPU Optimized)",
   "language": "python",
   "name": "python3__SAGEMAKER_INTERNAL__arn:aws:sagemaker:us-east-1:081325390199:image/pytorch-1.8-gpu-py36"
  },
  "language_info": {
   "codemirror_mode": {
    "name": "ipython",
    "version": 3
   },
   "file_extension": ".py",
   "mimetype": "text/x-python",
   "name": "python",
   "nbconvert_exporter": "python",
   "pygments_lexer": "ipython3",
   "version": "3.6.13"
  }
 },
 "nbformat": 4,
 "nbformat_minor": 5
}
